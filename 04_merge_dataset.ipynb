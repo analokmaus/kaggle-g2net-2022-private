{
 "cells": [
  {
   "cell_type": "code",
   "execution_count": 13,
   "metadata": {},
   "outputs": [
    {
     "name": "stdout",
     "output_type": "stream",
     "text": [
      "The autoreload extension is already loaded. To reload it, use:\n",
      "  %reload_ext autoreload\n"
     ]
    }
   ],
   "source": [
    "%load_ext autoreload\n",
    "%autoreload 2 "
   ]
  },
  {
   "cell_type": "code",
   "execution_count": 14,
   "metadata": {},
   "outputs": [],
   "source": [
    "import numpy as np\n",
    "import pandas as pd"
   ]
  },
  {
   "cell_type": "code",
   "execution_count": 19,
   "metadata": {},
   "outputs": [],
   "source": [
    "# v0_df = pd.read_csv('input/g2net-detecting-continuous-gravitational-waves/v0.csv')[['id', 'target']]\n",
    "# v1_df = pd.read_csv('input/g2net-detecting-continuous-gravitational-waves/v1.csv')[['id', 'target']]\n",
    "# v2_df = pd.read_csv('input/g2net-detecting-continuous-gravitational-waves/v2.csv')[['id', 'target']]\n",
    "# v3_df = pd.read_csv('input/g2net-detecting-continuous-gravitational-waves/v3.csv')[['id', 'target']]\n",
    "# v4_df = pd.read_csv('input/g2net-detecting-continuous-gravitational-waves/v4.csv')[['id', 'target']]\n",
    "# v5_df = pd.read_csv('input/g2net-detecting-continuous-gravitational-waves/v5.csv')[['id', 'target']]\n",
    "# v6_df = pd.read_csv('input/g2net-detecting-continuous-gravitational-waves/v6.csv')[['id', 'target']]\n",
    "v13_df = pd.read_csv('input/g2net-detecting-continuous-gravitational-waves/v13.csv')[['id', 'signal_depth', 'target']]\n",
    "v14_df = pd.read_csv('input/g2net-detecting-continuous-gravitational-waves/v14.csv')[['id', 'signal_depth', 'target']]\n",
    "v15_df = pd.read_csv('input/g2net-detecting-continuous-gravitational-waves/v15.csv')[['id', 'signal_depth', 'target']]\n",
    "# v16_df = pd.read_csv('input/g2net-detecting-continuous-gravitational-waves/v16.csv')[['id', 'signal_depth', 'target']]\n",
    "# v17_df = pd.read_csv('input/g2net-detecting-continuous-gravitational-waves/v17.csv')[['id', 'signal_depth', 'target']]\n",
    "# train = pd.read_csv('input/g2net-detecting-continuous-gravitational-waves/train_labels.csv')\n",
    "test = pd.read_csv('input/g2net-detecting-continuous-gravitational-waves/sample_submission.csv')\n",
    "# train = train.loc[train['target'] != -1]\n",
    "# v2_df = pd.read_csv('input/g2net-detecting-continuous-gravitational-waves/v2.csv')"
   ]
  },
  {
   "cell_type": "code",
   "execution_count": 20,
   "metadata": {},
   "outputs": [],
   "source": [
    "# v0_df['path'] = v0_df['id'].apply(\n",
    "#     lambda x: f'input/g2net-detecting-continuous-gravitational-waves/v0/{x}.pickle')\n",
    "# v1_df['path'] = v1_df['id'].apply(\n",
    "#     lambda x: f'input/g2net-detecting-continuous-gravitational-waves/v1/{x}.pickle')\n",
    "# v2_df['path'] = v2_df['id'].apply(\n",
    "#     lambda x: f'input/g2net-detecting-continuous-gravitational-waves/v2/{x}.pickle')\n",
    "# v3_df['path'] = v3_df['id'].apply(\n",
    "#     lambda x: f'input/g2net-detecting-continuous-gravitational-waves/v3/{x}.pickle')\n",
    "# v4_df['path'] = v4_df['id'].apply(\n",
    "#     lambda x: f'input/g2net-detecting-continuous-gravitational-waves/v4/{x}.pickle')\n",
    "# v5_df['path'] = v5_df['id'].apply(\n",
    "#     lambda x: f'input/g2net-detecting-continuous-gravitational-waves/v5/{x}.pickle')\n",
    "# v6_df['path'] = v6_df['id'].apply(\n",
    "#     lambda x: f'input/g2net-detecting-continuous-gravitational-waves/v6/{x}.pickle')\n",
    "v13_df['path'] = v13_df['id'].apply(\n",
    "    lambda x: f'input/g2net-detecting-continuous-gravitational-waves/v13/{x}.pickle')\n",
    "v14_df['path'] = v14_df['id'].apply(\n",
    "    lambda x: f'input/g2net-detecting-continuous-gravitational-waves/v14/{x}.pickle')\n",
    "v15_df['path'] = v15_df['id'].apply(\n",
    "    lambda x: f'input/g2net-detecting-continuous-gravitational-waves/v15/{x}.pickle')\n",
    "# v16_df['path'] = v16_df['id'].apply(\n",
    "#     lambda x: f'input/g2net-detecting-continuous-gravitational-waves/v16/{x}.pickle')\n",
    "# v17_df['path'] = v17_df['id'].apply(\n",
    "#     lambda x: f'input/g2net-detecting-continuous-gravitational-waves/v17/{x}.pickle')"
   ]
  },
  {
   "cell_type": "code",
   "execution_count": 21,
   "metadata": {},
   "outputs": [],
   "source": [
    "v13_df['group'] = v13_df['id'].apply(lambda x: x.split('_')[0])\n",
    "v14_df['group'] = v14_df['id'].apply(lambda x: x.split('_')[0])\n",
    "v15_df['group'] = v15_df['id'].apply(lambda x: x.split('_')[0])"
   ]
  },
  {
   "cell_type": "code",
   "execution_count": 22,
   "metadata": {},
   "outputs": [],
   "source": [
    "v13_df['id'] = v13_df['id'] + '_v13'\n",
    "v14_df['id'] = v14_df['id'] + '_v14'\n",
    "v15_df['id'] = v15_df['id'] + '_v15'"
   ]
  },
  {
   "cell_type": "code",
   "execution_count": 23,
   "metadata": {},
   "outputs": [],
   "source": [
    "# # pd.concat([v0_df, v1_df, v2_df]).reset_index(drop=True).to_csv(\n",
    "# pd.concat([v1_df, v4_df]).reset_index(drop=True).to_csv(\n",
    "#     'input/g2net-detecting-continuous-gravitational-waves/concat_v1_v4.csv', index=False)\n",
    "\n",
    "# pd.concat([v1_df, v4_df, v5_df]).reset_index(drop=True).to_csv(\n",
    "#     'input/g2net-detecting-continuous-gravitational-waves/concat_v1_v4_v5.csv', index=False)\n",
    "\n",
    "# pd.concat([v1_df, v4_df, v5_df, v6_df]).reset_index(drop=True).to_csv(\n",
    "#     'input/g2net-detecting-continuous-gravitational-waves/concat_v1_v4_v5_v6.csv', index=False)\n",
    "\n",
    "\n",
    "pd.concat([v13_df, v14_df, v15_df]).reset_index(drop=True).to_csv(\n",
    "    'input/g2net-detecting-continuous-gravitational-waves/concat_v13_v14_v15.csv', index=False)\n",
    "\n",
    "# pd.concat([v13_df, v14_df, v15_df, v16_df, v17_df]).reset_index(drop=True).to_csv(\n",
    "#     'input/g2net-detecting-continuous-gravitational-waves/concat_v13_v14_v15_v16_v17.csv', index=False)\n",
    "\n",
    "# pd.concat([v16_df, v17_df]).reset_index(drop=True).to_csv(\n",
    "#     'input/g2net-detecting-continuous-gravitational-waves/concat_v16_v17.csv', index=False)"
   ]
  },
  {
   "cell_type": "code",
   "execution_count": 6,
   "metadata": {},
   "outputs": [
    {
     "data": {
      "text/html": [
       "<div>\n",
       "<style scoped>\n",
       "    .dataframe tbody tr th:only-of-type {\n",
       "        vertical-align: middle;\n",
       "    }\n",
       "\n",
       "    .dataframe tbody tr th {\n",
       "        vertical-align: top;\n",
       "    }\n",
       "\n",
       "    .dataframe thead th {\n",
       "        text-align: right;\n",
       "    }\n",
       "</style>\n",
       "<table border=\"1\" class=\"dataframe\">\n",
       "  <thead>\n",
       "    <tr style=\"text-align: right;\">\n",
       "      <th></th>\n",
       "      <th>id</th>\n",
       "      <th>target</th>\n",
       "      <th>path</th>\n",
       "    </tr>\n",
       "  </thead>\n",
       "  <tbody>\n",
       "    <tr>\n",
       "      <th>0</th>\n",
       "      <td>00054c878</td>\n",
       "      <td>0.5</td>\n",
       "      <td>input/g2net-detecting-continuous-gravitational...</td>\n",
       "    </tr>\n",
       "    <tr>\n",
       "      <th>1</th>\n",
       "      <td>0007285a3</td>\n",
       "      <td>0.5</td>\n",
       "      <td>input/g2net-detecting-continuous-gravitational...</td>\n",
       "    </tr>\n",
       "    <tr>\n",
       "      <th>2</th>\n",
       "      <td>00076c5a6</td>\n",
       "      <td>0.5</td>\n",
       "      <td>input/g2net-detecting-continuous-gravitational...</td>\n",
       "    </tr>\n",
       "    <tr>\n",
       "      <th>3</th>\n",
       "      <td>001349290</td>\n",
       "      <td>0.5</td>\n",
       "      <td>input/g2net-detecting-continuous-gravitational...</td>\n",
       "    </tr>\n",
       "    <tr>\n",
       "      <th>4</th>\n",
       "      <td>001a52e92</td>\n",
       "      <td>0.5</td>\n",
       "      <td>input/g2net-detecting-continuous-gravitational...</td>\n",
       "    </tr>\n",
       "    <tr>\n",
       "      <th>...</th>\n",
       "      <td>...</td>\n",
       "      <td>...</td>\n",
       "      <td>...</td>\n",
       "    </tr>\n",
       "    <tr>\n",
       "      <th>7970</th>\n",
       "      <td>ffbce04ef</td>\n",
       "      <td>0.5</td>\n",
       "      <td>input/g2net-detecting-continuous-gravitational...</td>\n",
       "    </tr>\n",
       "    <tr>\n",
       "      <th>7971</th>\n",
       "      <td>ffc2d976b</td>\n",
       "      <td>0.5</td>\n",
       "      <td>input/g2net-detecting-continuous-gravitational...</td>\n",
       "    </tr>\n",
       "    <tr>\n",
       "      <th>7972</th>\n",
       "      <td>ffc905909</td>\n",
       "      <td>0.5</td>\n",
       "      <td>input/g2net-detecting-continuous-gravitational...</td>\n",
       "    </tr>\n",
       "    <tr>\n",
       "      <th>7973</th>\n",
       "      <td>ffe276f3e</td>\n",
       "      <td>0.5</td>\n",
       "      <td>input/g2net-detecting-continuous-gravitational...</td>\n",
       "    </tr>\n",
       "    <tr>\n",
       "      <th>7974</th>\n",
       "      <td>fffa17f67</td>\n",
       "      <td>0.5</td>\n",
       "      <td>input/g2net-detecting-continuous-gravitational...</td>\n",
       "    </tr>\n",
       "  </tbody>\n",
       "</table>\n",
       "<p>7975 rows × 3 columns</p>\n",
       "</div>"
      ],
      "text/plain": [
       "             id  target                                               path\n",
       "0     00054c878     0.5  input/g2net-detecting-continuous-gravitational...\n",
       "1     0007285a3     0.5  input/g2net-detecting-continuous-gravitational...\n",
       "2     00076c5a6     0.5  input/g2net-detecting-continuous-gravitational...\n",
       "3     001349290     0.5  input/g2net-detecting-continuous-gravitational...\n",
       "4     001a52e92     0.5  input/g2net-detecting-continuous-gravitational...\n",
       "...         ...     ...                                                ...\n",
       "7970  ffbce04ef     0.5  input/g2net-detecting-continuous-gravitational...\n",
       "7971  ffc2d976b     0.5  input/g2net-detecting-continuous-gravitational...\n",
       "7972  ffc905909     0.5  input/g2net-detecting-continuous-gravitational...\n",
       "7973  ffe276f3e     0.5  input/g2net-detecting-continuous-gravitational...\n",
       "7974  fffa17f67     0.5  input/g2net-detecting-continuous-gravitational...\n",
       "\n",
       "[7975 rows x 3 columns]"
      ]
     },
     "execution_count": 6,
     "metadata": {},
     "output_type": "execute_result"
    }
   ],
   "source": [
    "test['path'] = test['id'].apply(\n",
    "    lambda x: f'input/g2net-detecting-continuous-gravitational-waves/test/{x}.pickle')\n",
    "test"
   ]
  },
  {
   "cell_type": "code",
   "execution_count": 9,
   "metadata": {},
   "outputs": [],
   "source": [
    "test.to_csv('input/g2net-detecting-continuous-gravitational-waves/test.csv', index=False)"
   ]
  },
  {
   "cell_type": "code",
   "execution_count": 10,
   "metadata": {},
   "outputs": [],
   "source": [
    "train['path'] = train['id'].apply(\n",
    "    lambda x: f'input/g2net-detecting-continuous-gravitational-waves/train/{x}.pickle')\n",
    "train\n",
    "train.to_csv('input/g2net-detecting-continuous-gravitational-waves/train.csv', index=False)"
   ]
  },
  {
   "cell_type": "code",
   "execution_count": null,
   "metadata": {},
   "outputs": [],
   "source": []
  }
 ],
 "metadata": {
  "kernelspec": {
   "display_name": "Python 3.9.12 64-bit ('g2net2022')",
   "language": "python",
   "name": "python3"
  },
  "language_info": {
   "codemirror_mode": {
    "name": "ipython",
    "version": 3
   },
   "file_extension": ".py",
   "mimetype": "text/x-python",
   "name": "python",
   "nbconvert_exporter": "python",
   "pygments_lexer": "ipython3",
   "version": "3.9.12"
  },
  "orig_nbformat": 4,
  "vscode": {
   "interpreter": {
    "hash": "5dea5685396fbb5c4cb1362c70a04df04e4216ac58fd84021824ed85cc3a5a6a"
   }
  }
 },
 "nbformat": 4,
 "nbformat_minor": 2
}
