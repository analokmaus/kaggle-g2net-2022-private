{
 "cells": [
  {
   "cell_type": "code",
   "execution_count": 1,
   "metadata": {},
   "outputs": [],
   "source": [
    "%load_ext autoreload\n",
    "%autoreload 2"
   ]
  },
  {
   "cell_type": "code",
   "execution_count": 2,
   "metadata": {},
   "outputs": [],
   "source": [
    "import numpy as np\n",
    "import pandas as pd\n",
    "import pickle\n",
    "from pathlib import Path\n",
    "from kuma_utils.utils import sigmoid\n",
    "import matplotlib.pyplot as plt\n",
    "import seaborn as sns\n",
    "from tqdm.notebook import tqdm\n",
    "import multiprocessing\n",
    "\n",
    "from datasets import *\n",
    "from transforms import *\n",
    "import albumentations as A\n",
    "from albumentations.pytorch.transforms import ToTensorV2"
   ]
  },
  {
   "cell_type": "code",
   "execution_count": 3,
   "metadata": {},
   "outputs": [],
   "source": [
    "test = pd.read_csv('input/g2net-detecting-continuous-gravitational-waves/sample_submission.csv')\n",
    "test_summary = pd.read_csv('input/signal_summary.csv')\n",
    "# public748 = pd.read_csv('input/public748.csv')\n",
    "# public716 = pd.read_csv('input/public716.csv')"
   ]
  },
  {
   "cell_type": "code",
   "execution_count": 4,
   "metadata": {},
   "outputs": [],
   "source": [
    "test = pd.concat([test, test_summary.drop('idx', axis=1)], axis=1)"
   ]
  },
  {
   "cell_type": "code",
   "execution_count": 5,
   "metadata": {},
   "outputs": [
    {
     "data": {
      "text/html": [
       "<div>\n",
       "<style scoped>\n",
       "    .dataframe tbody tr th:only-of-type {\n",
       "        vertical-align: middle;\n",
       "    }\n",
       "\n",
       "    .dataframe tbody tr th {\n",
       "        vertical-align: top;\n",
       "    }\n",
       "\n",
       "    .dataframe thead th {\n",
       "        text-align: right;\n",
       "    }\n",
       "</style>\n",
       "<table border=\"1\" class=\"dataframe\">\n",
       "  <thead>\n",
       "    <tr style=\"text-align: right;\">\n",
       "      <th></th>\n",
       "      <th>id</th>\n",
       "      <th>target</th>\n",
       "      <th>ts_start_h1</th>\n",
       "      <th>ts_end_h1</th>\n",
       "      <th>num_gaps_h1</th>\n",
       "      <th>length_h1</th>\n",
       "      <th>max_h1</th>\n",
       "      <th>90%_h1</th>\n",
       "      <th>25%_h1</th>\n",
       "      <th>10%_h1</th>\n",
       "      <th>ts_start_l1</th>\n",
       "      <th>ts_end_l1</th>\n",
       "      <th>num_gaps_l1</th>\n",
       "      <th>length_l1</th>\n",
       "      <th>max_l1</th>\n",
       "      <th>90%_l1</th>\n",
       "      <th>25%_l1</th>\n",
       "      <th>10%_l1</th>\n",
       "    </tr>\n",
       "  </thead>\n",
       "  <tbody>\n",
       "    <tr>\n",
       "      <th>0</th>\n",
       "      <td>00054c878</td>\n",
       "      <td>0.5</td>\n",
       "      <td>1238170136</td>\n",
       "      <td>1248567118</td>\n",
       "      <td>303</td>\n",
       "      <td>4639</td>\n",
       "      <td>36.596880</td>\n",
       "      <td>5.182469</td>\n",
       "      <td>0.648318</td>\n",
       "      <td>0.236532</td>\n",
       "      <td>1238168574</td>\n",
       "      <td>1248561347</td>\n",
       "      <td>324</td>\n",
       "      <td>4566</td>\n",
       "      <td>31.032060</td>\n",
       "      <td>5.172359</td>\n",
       "      <td>0.646489</td>\n",
       "      <td>0.236746</td>\n",
       "    </tr>\n",
       "    <tr>\n",
       "      <th>1</th>\n",
       "      <td>0007285a3</td>\n",
       "      <td>0.5</td>\n",
       "      <td>1238168014</td>\n",
       "      <td>1248520149</td>\n",
       "      <td>319</td>\n",
       "      <td>4427</td>\n",
       "      <td>33.348710</td>\n",
       "      <td>5.185728</td>\n",
       "      <td>0.645892</td>\n",
       "      <td>0.236174</td>\n",
       "      <td>1238169747</td>\n",
       "      <td>1248537247</td>\n",
       "      <td>325</td>\n",
       "      <td>4650</td>\n",
       "      <td>35.349796</td>\n",
       "      <td>5.194143</td>\n",
       "      <td>0.648571</td>\n",
       "      <td>0.237914</td>\n",
       "    </tr>\n",
       "    <tr>\n",
       "      <th>2</th>\n",
       "      <td>00076c5a6</td>\n",
       "      <td>0.5</td>\n",
       "      <td>1238168771</td>\n",
       "      <td>1248535146</td>\n",
       "      <td>281</td>\n",
       "      <td>4599</td>\n",
       "      <td>38.125170</td>\n",
       "      <td>5.181007</td>\n",
       "      <td>0.647001</td>\n",
       "      <td>0.236868</td>\n",
       "      <td>1238172441</td>\n",
       "      <td>1248567481</td>\n",
       "      <td>305</td>\n",
       "      <td>4633</td>\n",
       "      <td>35.410625</td>\n",
       "      <td>5.185566</td>\n",
       "      <td>0.646724</td>\n",
       "      <td>0.237244</td>\n",
       "    </tr>\n",
       "    <tr>\n",
       "      <th>3</th>\n",
       "      <td>001349290</td>\n",
       "      <td>0.5</td>\n",
       "      <td>1238170698</td>\n",
       "      <td>1248536462</td>\n",
       "      <td>295</td>\n",
       "      <td>4609</td>\n",
       "      <td>33.123688</td>\n",
       "      <td>5.186102</td>\n",
       "      <td>0.646682</td>\n",
       "      <td>0.236379</td>\n",
       "      <td>1238166901</td>\n",
       "      <td>1248536964</td>\n",
       "      <td>322</td>\n",
       "      <td>4621</td>\n",
       "      <td>31.477259</td>\n",
       "      <td>5.177888</td>\n",
       "      <td>0.645992</td>\n",
       "      <td>0.237332</td>\n",
       "    </tr>\n",
       "    <tr>\n",
       "      <th>4</th>\n",
       "      <td>001a52e92</td>\n",
       "      <td>0.5</td>\n",
       "      <td>1238166605</td>\n",
       "      <td>1248534994</td>\n",
       "      <td>314</td>\n",
       "      <td>4601</td>\n",
       "      <td>30.006860</td>\n",
       "      <td>5.180545</td>\n",
       "      <td>0.649487</td>\n",
       "      <td>0.237005</td>\n",
       "      <td>1238167190</td>\n",
       "      <td>1248542755</td>\n",
       "      <td>325</td>\n",
       "      <td>4366</td>\n",
       "      <td>31.458930</td>\n",
       "      <td>5.175384</td>\n",
       "      <td>0.647351</td>\n",
       "      <td>0.237881</td>\n",
       "    </tr>\n",
       "    <tr>\n",
       "      <th>...</th>\n",
       "      <td>...</td>\n",
       "      <td>...</td>\n",
       "      <td>...</td>\n",
       "      <td>...</td>\n",
       "      <td>...</td>\n",
       "      <td>...</td>\n",
       "      <td>...</td>\n",
       "      <td>...</td>\n",
       "      <td>...</td>\n",
       "      <td>...</td>\n",
       "      <td>...</td>\n",
       "      <td>...</td>\n",
       "      <td>...</td>\n",
       "      <td>...</td>\n",
       "      <td>...</td>\n",
       "      <td>...</td>\n",
       "      <td>...</td>\n",
       "      <td>...</td>\n",
       "    </tr>\n",
       "    <tr>\n",
       "      <th>7970</th>\n",
       "      <td>ffbce04ef</td>\n",
       "      <td>0.5</td>\n",
       "      <td>1238174572</td>\n",
       "      <td>1248548094</td>\n",
       "      <td>332</td>\n",
       "      <td>4533</td>\n",
       "      <td>34.117268</td>\n",
       "      <td>5.175504</td>\n",
       "      <td>0.645922</td>\n",
       "      <td>0.236845</td>\n",
       "      <td>1238173986</td>\n",
       "      <td>1248589023</td>\n",
       "      <td>318</td>\n",
       "      <td>4634</td>\n",
       "      <td>31.854813</td>\n",
       "      <td>5.188142</td>\n",
       "      <td>0.647497</td>\n",
       "      <td>0.237654</td>\n",
       "    </tr>\n",
       "    <tr>\n",
       "      <th>7971</th>\n",
       "      <td>ffc2d976b</td>\n",
       "      <td>0.5</td>\n",
       "      <td>1238178719</td>\n",
       "      <td>1248541890</td>\n",
       "      <td>285</td>\n",
       "      <td>4611</td>\n",
       "      <td>35.487473</td>\n",
       "      <td>5.169191</td>\n",
       "      <td>0.647208</td>\n",
       "      <td>0.236513</td>\n",
       "      <td>1238172684</td>\n",
       "      <td>1248539274</td>\n",
       "      <td>285</td>\n",
       "      <td>4730</td>\n",
       "      <td>29.164394</td>\n",
       "      <td>5.183527</td>\n",
       "      <td>0.647657</td>\n",
       "      <td>0.236972</td>\n",
       "    </tr>\n",
       "    <tr>\n",
       "      <th>7972</th>\n",
       "      <td>ffc905909</td>\n",
       "      <td>0.5</td>\n",
       "      <td>1238198490</td>\n",
       "      <td>1248582316</td>\n",
       "      <td>290</td>\n",
       "      <td>4726</td>\n",
       "      <td>30.702550</td>\n",
       "      <td>5.180704</td>\n",
       "      <td>0.645512</td>\n",
       "      <td>0.236194</td>\n",
       "      <td>1238171186</td>\n",
       "      <td>1248563155</td>\n",
       "      <td>302</td>\n",
       "      <td>4619</td>\n",
       "      <td>31.855278</td>\n",
       "      <td>5.190749</td>\n",
       "      <td>0.646872</td>\n",
       "      <td>0.236676</td>\n",
       "    </tr>\n",
       "    <tr>\n",
       "      <th>7973</th>\n",
       "      <td>ffe276f3e</td>\n",
       "      <td>0.5</td>\n",
       "      <td>1238167796</td>\n",
       "      <td>1248534967</td>\n",
       "      <td>307</td>\n",
       "      <td>4520</td>\n",
       "      <td>34.794548</td>\n",
       "      <td>5.182399</td>\n",
       "      <td>0.649433</td>\n",
       "      <td>0.238161</td>\n",
       "      <td>1238167002</td>\n",
       "      <td>1248535419</td>\n",
       "      <td>305</td>\n",
       "      <td>4533</td>\n",
       "      <td>31.888836</td>\n",
       "      <td>5.174247</td>\n",
       "      <td>0.649748</td>\n",
       "      <td>0.237436</td>\n",
       "    </tr>\n",
       "    <tr>\n",
       "      <th>7974</th>\n",
       "      <td>fffa17f67</td>\n",
       "      <td>0.5</td>\n",
       "      <td>1238166589</td>\n",
       "      <td>1248613429</td>\n",
       "      <td>310</td>\n",
       "      <td>4523</td>\n",
       "      <td>36.399986</td>\n",
       "      <td>5.633560</td>\n",
       "      <td>0.699183</td>\n",
       "      <td>0.255716</td>\n",
       "      <td>1238167207</td>\n",
       "      <td>1248542367</td>\n",
       "      <td>335</td>\n",
       "      <td>4611</td>\n",
       "      <td>37.469795</td>\n",
       "      <td>4.737347</td>\n",
       "      <td>0.588070</td>\n",
       "      <td>0.214774</td>\n",
       "    </tr>\n",
       "  </tbody>\n",
       "</table>\n",
       "<p>7975 rows × 18 columns</p>\n",
       "</div>"
      ],
      "text/plain": [
       "             id  target  ts_start_h1   ts_end_h1  num_gaps_h1  length_h1  \\\n",
       "0     00054c878     0.5   1238170136  1248567118          303       4639   \n",
       "1     0007285a3     0.5   1238168014  1248520149          319       4427   \n",
       "2     00076c5a6     0.5   1238168771  1248535146          281       4599   \n",
       "3     001349290     0.5   1238170698  1248536462          295       4609   \n",
       "4     001a52e92     0.5   1238166605  1248534994          314       4601   \n",
       "...         ...     ...          ...         ...          ...        ...   \n",
       "7970  ffbce04ef     0.5   1238174572  1248548094          332       4533   \n",
       "7971  ffc2d976b     0.5   1238178719  1248541890          285       4611   \n",
       "7972  ffc905909     0.5   1238198490  1248582316          290       4726   \n",
       "7973  ffe276f3e     0.5   1238167796  1248534967          307       4520   \n",
       "7974  fffa17f67     0.5   1238166589  1248613429          310       4523   \n",
       "\n",
       "         max_h1    90%_h1    25%_h1    10%_h1  ts_start_l1   ts_end_l1  \\\n",
       "0     36.596880  5.182469  0.648318  0.236532   1238168574  1248561347   \n",
       "1     33.348710  5.185728  0.645892  0.236174   1238169747  1248537247   \n",
       "2     38.125170  5.181007  0.647001  0.236868   1238172441  1248567481   \n",
       "3     33.123688  5.186102  0.646682  0.236379   1238166901  1248536964   \n",
       "4     30.006860  5.180545  0.649487  0.237005   1238167190  1248542755   \n",
       "...         ...       ...       ...       ...          ...         ...   \n",
       "7970  34.117268  5.175504  0.645922  0.236845   1238173986  1248589023   \n",
       "7971  35.487473  5.169191  0.647208  0.236513   1238172684  1248539274   \n",
       "7972  30.702550  5.180704  0.645512  0.236194   1238171186  1248563155   \n",
       "7973  34.794548  5.182399  0.649433  0.238161   1238167002  1248535419   \n",
       "7974  36.399986  5.633560  0.699183  0.255716   1238167207  1248542367   \n",
       "\n",
       "      num_gaps_l1  length_l1     max_l1    90%_l1    25%_l1    10%_l1  \n",
       "0             324       4566  31.032060  5.172359  0.646489  0.236746  \n",
       "1             325       4650  35.349796  5.194143  0.648571  0.237914  \n",
       "2             305       4633  35.410625  5.185566  0.646724  0.237244  \n",
       "3             322       4621  31.477259  5.177888  0.645992  0.237332  \n",
       "4             325       4366  31.458930  5.175384  0.647351  0.237881  \n",
       "...           ...        ...        ...       ...       ...       ...  \n",
       "7970          318       4634  31.854813  5.188142  0.647497  0.237654  \n",
       "7971          285       4730  29.164394  5.183527  0.647657  0.236972  \n",
       "7972          302       4619  31.855278  5.190749  0.646872  0.236676  \n",
       "7973          305       4533  31.888836  5.174247  0.649748  0.237436  \n",
       "7974          335       4611  37.469795  4.737347  0.588070  0.214774  \n",
       "\n",
       "[7975 rows x 18 columns]"
      ]
     },
     "execution_count": 5,
     "metadata": {},
     "output_type": "execute_result"
    }
   ],
   "source": [
    "test"
   ]
  },
  {
   "cell_type": "markdown",
   "metadata": {},
   "source": [
    "# Correlation"
   ]
  },
  {
   "cell_type": "code",
   "execution_count": 8,
   "metadata": {},
   "outputs": [],
   "source": [
    "# model_paths = [\n",
    "#     Path('results/aug_15_bu/'), # 733\n",
    "#     Path('results/aug_11_ds1/'), # 723\n",
    "#     Path('results/aug_11/'), # 719\n",
    "# ]\n",
    "model_paths = [\n",
    "    # Path('results/baseline_3/'),\n",
    "    # Path('results/ds_02_prep0'),\n",
    "    # Path('results/ds_04'),\n",
    "    # Path('results/aug_01'),\n",
    "    # Path('results/aug_01_prep0'),\n",
    "    # Path('results/aug_02'),\n",
    "    # Path('results/aug_03'),\n",
    "    # Path('results/aug_04'),\n",
    "    # Path('results/ds_05'),\n",
    "    # Path('results/ds_05_aug0'),\n",
    "    # Path('results/ds_05_aug1'),\n",
    "    # Path('results/ds_05_aug2'),\n",
    "    # Path('results/ds_06/'),\n",
    "    # Path('results/ds_07/'),\n",
    "    # Path('results/ds_08/'),\n",
    "    # Path('results/model_00/'),\n",
    "    Path('results/ds_09/'),\n",
    "    # Path('results/ds_12/'),\n",
    "    Path('results/ds_13/'),\n",
    "    # Path('results/res_00'),\n",
    "    # Path('results/res_02')\n",
    "    # Path('results/aug_01'),\n",
    "    # Path('results/aug_02'),\n",
    "    # Path('results/ds_09_mod0'),\n",
    "    # Path('results/ds_09_mod1'),\n",
    "    # Path('results/mixup_00'),\n",
    "    # Path('results/mixup_01'),\n",
    "    # Path('results/mixup_03'),\n",
    "    Path('results/chris_v16'),\n",
    "]\n"
   ]
  },
  {
   "cell_type": "code",
   "execution_count": 10,
   "metadata": {},
   "outputs": [
    {
     "name": "stdout",
     "output_type": "stream",
     "text": [
      "(5, 7975, 1)\n",
      "(5, 7975, 1)\n"
     ]
    }
   ],
   "source": [
    "prediction_df = {}\n",
    "for p in model_paths:\n",
    "    if (p/'predictions_tta_wo_anomaly.npy').exists():\n",
    "        prediction_df[p.stem] = sigmoid(np.load(p/'predictions_tta_wo_anomaly.npy')).reshape(-1)\n",
    "    else:\n",
    "        pred = sigmoid(np.load(p/'predictions_tta.npy'))\n",
    "        print(pred.shape)\n",
    "        if pred.shape[1] == 1:\n",
    "            pred = pred.reshape(-1)\n",
    "        elif pred.shape[0] == 5:\n",
    "            pred = pred[0].reshape(-1)\n",
    "        prediction_df[p.stem] = pred\n",
    "prediction_df = pd.DataFrame(prediction_df)\n",
    "# prediction_df['public748'] = public748['target'].values\n",
    "# prediction_df['public716'] = public716['target'].values"
   ]
  },
  {
   "cell_type": "code",
   "execution_count": 11,
   "metadata": {},
   "outputs": [
    {
     "data": {
      "text/html": [
       "<div>\n",
       "<style scoped>\n",
       "    .dataframe tbody tr th:only-of-type {\n",
       "        vertical-align: middle;\n",
       "    }\n",
       "\n",
       "    .dataframe tbody tr th {\n",
       "        vertical-align: top;\n",
       "    }\n",
       "\n",
       "    .dataframe thead th {\n",
       "        text-align: right;\n",
       "    }\n",
       "</style>\n",
       "<table border=\"1\" class=\"dataframe\">\n",
       "  <thead>\n",
       "    <tr style=\"text-align: right;\">\n",
       "      <th></th>\n",
       "      <th>ds_09</th>\n",
       "      <th>ds_13</th>\n",
       "      <th>chris_v16</th>\n",
       "    </tr>\n",
       "  </thead>\n",
       "  <tbody>\n",
       "    <tr>\n",
       "      <th>0</th>\n",
       "      <td>0.529081</td>\n",
       "      <td>0.569971</td>\n",
       "      <td>0.298143</td>\n",
       "    </tr>\n",
       "    <tr>\n",
       "      <th>1</th>\n",
       "      <td>0.973470</td>\n",
       "      <td>0.953912</td>\n",
       "      <td>0.946982</td>\n",
       "    </tr>\n",
       "    <tr>\n",
       "      <th>2</th>\n",
       "      <td>0.354265</td>\n",
       "      <td>0.400413</td>\n",
       "      <td>0.057718</td>\n",
       "    </tr>\n",
       "    <tr>\n",
       "      <th>3</th>\n",
       "      <td>0.479609</td>\n",
       "      <td>0.543159</td>\n",
       "      <td>0.773325</td>\n",
       "    </tr>\n",
       "    <tr>\n",
       "      <th>4</th>\n",
       "      <td>0.614418</td>\n",
       "      <td>0.714743</td>\n",
       "      <td>0.882665</td>\n",
       "    </tr>\n",
       "    <tr>\n",
       "      <th>...</th>\n",
       "      <td>...</td>\n",
       "      <td>...</td>\n",
       "      <td>...</td>\n",
       "    </tr>\n",
       "    <tr>\n",
       "      <th>7970</th>\n",
       "      <td>0.999868</td>\n",
       "      <td>0.999971</td>\n",
       "      <td>0.999467</td>\n",
       "    </tr>\n",
       "    <tr>\n",
       "      <th>7971</th>\n",
       "      <td>0.428340</td>\n",
       "      <td>0.475512</td>\n",
       "      <td>0.823280</td>\n",
       "    </tr>\n",
       "    <tr>\n",
       "      <th>7972</th>\n",
       "      <td>0.306392</td>\n",
       "      <td>0.321302</td>\n",
       "      <td>0.066108</td>\n",
       "    </tr>\n",
       "    <tr>\n",
       "      <th>7973</th>\n",
       "      <td>0.360838</td>\n",
       "      <td>0.406303</td>\n",
       "      <td>0.131836</td>\n",
       "    </tr>\n",
       "    <tr>\n",
       "      <th>7974</th>\n",
       "      <td>0.345465</td>\n",
       "      <td>0.326579</td>\n",
       "      <td>0.045091</td>\n",
       "    </tr>\n",
       "  </tbody>\n",
       "</table>\n",
       "<p>7975 rows × 3 columns</p>\n",
       "</div>"
      ],
      "text/plain": [
       "         ds_09     ds_13  chris_v16\n",
       "0     0.529081  0.569971   0.298143\n",
       "1     0.973470  0.953912   0.946982\n",
       "2     0.354265  0.400413   0.057718\n",
       "3     0.479609  0.543159   0.773325\n",
       "4     0.614418  0.714743   0.882665\n",
       "...        ...       ...        ...\n",
       "7970  0.999868  0.999971   0.999467\n",
       "7971  0.428340  0.475512   0.823280\n",
       "7972  0.306392  0.321302   0.066108\n",
       "7973  0.360838  0.406303   0.131836\n",
       "7974  0.345465  0.326579   0.045091\n",
       "\n",
       "[7975 rows x 3 columns]"
      ]
     },
     "execution_count": 11,
     "metadata": {},
     "output_type": "execute_result"
    }
   ],
   "source": [
    "model_names = prediction_df.columns\n",
    "prediction_df"
   ]
  },
  {
   "cell_type": "code",
   "execution_count": 12,
   "metadata": {},
   "outputs": [
    {
     "data": {
      "image/png": "[encoded data removed]",
      "text/plain": [
       "<Figure size 576x576 with 2 Axes>"
      ]
     },
     "metadata": {
      "needs_background": "light"
     },
     "output_type": "display_data"
    }
   ],
   "source": [
    "plt.figure(figsize=(8, 8))\n",
    "sns.heatmap(prediction_df.corr(), square=True, annot=True)\n",
    "plt.show()"
   ]
  },
  {
   "cell_type": "markdown",
   "metadata": {},
   "source": [
    "# Error analysis"
   ]
  },
  {
   "cell_type": "code",
   "execution_count": 13,
   "metadata": {},
   "outputs": [],
   "source": [
    "prediction_df['rank_std'] = prediction_df.rank(0).std(1)"
   ]
  },
  {
   "cell_type": "code",
   "execution_count": 14,
   "metadata": {},
   "outputs": [
    {
     "data": {
      "text/plain": [
       "<AxesSubplot:xlabel='rank_std', ylabel='Count'>"
      ]
     },
     "execution_count": 14,
     "metadata": {},
     "output_type": "execute_result"
    },
    {
     "data": {
      "image/png": "[encoded data removed]",
      "text/plain": [
       "<Figure size 432x288 with 1 Axes>"
      ]
     },
     "metadata": {
      "needs_background": "light"
     },
     "output_type": "display_data"
    }
   ],
   "source": [
    "sns.histplot(prediction_df['rank_std'])"
   ]
  },
  {
   "cell_type": "code",
   "execution_count": 15,
   "metadata": {},
   "outputs": [],
   "source": [
    "prediction_df = pd.concat([prediction_df, test], axis=1)"
   ]
  },
  {
   "cell_type": "code",
   "execution_count": 16,
   "metadata": {},
   "outputs": [],
   "source": [
    "prediction_df_easy = prediction_df.sort_values('rank_std')\n",
    "Path('input/plot/easy/').mkdir(parents=True, exist_ok=True)\n",
    "ds = G2Net2022Dataset3(\n",
    "    prediction_df_easy.head(100),\n",
    "    data_dir=Path('input/g2net-detecting-continuous-gravitational-waves/test'),\n",
    "    preprocess=A.Compose([ToSpectrogram(), AdaptiveResize(16), NormalizeSpectrogram('constant')]),\n",
    "    # transforms=ClipSignal(0, 1.5)\n",
    ")\n",
    "for idx, (specs, _) in enumerate(ds):\n",
    "    gid = ds.df.iloc[idx]['id']\n",
    "    labels = ds.df[model_names].iloc[idx]\n",
    "    plt.figure(figsize=(20, 6))\n",
    "    plt.suptitle(f'{idx}, {np.round(labels.values, 2)}')\n",
    "    plt.subplot(1, 4, 1)\n",
    "    plt.imshow(specs[:, :, 0])\n",
    "    plt.title('H1')\n",
    "    plt.subplot(1, 4, 2)\n",
    "    plt.imshow(specs[:, :, 1])\n",
    "    plt.title('L1')\n",
    "    plt.subplot(1, 4, 3)\n",
    "    col_roi0 = np.argmax(specs[:, :, 0].std(axis=0))\n",
    "    col_roi1 = np.argmax(specs[:, :, 1].std(axis=0))\n",
    "    plt.plot(specs[:, col_roi0, 0])\n",
    "    plt.plot(specs[:, col_roi1, 1])\n",
    "    plt.title(f'time slice ({col_roi0}/{col_roi1})')\n",
    "    plt.subplot(1, 4, 4)\n",
    "    row_roi0 = np.argmax(specs[:, :, 0].std(axis=1))\n",
    "    row_roi1 = np.argmax(specs[:, :, 1].std(axis=1))\n",
    "    plt.plot(specs[row_roi0, :, 0])\n",
    "    plt.plot(specs[row_roi1, :, 1])\n",
    "    plt.title(f'freq slice ({row_roi0}/{row_roi1})')\n",
    "    plt.savefig(f'input/plot/easy/{gid}.png', facecolor='white')\n",
    "    plt.close()\n",
    "    # plt.show()\n"
   ]
  },
  {
   "cell_type": "code",
   "execution_count": 17,
   "metadata": {},
   "outputs": [],
   "source": [
    "prediction_df_hard = prediction_df.sort_values('rank_std', ascending=False)\n",
    "Path('input/plot/hard/').mkdir(parents=True, exist_ok=True)\n",
    "ds = G2Net2022Dataset3(\n",
    "    prediction_df_hard.head(100),\n",
    "    # prediction_df.loc[prediction_df['id'].isin([\"040b35321\", \"09d7ea37a\", \"081ee0aea\", \"025517630\"])],\n",
    "    data_dir=Path('input/g2net-detecting-continuous-gravitational-waves/test'),\n",
    "    preprocess=A.Compose([ToSpectrogram(), AdaptiveResize(16), NormalizeSpectrogram('constant')]),\n",
    "    transforms=ClipSignal(0, 1.5)\n",
    "    # transforms=A.Compose([\n",
    "    #     ClipSignal(0, 1.5),\n",
    "    #     BandNoise(strength=0.25, p=1.0)\n",
    "    # ])\n",
    "    # transforms=ClipSignal(0, 1)\n",
    "    # transforms=BandNoise(p=1.0)\n",
    "    # transforms=DeltaNoise(channel='both', strength=(500, 4000), p=1),\n",
    "    # transforms=MixupChannel(fix_area=True, p=1),\n",
    "    # transforms=MixupChannel2(256, p=1)\n",
    ")\n",
    "for idx, (specs, _) in enumerate(ds):\n",
    "    gid = prediction_df_hard.iloc[idx]['id']\n",
    "    labels = prediction_df_hard[model_names].iloc[idx]\n",
    "    plt.figure(figsize=(20, 6))\n",
    "    plt.suptitle(f'{idx}, {np.round(labels.values, 2)}')\n",
    "    plt.subplot(1, 4, 1)\n",
    "    plt.imshow(specs[:, :, 0])\n",
    "    plt.title('H1')\n",
    "    plt.subplot(1, 4, 2)\n",
    "    plt.imshow(specs[:, :, 1])\n",
    "    plt.title('L1')\n",
    "    plt.subplot(1, 4, 3)\n",
    "    col_roi0 = np.argmax(specs[:, :, 0].std(axis=0))\n",
    "    col_roi1 = np.argmax(specs[:, :, 1].std(axis=0))\n",
    "    plt.plot(specs[:, col_roi0, 0])\n",
    "    plt.plot(specs[:, col_roi1, 1])\n",
    "    plt.title(f'time slice ({col_roi0}/{col_roi1})')\n",
    "    plt.subplot(1, 4, 4)\n",
    "    row_roi0 = np.argmax(specs[:, :, 0].std(axis=1))\n",
    "    row_roi1 = np.argmax(specs[:, :, 1].std(axis=1))\n",
    "    plt.plot(specs[row_roi0, :, 0])\n",
    "    plt.plot(specs[row_roi1, :, 1])\n",
    "    plt.title(f'freq slice ({row_roi0}/{row_roi1})')\n",
    "    plt.savefig(f'input/plot/hard/{gid}.png', facecolor='white')\n",
    "    plt.close()\n",
    "    # plt.show()"
   ]
  },
  {
   "cell_type": "code",
   "execution_count": 18,
   "metadata": {},
   "outputs": [],
   "source": [
    "# ds = G2Net2022Dataset3(\n",
    "#     prediction_df.query('max_h1 < 350').sort_values('25%_h1', ascending=False).head(5),\n",
    "#     data_dir=Path('input/g2net-detecting-continuous-gravitational-waves/test'),\n",
    "#     preprocess=A.Compose([ToSpectrogram(), AdaptiveResize(16), NormalizeSpectrogram('constant')]),\n",
    "#     transforms=ClipSignal(0, 1.5)\n",
    "# )\n",
    "# for idx, (specs, _) in enumerate(ds):\n",
    "#     gid = ds.df.iloc[idx]['id']\n",
    "#     labels = ds.df[model_names].iloc[idx].values\n",
    "#     plt.figure(figsize=(20, 6))\n",
    "#     plt.suptitle(f'{idx}, {np.round(labels, 2)}')\n",
    "#     plt.subplot(1, 4, 1)\n",
    "#     plt.imshow(specs[:, :, 0])\n",
    "#     plt.title('H1')\n",
    "#     plt.subplot(1, 4, 2)\n",
    "#     plt.imshow(specs[:, :, 1])\n",
    "#     plt.title('L1')\n",
    "#     plt.subplot(1, 4, 3)\n",
    "#     col_roi0 = np.argmax(specs[:, :, 0].std(axis=0))\n",
    "#     col_roi1 = np.argmax(specs[:, :, 1].std(axis=0))\n",
    "#     plt.plot(specs[:, col_roi0, 0])\n",
    "#     plt.plot(specs[:, col_roi1, 1])\n",
    "#     plt.title(f'time slice ({col_roi0}/{col_roi1})')\n",
    "#     plt.subplot(1, 4, 4)\n",
    "#     row_roi0 = np.argmax(specs[:, :, 0].std(axis=1))\n",
    "#     row_roi1 = np.argmax(specs[:, :, 1].std(axis=1))\n",
    "#     plt.plot(specs[row_roi0, :, 0])\n",
    "#     plt.plot(specs[row_roi1, :, 1])\n",
    "#     plt.title(f'freq slice ({row_roi0}/{row_roi1})')\n",
    "#     plt.show()"
   ]
  },
  {
   "cell_type": "markdown",
   "metadata": {},
   "source": []
  },
  {
   "cell_type": "code",
   "execution_count": 19,
   "metadata": {},
   "outputs": [],
   "source": [
    "# ds = G2Net2022Dataset3(\n",
    "#     pd.read_csv('input/g2net-detecting-continuous-gravitational-waves/v13.csv').query('base_id == \"3bcc523a3\"'),\n",
    "#     data_dir=Path('input/g2net-detecting-continuous-gravitational-waves/v13'),\n",
    "#     preprocess=A.Compose([ToSpectrogram(), AdaptiveResize(16), NormalizeSpectrogram('constant')]),\n",
    "#     transforms=A.Compose([\n",
    "#         CropImage(256), \n",
    "#         # InjectTimeNoise('input/timenoise_v1.pickle', resize_factor=16, strength=(0.9, 1.5), p=1.),\n",
    "#         # InjectAnomaly('input/anomaly_v0_16.pickle', 'H1', p=1.),\n",
    "#         # InjectAnomaly('input/anomaly_v0_16.pickle', 'L1', p=1.)\n",
    "#         ])\n",
    "# )\n",
    "# for idx, (specs, _) in enumerate(ds):\n",
    "#     plt.figure(figsize=(20, 6))\n",
    "#     plt.suptitle(f'{idx}')\n",
    "#     plt.subplot(1, 4, 1)\n",
    "#     plt.imshow(specs[:, :, 0])\n",
    "#     plt.title('H1')\n",
    "#     plt.subplot(1, 4, 2)\n",
    "#     plt.imshow(specs[:, :, 1])\n",
    "#     plt.title('L1')\n",
    "#     plt.subplot(1, 4, 3)\n",
    "#     col_roi0 = np.argmax(specs[:, :, 0].std(axis=0))\n",
    "#     col_roi1 = np.argmax(specs[:, :, 1].std(axis=0))\n",
    "#     plt.plot(specs[:, col_roi0, 0])\n",
    "#     plt.plot(specs[:, col_roi1, 1])\n",
    "#     plt.title(f'time slice ({col_roi0}/{col_roi1})')\n",
    "#     plt.subplot(1, 4, 4)\n",
    "#     row_roi0 = np.argmax(specs[:, :, 0].std(axis=1))\n",
    "#     row_roi1 = np.argmax(specs[:, :, 1].std(axis=1))\n",
    "#     plt.plot(specs[row_roi0, :, 0])\n",
    "#     plt.plot(specs[row_roi1, :, 1])\n",
    "#     plt.title(f'freq slice ({row_roi0}/{row_roi1})')\n",
    "#     plt.show()"
   ]
  },
  {
   "cell_type": "markdown",
   "metadata": {},
   "source": [
    "# Analyse artifact"
   ]
  },
  {
   "cell_type": "code",
   "execution_count": 6,
   "metadata": {},
   "outputs": [],
   "source": [
    "from torchvision.ops import masks_to_boxes\n",
    "import cv2"
   ]
  },
  {
   "cell_type": "code",
   "execution_count": 7,
   "metadata": {},
   "outputs": [],
   "source": [
    "anomaly_h1 = [\n",
    "    \"5b3eb27e1\", \"7ee0a00f8\", '55dd4d584', '67e294a77', '80b695868', '1739abf41',\n",
    "    '698567d90', '6735074ac', 'acc728828', 'b7ec2f672', 'b69313a43', 'b0990161d',\n",
    "    'b95698658', 'fd0bde745', 'fe3005e83', '17ed59f7a', '38a84a185', '040b35321',\n",
    "    'c5cd03dc9'\n",
    "    ]\n",
    "anomaly_l1 = ['8b180f74f', 'a1f9b8e82', 'dc2aaaee9', 'dee7c8d0f', 'f00d2044a']"
   ]
  },
  {
   "cell_type": "code",
   "execution_count": null,
   "metadata": {},
   "outputs": [],
   "source": [
    "# ds = G2Net2022Dataset3(\n",
    "#     test.loc[test['id'].isin(anomaly_h1+anomaly_l1)],\n",
    "#     data_dir=Path('input/g2net-detecting-continuous-gravitational-waves/test'),\n",
    "#     # preprocess=A.Compose([\n",
    "#     #     ToSpectrogram(), AdaptiveResize(16), NormalizeSpectrogram('constant')]),\n",
    "#     # transforms=ToTensorV2()\n",
    "#     preprocess=A.Compose([\n",
    "#         ToSpectrogram(), AdaptiveResize(16), \n",
    "#         NormalizeSpectrogram('column_row_wise')\n",
    "#     ]),\n",
    "#     transforms=A.Compose([\n",
    "#         RandomCrop(256),\n",
    "#         ToTensorV2()\n",
    "#     ]),\n",
    "# )\n",
    "# for idx, (specs, _) in enumerate(ds):\n",
    "#     gid = ds.df.iloc[idx]['id']\n",
    "#     plt.figure(figsize=(20, 6))\n",
    "#     plt.suptitle(f'{idx} {gid}')\n",
    "#     plt.subplot(1, 4, 1)\n",
    "#     plt.imshow(specs[0])\n",
    "#     plt.title('H1')\n",
    "#     plt.subplot(1, 4, 2)\n",
    "#     plt.imshow(specs[1])\n",
    "#     plt.title('L1')\n",
    "#     plt.subplot(1, 4, 3)\n",
    "#     plt.plot(specs[0, :, 128])\n",
    "#     plt.plot(specs[1, :, 128])\n",
    "#     plt.title('time slice')\n",
    "#     plt.subplot(1, 4, 4)\n",
    "#     plt.plot(specs[0, 180, :])\n",
    "#     plt.plot(specs[1, 180, :])\n",
    "#     plt.title('freq slice')\n",
    "#     plt.show()\n",
    "#     plt.close()"
   ]
  },
  {
   "cell_type": "code",
   "execution_count": null,
   "metadata": {},
   "outputs": [],
   "source": [
    "def get_anomaly(spec, threshold=1.5):\n",
    "    anomaly_mask = spec > threshold\n",
    "    if anomaly_mask.sum() > 0:\n",
    "        anomaly_bbox = masks_to_boxes(anomaly_mask[None, :, :])[0]\n",
    "        xmin, ymin, xmax, ymax = anomaly_bbox.to(int)\n",
    "        return spec[\n",
    "            max(ymin-5, 0):min(ymax+5, spec.shape[1]), \n",
    "            max(xmin-5, 0):min(xmax+5, spec.shape[0])]\n",
    "    else:\n",
    "        None\n",
    "\n",
    "\n",
    "def parse_anomaly(anomaly):\n",
    "    anomaly = anomaly.numpy()\n",
    "    anomaly[anomaly < 0.5] = 0\n",
    "    strength = anomaly.max()\n",
    "    anomaly = (anomaly - anomaly.min()) / (anomaly.max() - anomaly.min())\n",
    "    return anomaly, strength"
   ]
  },
  {
   "cell_type": "code",
   "execution_count": null,
   "metadata": {},
   "outputs": [],
   "source": [
    "anomaly_dict = {\n",
    "    'H1': [], 'L1': []\n",
    "}"
   ]
  },
  {
   "cell_type": "code",
   "execution_count": null,
   "metadata": {},
   "outputs": [],
   "source": [
    "ds = G2Net2022Dataset3(\n",
    "    test.loc[test['id'].isin(anomaly_h1)],\n",
    "    data_dir=Path('input/g2net-detecting-continuous-gravitational-waves/test'),\n",
    "    preprocess=A.Compose([\n",
    "        ToSpectrogram(), AdaptiveResize(16), NormalizeSpectrogram('constant')]),\n",
    "    transforms=ToTensorV2()\n",
    ")\n",
    "\n",
    "for specs, _ in ds:\n",
    "    anomaly = get_anomaly(specs[0], 1.5)\n",
    "    if anomaly is not None:\n",
    "        if anomaly.shape[0] * anomaly.shape[1] < 1500:\n",
    "            continue\n",
    "        # plt.figure(figsize=(8, 4))\n",
    "        # plt.subplot(1, 2, 1)\n",
    "        # plt.imshow(specs[0])\n",
    "        # plt.subplot(1, 2, 2)\n",
    "        # plt.imshow(anomaly)\n",
    "        # plt.show()\n",
    "        anomaly, strength = parse_anomaly(anomaly)\n",
    "        if anomaly is not None:\n",
    "            anomaly_dict['H1'].append((anomaly, strength))"
   ]
  },
  {
   "cell_type": "code",
   "execution_count": null,
   "metadata": {},
   "outputs": [],
   "source": [
    "ds = G2Net2022Dataset3(\n",
    "    test.loc[test['id'].isin(anomaly_l1)],\n",
    "    data_dir=Path('input/g2net-detecting-continuous-gravitational-waves/test'),\n",
    "    preprocess=A.Compose([\n",
    "        ToSpectrogram(), AdaptiveResize(16), NormalizeSpectrogram('constant')]),\n",
    "    transforms=ToTensorV2()\n",
    ")\n",
    "\n",
    "for specs, _ in ds:\n",
    "    anomaly = get_anomaly(specs[1], 1.5)\n",
    "    if anomaly is not None:\n",
    "        if anomaly.shape[0] * anomaly.shape[1] < 1500:\n",
    "            continue\n",
    "        # plt.figure(figsize=(8, 4))\n",
    "        # plt.subplot(1, 2, 1)\n",
    "        # plt.imshow(specs[0])\n",
    "        # plt.subplot(1, 2, 2)\n",
    "        # plt.imshow(anomaly)\n",
    "        # plt.show()\n",
    "        anomaly, strength = parse_anomaly(anomaly)\n",
    "        if anomaly is not None:\n",
    "            anomaly_dict['L1'].append((anomaly, strength))"
   ]
  },
  {
   "cell_type": "code",
   "execution_count": null,
   "metadata": {},
   "outputs": [],
   "source": [
    "with open('input/anomaly_v0_16.pickle', 'wb') as f:\n",
    "    pickle.dump(anomaly_dict, f)"
   ]
  },
  {
   "cell_type": "markdown",
   "metadata": {},
   "source": [
    "# Generate Noise Template"
   ]
  },
  {
   "cell_type": "code",
   "execution_count": null,
   "metadata": {},
   "outputs": [],
   "source": [
    "timenoise_idx = [\n",
    "    # v0\n",
    "    '0a9ab0c9e', '0de7c7655', '0e9c2bb33', '1dc9bc740', '1facb0bab', '6b4107dfd', \n",
    "    '6ba4c8187', '6ec448e76', '7a1668972', '7dc03113e', '8bfb5c3fe', '8c0e4381a',\n",
    "    '8f0d3c49c', '64bf3b4cc', '80ce2df12', '250ce99ba', '343fd1262', '371a20194',\n",
    "    '439ff8b8c', '500ca9751', '838ca3d9e', '8537d2f36', '8603bf1e2', '961624e88',\n",
    "    '2705507a9', '5310205bd', '38994676c', '82991740d', '227585724', 'a0eeec887',\n",
    "    'ae967aea1', 'b4c72f14d', 'b176dfe31', 'b267c820d', 'b383cdb39', 'b604b31b5',\n",
    "    'cdc0d65cb', 'cdeb7fe4a', 'd5b7bf6e3', 'd94f90817', 'e2c46e48a', 'e0696d220',\n",
    "    'ef559e2d9', 'efb2e3891', 'f090b5877', \n",
    "    # v1\n",
    "    '3da1e0f33', '9c0b5f798', '1928ca4a7', 'a9e280d75', 'dcdf0f575', \n",
    "    # v2\n",
    "    '64a563381', 'df7f170d3', '0a1a06b36', '3bcc523a3', 'e4d6595d9',\n",
    "    'd93435874', 'b829c1194', '65e192431', 'ceafe2326', 'da86f97af',\n",
    "    '1b96f2483', 'b7a3bfd36', '5ffa7a8f4', '41154b5f0', '2dbea30b0',\n",
    "    'd794f8f4e', 'd4e46b35f', '634543900'\n",
    "]\n",
    "timenoise_idx = set(timenoise_idx)\n",
    "ds = G2Net2022Dataset3(\n",
    "    test.loc[test['id'].isin(timenoise_idx)],\n",
    "    data_dir=Path('input/g2net-detecting-continuous-gravitational-waves/test'),\n",
    "    preprocess=A.Compose([\n",
    "        ToSpectrogram(), NormalizeSpectrogram('constant')]),\n",
    ")"
   ]
  },
  {
   "cell_type": "code",
   "execution_count": null,
   "metadata": {},
   "outputs": [],
   "source": [
    "def extract_noise_template(specs):\n",
    "    spec_h1, specs_l1 = specs[:, :, 0], specs[:, :, 1]\n",
    "    return spec_h1.mean(0), specs_l1.mean(0)"
   ]
  },
  {
   "cell_type": "code",
   "execution_count": null,
   "metadata": {},
   "outputs": [],
   "source": [
    "noise_templates = {\n",
    "    'H1': [],\n",
    "    'L1': [],\n",
    "}\n",
    "for idx, (specs, _) in enumerate(ds):\n",
    "    tmp_h1, tmp_l1 = extract_noise_template(specs)\n",
    "    noise_templates['H1'].append(tmp_h1)\n",
    "    noise_templates['L1'].append(tmp_l1)\n"
   ]
  },
  {
   "cell_type": "code",
   "execution_count": null,
   "metadata": {},
   "outputs": [],
   "source": [
    "with open('input/timenoise_v2.pickle', 'wb') as f:\n",
    "    pickle.dump(noise_templates, f)"
   ]
  },
  {
   "cell_type": "markdown",
   "metadata": {},
   "source": [
    "# Training visualization"
   ]
  },
  {
   "cell_type": "code",
   "execution_count": 92,
   "metadata": {},
   "outputs": [],
   "source": [
    "from configs import *\n",
    "from configs_chris import *"
   ]
  },
  {
   "cell_type": "code",
   "execution_count": 93,
   "metadata": {},
   "outputs": [],
   "source": [
    "# ds = cfg.dataset(\n",
    "#     pd.read_csv('input/g2net-detecting-continuous-gravitational-waves/v12.csv').head(10),\n",
    "#     data_dir=Path('input/g2net-detecting-continuous-gravitational-waves/v12'),\n",
    "#     # transforms=cfg.transforms['train'],\n",
    "#     transforms=A.Compose([\n",
    "#         RandomCrop(4096),\n",
    "#         BandPass(sr=2048),\n",
    "#         WaveToTensor()]),\n",
    "#     **cfg.dataset_params\n",
    "# )"
   ]
  },
  {
   "cell_type": "code",
   "execution_count": 109,
   "metadata": {},
   "outputs": [],
   "source": [
    "cfg = Ds09()\n",
    "ds = cfg.dataset(\n",
    "    pd.read_csv('input/g2net-detecting-continuous-gravitational-waves/concat_v13_v14_v15.csv').tail(10),\n",
    "    # match_time=True,\n",
    "    preprocess=A.Compose([\n",
    "        ToSpectrogram(), AdaptiveResize(16), \n",
    "        NormalizeSpectrogram('column_wise')\n",
    "    ]),\n",
    "    transforms=A.Compose([\n",
    "        RandomCrop(256),\n",
    "        ToTensorV2()\n",
    "    ]),\n",
    "    # transforms=cfg.transforms['train'],\n",
    "    # **dict(cfg.dataset_params, **{'match_time': True})\n",
    ")"
   ]
  },
  {
   "cell_type": "code",
   "execution_count": 111,
   "metadata": {},
   "outputs": [],
   "source": [
    "# for idx, inputs in enumerate(ds):\n",
    "#     specs = inputs[0]\n",
    "#     specs = (specs - specs.min()) / (specs.max() - specs.min())\n",
    "#     plt.figure(figsize=(20, 6))\n",
    "#     plt.suptitle(f'{idx}')\n",
    "#     plt.subplot(1, 4, 1)\n",
    "#     plt.imshow(specs[0])\n",
    "#     plt.title('H1')\n",
    "#     plt.subplot(1, 4, 2)\n",
    "#     plt.imshow(specs[1])\n",
    "#     plt.title('L1')\n",
    "#     plt.subplot(1, 4, 3)\n",
    "#     plt.plot(specs[0, :, 128])\n",
    "#     plt.plot(specs[1, :, 128])\n",
    "#     plt.title(f'time slice')\n",
    "#     plt.subplot(1, 4, 4)\n",
    "#     plt.plot(specs[0, 180, :])\n",
    "#     plt.plot(specs[1, 180, :])\n",
    "#     plt.title(f'freq slice')\n",
    "#     plt.show()\n",
    "#     if idx == 10:\n",
    "#         break\n",
    "    "
   ]
  },
  {
   "cell_type": "code",
   "execution_count": 21,
   "metadata": {},
   "outputs": [
    {
     "name": "stdout",
     "output_type": "stream",
     "text": [
      "torch.Size([2, 4096])\n"
     ]
    },
    {
     "data": {
      "image/png": "[encoded data removed]",
      "text/plain": [
       "<Figure size 432x288 with 1 Axes>"
      ]
     },
     "metadata": {
      "needs_background": "light"
     },
     "output_type": "display_data"
    }
   ],
   "source": [
    "# for idx, (wave, _) in enumerate(ds):\n",
    "#     print(wave.shape)\n",
    "#     plt.plot(wave[0, :100])\n",
    "#     plt.show()\n",
    "#     break\n",
    "    "
   ]
  },
  {
   "cell_type": "markdown",
   "metadata": {},
   "source": [
    "# Noise matching"
   ]
  },
  {
   "cell_type": "code",
   "execution_count": 75,
   "metadata": {},
   "outputs": [],
   "source": [
    "from data_gen.prep_data_v17 import bucketize_real_noise_asd\n",
    "from sklearn.metrics.pairwise import cosine_similarity \n",
    "from tslearn import metrics"
   ]
  },
  {
   "cell_type": "code",
   "execution_count": 70,
   "metadata": {},
   "outputs": [],
   "source": [
    "import tslearn"
   ]
  },
  {
   "cell_type": "code",
   "execution_count": 69,
   "metadata": {},
   "outputs": [
    {
     "data": {
      "application/vnd.jupyter.widget-view+json": {
       "model_id": "0a6584f8888f4b0c98c47c11b99f8148",
       "version_major": 2,
       "version_minor": 0
      },
      "text/plain": [
       "  0%|          | 0/7975 [00:00<?, ?it/s]"
      ]
     },
     "metadata": {},
     "output_type": "display_data"
    }
   ],
   "source": [
    "asd_h1 = []\n",
    "# asd_l1 = []\n",
    "for gid in tqdm(test['id'].values):\n",
    "    with open(f'input/g2net-detecting-continuous-gravitational-waves/test/{gid}.pickle', 'rb') as f:\n",
    "        data = pickle.load(f)\n",
    "    asd_h1.append(bucketize_real_noise_asd(data[gid]['H1']['SFTs'], data[gid]['H1']['timestamps_GPS'], 256)[0])\n",
    "    # asd_l1.append(bucketize_real_noise_asd(data[gid]['L1']['SFTs'], data[gid]['L1']['timestamps_GPS'], 256)[0])\n",
    "asd_h1 = np.stack(asd_h1, axis=0)\n",
    "# asd_l1 = np.stack(asd_l1, axis=0)\n",
    "asd_h1 *= 1e22\n"
   ]
  },
  {
   "cell_type": "code",
   "execution_count": 81,
   "metadata": {},
   "outputs": [
    {
     "data": {
      "application/vnd.jupyter.widget-view+json": {
       "model_id": "7bd3b30bb8b24606a0d2dcef6f4bf937",
       "version_major": 2,
       "version_minor": 0
      },
      "text/plain": [
       "  0%|          | 0/100 [00:00<?, ?it/s]"
      ]
     },
     "metadata": {},
     "output_type": "display_data"
    }
   ],
   "source": [
    "dtw_sim = np.zeros((len(asd_h1), len(asd_h1)), dtype=float)\n",
    "\n",
    "# def calc_dtw(a, b, sim):\n",
    "#     sim[]\n",
    "\n",
    "# for i in tqdm(range(len(asd_h1))):\n",
    "for i in tqdm(range(100)):\n",
    "    for j in range(len(asd_h1)):\n",
    "        if i >= j:\n",
    "            continue\n",
    "        else:\n",
    "            dtw_sim[i, j] = metrics.dtw_path(asd_h1[i], asd_h1[j])[1]\n"
   ]
  },
  {
   "cell_type": "code",
   "execution_count": 91,
   "metadata": {},
   "outputs": [
    {
     "data": {
      "text/plain": [
       "array([0.09092692, 0.09874888, 0.09103961, 0.08972754, 0.09564867,\n",
       "       0.09413019, 0.1016547 , 0.09125483, 0.08759932, 0.09082457,\n",
       "       0.08859288, 0.09444511, 0.09971073, 0.09842456, 0.19908116,\n",
       "       0.09513957, 0.10247983, 0.08589729, 0.40210375, 0.10358401,\n",
       "       0.09200547, 0.09309565, 0.10226859, 0.08972431, 0.19635414,\n",
       "       0.20259292, 0.092408  , 0.0944437 , 0.09713306, 0.09081947,\n",
       "       0.0953522 , 0.09216637, 0.08634091, 0.09123335, 0.09910399,\n",
       "       0.0959277 , 0.08805704, 0.09493722, 0.10041042, 0.09265235,\n",
       "       0.2373188 , 0.10877889, 0.17696314, 0.09129626, 0.09165972,\n",
       "       0.09322564, 0.09595359, 0.09078855, 0.19006387, 0.09073441,\n",
       "       0.19098184, 0.10019722, 0.20081784, 0.0925821 , 0.09317271,\n",
       "       0.0982659 , 0.18702056, 0.09198424, 0.09389582, 0.09050794,\n",
       "       0.093166  , 0.1864983 , 0.09677832, 0.09444594, 0.09523943,\n",
       "       0.08967019, 0.095506  , 0.09284274, 0.08425239, 0.09292759,\n",
       "       0.09376507, 0.08817151, 0.09200013, 0.09497008, 0.08750955,\n",
       "       0.09387861, 0.08531578, 0.08889202, 0.09443411, 0.09215721,\n",
       "       0.09225282, 0.09823081, 0.08705334, 0.08791275, 0.19790791,\n",
       "       0.09426582, 0.09365099, 0.08706006, 0.32932686, 0.09529021,\n",
       "       0.09439446, 0.09242789, 0.09330445, 0.09231132, 0.08817345,\n",
       "       0.09776107, 0.09073015, 0.09170122, 0.08976772, 0.08750964])"
      ]
     },
     "execution_count": 91,
     "metadata": {},
     "output_type": "execute_result"
    }
   ],
   "source": [
    "dtw_sim[dtw_sim == 0] = 1000\n",
    "dtw_sim.min(1)[:100]"
   ]
  },
  {
   "cell_type": "code",
   "execution_count": 8,
   "metadata": {},
   "outputs": [
    {
     "data": {
      "application/vnd.jupyter.widget-view+json": {
       "model_id": "77fc3955b9ba4375a8a53fae714ce19a",
       "version_major": 2,
       "version_minor": 0
      },
      "text/plain": [
       "  0%|          | 0/7975 [00:00<?, ?it/s]"
      ]
     },
     "metadata": {},
     "output_type": "display_data"
    }
   ],
   "source": [
    "gap_pattern_h1 = []\n",
    "gap_pattern_l1 = []\n",
    "for gid in tqdm(test['id'].values):\n",
    "    with open(f'input/g2net-detecting-continuous-gravitational-waves/test/{gid}.pickle', 'rb') as f:\n",
    "        data = pickle.load(f)\n",
    "    gap_pattern_h1.append(data[gid]['H1']['timestamps_GPS'])\n",
    "    gap_pattern_l1.append(data[gid]['L1']['timestamps_GPS'])\n"
   ]
  },
  {
   "cell_type": "code",
   "execution_count": 9,
   "metadata": {},
   "outputs": [
    {
     "data": {
      "text/html": [
       "<div>\n",
       "<style scoped>\n",
       "    .dataframe tbody tr th:only-of-type {\n",
       "        vertical-align: middle;\n",
       "    }\n",
       "\n",
       "    .dataframe tbody tr th {\n",
       "        vertical-align: top;\n",
       "    }\n",
       "\n",
       "    .dataframe thead th {\n",
       "        text-align: right;\n",
       "    }\n",
       "</style>\n",
       "<table border=\"1\" class=\"dataframe\">\n",
       "  <thead>\n",
       "    <tr style=\"text-align: right;\">\n",
       "      <th></th>\n",
       "      <th>id</th>\n",
       "      <th>target</th>\n",
       "      <th>ts_start_h1</th>\n",
       "      <th>ts_end_h1</th>\n",
       "      <th>num_gaps_h1</th>\n",
       "      <th>length_h1</th>\n",
       "      <th>max_h1</th>\n",
       "      <th>90%_h1</th>\n",
       "      <th>25%_h1</th>\n",
       "      <th>10%_h1</th>\n",
       "      <th>ts_start_l1</th>\n",
       "      <th>ts_end_l1</th>\n",
       "      <th>num_gaps_l1</th>\n",
       "      <th>length_l1</th>\n",
       "      <th>max_l1</th>\n",
       "      <th>90%_l1</th>\n",
       "      <th>25%_l1</th>\n",
       "      <th>10%_l1</th>\n",
       "    </tr>\n",
       "  </thead>\n",
       "  <tbody>\n",
       "    <tr>\n",
       "      <th>0</th>\n",
       "      <td>00054c878</td>\n",
       "      <td>0.5</td>\n",
       "      <td>1238170136</td>\n",
       "      <td>1248567118</td>\n",
       "      <td>303</td>\n",
       "      <td>4639</td>\n",
       "      <td>36.596880</td>\n",
       "      <td>5.182469</td>\n",
       "      <td>0.648318</td>\n",
       "      <td>0.236532</td>\n",
       "      <td>1238168574</td>\n",
       "      <td>1248561347</td>\n",
       "      <td>324</td>\n",
       "      <td>4566</td>\n",
       "      <td>31.032060</td>\n",
       "      <td>5.172359</td>\n",
       "      <td>0.646489</td>\n",
       "      <td>0.236746</td>\n",
       "    </tr>\n",
       "    <tr>\n",
       "      <th>1</th>\n",
       "      <td>0007285a3</td>\n",
       "      <td>0.5</td>\n",
       "      <td>1238168014</td>\n",
       "      <td>1248520149</td>\n",
       "      <td>319</td>\n",
       "      <td>4427</td>\n",
       "      <td>33.348710</td>\n",
       "      <td>5.185728</td>\n",
       "      <td>0.645892</td>\n",
       "      <td>0.236174</td>\n",
       "      <td>1238169747</td>\n",
       "      <td>1248537247</td>\n",
       "      <td>325</td>\n",
       "      <td>4650</td>\n",
       "      <td>35.349796</td>\n",
       "      <td>5.194143</td>\n",
       "      <td>0.648571</td>\n",
       "      <td>0.237914</td>\n",
       "    </tr>\n",
       "    <tr>\n",
       "      <th>2</th>\n",
       "      <td>00076c5a6</td>\n",
       "      <td>0.5</td>\n",
       "      <td>1238168771</td>\n",
       "      <td>1248535146</td>\n",
       "      <td>281</td>\n",
       "      <td>4599</td>\n",
       "      <td>38.125170</td>\n",
       "      <td>5.181007</td>\n",
       "      <td>0.647001</td>\n",
       "      <td>0.236868</td>\n",
       "      <td>1238172441</td>\n",
       "      <td>1248567481</td>\n",
       "      <td>305</td>\n",
       "      <td>4633</td>\n",
       "      <td>35.410625</td>\n",
       "      <td>5.185566</td>\n",
       "      <td>0.646724</td>\n",
       "      <td>0.237244</td>\n",
       "    </tr>\n",
       "    <tr>\n",
       "      <th>3</th>\n",
       "      <td>001349290</td>\n",
       "      <td>0.5</td>\n",
       "      <td>1238170698</td>\n",
       "      <td>1248536462</td>\n",
       "      <td>295</td>\n",
       "      <td>4609</td>\n",
       "      <td>33.123688</td>\n",
       "      <td>5.186102</td>\n",
       "      <td>0.646682</td>\n",
       "      <td>0.236379</td>\n",
       "      <td>1238166901</td>\n",
       "      <td>1248536964</td>\n",
       "      <td>322</td>\n",
       "      <td>4621</td>\n",
       "      <td>31.477259</td>\n",
       "      <td>5.177888</td>\n",
       "      <td>0.645992</td>\n",
       "      <td>0.237332</td>\n",
       "    </tr>\n",
       "    <tr>\n",
       "      <th>4</th>\n",
       "      <td>001a52e92</td>\n",
       "      <td>0.5</td>\n",
       "      <td>1238166605</td>\n",
       "      <td>1248534994</td>\n",
       "      <td>314</td>\n",
       "      <td>4601</td>\n",
       "      <td>30.006860</td>\n",
       "      <td>5.180545</td>\n",
       "      <td>0.649487</td>\n",
       "      <td>0.237005</td>\n",
       "      <td>1238167190</td>\n",
       "      <td>1248542755</td>\n",
       "      <td>325</td>\n",
       "      <td>4366</td>\n",
       "      <td>31.458930</td>\n",
       "      <td>5.175384</td>\n",
       "      <td>0.647351</td>\n",
       "      <td>0.237881</td>\n",
       "    </tr>\n",
       "    <tr>\n",
       "      <th>...</th>\n",
       "      <td>...</td>\n",
       "      <td>...</td>\n",
       "      <td>...</td>\n",
       "      <td>...</td>\n",
       "      <td>...</td>\n",
       "      <td>...</td>\n",
       "      <td>...</td>\n",
       "      <td>...</td>\n",
       "      <td>...</td>\n",
       "      <td>...</td>\n",
       "      <td>...</td>\n",
       "      <td>...</td>\n",
       "      <td>...</td>\n",
       "      <td>...</td>\n",
       "      <td>...</td>\n",
       "      <td>...</td>\n",
       "      <td>...</td>\n",
       "      <td>...</td>\n",
       "    </tr>\n",
       "    <tr>\n",
       "      <th>7970</th>\n",
       "      <td>ffbce04ef</td>\n",
       "      <td>0.5</td>\n",
       "      <td>1238174572</td>\n",
       "      <td>1248548094</td>\n",
       "      <td>332</td>\n",
       "      <td>4533</td>\n",
       "      <td>34.117268</td>\n",
       "      <td>5.175504</td>\n",
       "      <td>0.645922</td>\n",
       "      <td>0.236845</td>\n",
       "      <td>1238173986</td>\n",
       "      <td>1248589023</td>\n",
       "      <td>318</td>\n",
       "      <td>4634</td>\n",
       "      <td>31.854813</td>\n",
       "      <td>5.188142</td>\n",
       "      <td>0.647497</td>\n",
       "      <td>0.237654</td>\n",
       "    </tr>\n",
       "    <tr>\n",
       "      <th>7971</th>\n",
       "      <td>ffc2d976b</td>\n",
       "      <td>0.5</td>\n",
       "      <td>1238178719</td>\n",
       "      <td>1248541890</td>\n",
       "      <td>285</td>\n",
       "      <td>4611</td>\n",
       "      <td>35.487473</td>\n",
       "      <td>5.169191</td>\n",
       "      <td>0.647208</td>\n",
       "      <td>0.236513</td>\n",
       "      <td>1238172684</td>\n",
       "      <td>1248539274</td>\n",
       "      <td>285</td>\n",
       "      <td>4730</td>\n",
       "      <td>29.164394</td>\n",
       "      <td>5.183527</td>\n",
       "      <td>0.647657</td>\n",
       "      <td>0.236972</td>\n",
       "    </tr>\n",
       "    <tr>\n",
       "      <th>7972</th>\n",
       "      <td>ffc905909</td>\n",
       "      <td>0.5</td>\n",
       "      <td>1238198490</td>\n",
       "      <td>1248582316</td>\n",
       "      <td>290</td>\n",
       "      <td>4726</td>\n",
       "      <td>30.702550</td>\n",
       "      <td>5.180704</td>\n",
       "      <td>0.645512</td>\n",
       "      <td>0.236194</td>\n",
       "      <td>1238171186</td>\n",
       "      <td>1248563155</td>\n",
       "      <td>302</td>\n",
       "      <td>4619</td>\n",
       "      <td>31.855278</td>\n",
       "      <td>5.190749</td>\n",
       "      <td>0.646872</td>\n",
       "      <td>0.236676</td>\n",
       "    </tr>\n",
       "    <tr>\n",
       "      <th>7973</th>\n",
       "      <td>ffe276f3e</td>\n",
       "      <td>0.5</td>\n",
       "      <td>1238167796</td>\n",
       "      <td>1248534967</td>\n",
       "      <td>307</td>\n",
       "      <td>4520</td>\n",
       "      <td>34.794548</td>\n",
       "      <td>5.182399</td>\n",
       "      <td>0.649433</td>\n",
       "      <td>0.238161</td>\n",
       "      <td>1238167002</td>\n",
       "      <td>1248535419</td>\n",
       "      <td>305</td>\n",
       "      <td>4533</td>\n",
       "      <td>31.888836</td>\n",
       "      <td>5.174247</td>\n",
       "      <td>0.649748</td>\n",
       "      <td>0.237436</td>\n",
       "    </tr>\n",
       "    <tr>\n",
       "      <th>7974</th>\n",
       "      <td>fffa17f67</td>\n",
       "      <td>0.5</td>\n",
       "      <td>1238166589</td>\n",
       "      <td>1248613429</td>\n",
       "      <td>310</td>\n",
       "      <td>4523</td>\n",
       "      <td>36.399986</td>\n",
       "      <td>5.633560</td>\n",
       "      <td>0.699183</td>\n",
       "      <td>0.255716</td>\n",
       "      <td>1238167207</td>\n",
       "      <td>1248542367</td>\n",
       "      <td>335</td>\n",
       "      <td>4611</td>\n",
       "      <td>37.469795</td>\n",
       "      <td>4.737347</td>\n",
       "      <td>0.588070</td>\n",
       "      <td>0.214774</td>\n",
       "    </tr>\n",
       "  </tbody>\n",
       "</table>\n",
       "<p>7975 rows × 18 columns</p>\n",
       "</div>"
      ],
      "text/plain": [
       "             id  target  ts_start_h1   ts_end_h1  num_gaps_h1  length_h1  \\\n",
       "0     00054c878     0.5   1238170136  1248567118          303       4639   \n",
       "1     0007285a3     0.5   1238168014  1248520149          319       4427   \n",
       "2     00076c5a6     0.5   1238168771  1248535146          281       4599   \n",
       "3     001349290     0.5   1238170698  1248536462          295       4609   \n",
       "4     001a52e92     0.5   1238166605  1248534994          314       4601   \n",
       "...         ...     ...          ...         ...          ...        ...   \n",
       "7970  ffbce04ef     0.5   1238174572  1248548094          332       4533   \n",
       "7971  ffc2d976b     0.5   1238178719  1248541890          285       4611   \n",
       "7972  ffc905909     0.5   1238198490  1248582316          290       4726   \n",
       "7973  ffe276f3e     0.5   1238167796  1248534967          307       4520   \n",
       "7974  fffa17f67     0.5   1238166589  1248613429          310       4523   \n",
       "\n",
       "         max_h1    90%_h1    25%_h1    10%_h1  ts_start_l1   ts_end_l1  \\\n",
       "0     36.596880  5.182469  0.648318  0.236532   1238168574  1248561347   \n",
       "1     33.348710  5.185728  0.645892  0.236174   1238169747  1248537247   \n",
       "2     38.125170  5.181007  0.647001  0.236868   1238172441  1248567481   \n",
       "3     33.123688  5.186102  0.646682  0.236379   1238166901  1248536964   \n",
       "4     30.006860  5.180545  0.649487  0.237005   1238167190  1248542755   \n",
       "...         ...       ...       ...       ...          ...         ...   \n",
       "7970  34.117268  5.175504  0.645922  0.236845   1238173986  1248589023   \n",
       "7971  35.487473  5.169191  0.647208  0.236513   1238172684  1248539274   \n",
       "7972  30.702550  5.180704  0.645512  0.236194   1238171186  1248563155   \n",
       "7973  34.794548  5.182399  0.649433  0.238161   1238167002  1248535419   \n",
       "7974  36.399986  5.633560  0.699183  0.255716   1238167207  1248542367   \n",
       "\n",
       "      num_gaps_l1  length_l1     max_l1    90%_l1    25%_l1    10%_l1  \n",
       "0             324       4566  31.032060  5.172359  0.646489  0.236746  \n",
       "1             325       4650  35.349796  5.194143  0.648571  0.237914  \n",
       "2             305       4633  35.410625  5.185566  0.646724  0.237244  \n",
       "3             322       4621  31.477259  5.177888  0.645992  0.237332  \n",
       "4             325       4366  31.458930  5.175384  0.647351  0.237881  \n",
       "...           ...        ...        ...       ...       ...       ...  \n",
       "7970          318       4634  31.854813  5.188142  0.647497  0.237654  \n",
       "7971          285       4730  29.164394  5.183527  0.647657  0.236972  \n",
       "7972          302       4619  31.855278  5.190749  0.646872  0.236676  \n",
       "7973          305       4533  31.888836  5.174247  0.649748  0.237436  \n",
       "7974          335       4611  37.469795  4.737347  0.588070  0.214774  \n",
       "\n",
       "[7975 rows x 18 columns]"
      ]
     },
     "execution_count": 9,
     "metadata": {},
     "output_type": "execute_result"
    }
   ],
   "source": [
    "test"
   ]
  },
  {
   "cell_type": "code",
   "execution_count": 12,
   "metadata": {},
   "outputs": [],
   "source": [
    "ts_all = {}\n",
    "for ts_r in gap_pattern_h1:\n",
    "    for ts in ts_r:\n",
    "        if ts in ts_all.keys():\n",
    "            ts_all[ts] += 1\n",
    "        else:\n",
    "            ts_all[ts] = 0"
   ]
  },
  {
   "cell_type": "code",
   "execution_count": 27,
   "metadata": {},
   "outputs": [],
   "source": [
    "ts_all = pd.DataFrame.from_dict(ts_all, 'index')"
   ]
  },
  {
   "cell_type": "code",
   "execution_count": 41,
   "metadata": {},
   "outputs": [
    {
     "data": {
      "text/plain": [
       "<AxesSubplot:>"
      ]
     },
     "execution_count": 41,
     "metadata": {},
     "output_type": "execute_result"
    },
    {
     "data": {
      "image/png": "[encoded data removed]",
      "text/plain": [
       "<Figure size 1080x288 with 1 Axes>"
      ]
     },
     "metadata": {
      "needs_background": "light"
     },
     "output_type": "display_data"
    }
   ],
   "source": [
    "ts_all.head(10000).plot(figsize=(15, 4), alpha=0.5)"
   ]
  },
  {
   "cell_type": "code",
   "execution_count": 127,
   "metadata": {},
   "outputs": [
    {
     "data": {
      "application/vnd.jupyter.widget-view+json": {
       "model_id": "f8920beea71a4cc3b32bafbe31ec4b9f",
       "version_major": 2,
       "version_minor": 0
      },
      "text/plain": [
       "  0%|          | 0/100 [00:00<?, ?it/s]"
      ]
     },
     "metadata": {},
     "output_type": "display_data"
    },
    {
     "ename": "KeyboardInterrupt",
     "evalue": "",
     "output_type": "error",
     "traceback": [
      "\u001b[0;31m---------------------------------------------------------------------------\u001b[0m",
      "\u001b[0;31mKeyboardInterrupt\u001b[0m                         Traceback (most recent call last)",
      "\u001b[1;32m/home/hiroshi_yoshihara/kaggle/kaggle-g2net-2022-private/05_error_analysis.ipynb Cell 51\u001b[0m in \u001b[0;36m<cell line: 7>\u001b[0;34m()\u001b[0m\n\u001b[1;32m     <a href='vscode-notebook-cell://ssh-remote%2Bheor_workstation1/home/hiroshi_yoshihara/kaggle/kaggle-g2net-2022-private/05_error_analysis.ipynb#Y114sdnNjb2RlLXJlbW90ZQ%3D%3D?line=9'>10</a>\u001b[0m     \u001b[39mcontinue\u001b[39;00m\n\u001b[1;32m     <a href='vscode-notebook-cell://ssh-remote%2Bheor_workstation1/home/hiroshi_yoshihara/kaggle/kaggle-g2net-2022-private/05_error_analysis.ipynb#Y114sdnNjb2RlLXJlbW90ZQ%3D%3D?line=10'>11</a>\u001b[0m \u001b[39melse\u001b[39;00m:\n\u001b[0;32m---> <a href='vscode-notebook-cell://ssh-remote%2Bheor_workstation1/home/hiroshi_yoshihara/kaggle/kaggle-g2net-2022-private/05_error_analysis.ipynb#Y114sdnNjb2RlLXJlbW90ZQ%3D%3D?line=11'>12</a>\u001b[0m     dtw_sim[i, j] \u001b[39m=\u001b[39m metrics\u001b[39m.\u001b[39;49mdtw_path(gap_pattern_h1[i], gap_pattern_h1[j])[\u001b[39m1\u001b[39m]\n",
      "File \u001b[0;32m~/.pyenv/versions/anaconda3-2020.02/envs/g2net2022/lib/python3.9/site-packages/tslearn/metrics/dtw_variants.py:199\u001b[0m, in \u001b[0;36mdtw_path\u001b[0;34m(s1, s2, global_constraint, sakoe_chiba_radius, itakura_max_slope)\u001b[0m\n\u001b[1;32m    193\u001b[0m     \u001b[39mraise\u001b[39;00m \u001b[39mValueError\u001b[39;00m(\u001b[39m\"\u001b[39m\u001b[39mOne of the input time series contains only nans or has zero length.\u001b[39m\u001b[39m\"\u001b[39m)\n\u001b[1;32m    195\u001b[0m mask \u001b[39m=\u001b[39m compute_mask(\n\u001b[1;32m    196\u001b[0m     s1, s2, GLOBAL_CONSTRAINT_CODE[global_constraint],\n\u001b[1;32m    197\u001b[0m     sakoe_chiba_radius, itakura_max_slope\n\u001b[1;32m    198\u001b[0m )\n\u001b[0;32m--> 199\u001b[0m acc_cost_mat \u001b[39m=\u001b[39m njit_accumulated_matrix(s1, s2, mask\u001b[39m=\u001b[39;49mmask)\n\u001b[1;32m    200\u001b[0m path \u001b[39m=\u001b[39m _return_path(acc_cost_mat)\n\u001b[1;32m    201\u001b[0m \u001b[39mreturn\u001b[39;00m path, numpy\u001b[39m.\u001b[39msqrt(acc_cost_mat[\u001b[39m-\u001b[39m\u001b[39m1\u001b[39m, \u001b[39m-\u001b[39m\u001b[39m1\u001b[39m])\n",
      "\u001b[0;31mKeyboardInterrupt\u001b[0m: "
     ]
    }
   ],
   "source": [
    "dtw_sim = np.zeros((len(gap_pattern_h1), len(gap_pattern_h1)), dtype=float)\n",
    "\n",
    "# def calc_dtw(a, b, sim):\n",
    "#     sim[]\n",
    "\n",
    "# for i in tqdm(range(len(gap_pattern_h1))):\n",
    "for i in tqdm(range(100)):\n",
    "    for j in range(len(gap_pattern_h1)):\n",
    "        if i >= j:\n",
    "            continue\n",
    "        else:\n",
    "            dtw_sim[i, j] = metrics.dtw_path(gap_pattern_h1[i], gap_pattern_h1[j])[1]\n"
   ]
  },
  {
   "cell_type": "code",
   "execution_count": 51,
   "metadata": {},
   "outputs": [],
   "source": [
    "slopes = np.array([(ts[-1] - ts[0]) / len(ts) for ts in gap_pattern_h1])"
   ]
  },
  {
   "cell_type": "code",
   "execution_count": 64,
   "metadata": {},
   "outputs": [
    {
     "name": "stdout",
     "output_type": "stream",
     "text": [
      "7205 7205 0.0\n"
     ]
    }
   ],
   "source": [
    "\n",
    "for i in range(len(slopes)):\n",
    "    j = np.argsort(np.abs((slopes - slopes[i])))[1]\n",
    "    score = np.abs(gap_pattern_h1[i][1000:2000] - gap_pattern_h1[j][1000:2000]).mean()\n",
    "    if score < 1000:\n",
    "        print(i, j, score)"
   ]
  },
  {
   "cell_type": "code",
   "execution_count": 67,
   "metadata": {},
   "outputs": [
    {
     "data": {
      "text/plain": [
       "array([5160, 7205, 3491, ..., 1613, 3154, 4062])"
      ]
     },
     "execution_count": 67,
     "metadata": {},
     "output_type": "execute_result"
    }
   ],
   "source": [
    "np.argsort(np.abs((slopes - slopes[5160])))"
   ]
  },
  {
   "cell_type": "code",
   "execution_count": 68,
   "metadata": {},
   "outputs": [
    {
     "data": {
      "text/plain": [
       "[<matplotlib.lines.Line2D at 0x7f61e2c460a0>]"
      ]
     },
     "execution_count": 68,
     "metadata": {},
     "output_type": "execute_result"
    },
    {
     "data": {
      "image/png": "[encoded data removed]",
      "text/plain": [
       "<Figure size 432x288 with 1 Axes>"
      ]
     },
     "metadata": {
      "needs_background": "light"
     },
     "output_type": "display_data"
    }
   ],
   "source": [
    "plt.plot(gap_pattern_h1[5160], alpha=0.5)\n",
    "plt.plot(gap_pattern_h1[7205], alpha=0.5)"
   ]
  },
  {
   "cell_type": "code",
   "execution_count": 11,
   "metadata": {},
   "outputs": [],
   "source": [
    "gaps = np.stack([(gap_pattern_h1[i][1:] - (gap_pattern_h1[i][:-1] + 1800))[:4096] for i in range(len(gap_pattern_h1))])"
   ]
  },
  {
   "cell_type": "code",
   "execution_count": 50,
   "metadata": {},
   "outputs": [
    {
     "data": {
      "image/png": "[encoded data removed]",
      "text/plain": [
       "<Figure size 432x288 with 1 Axes>"
      ]
     },
     "metadata": {
      "needs_background": "light"
     },
     "output_type": "display_data"
    }
   ],
   "source": [
    "for idx in test.query('1238160000 < ts_start_h1 < 1238170000').index[:20]:\n",
    "    plt.plot(gaps[idx] / 1800, alpha=0.2)\n",
    "plt.show()"
   ]
  },
  {
   "cell_type": "code",
   "execution_count": 40,
   "metadata": {},
   "outputs": [],
   "source": [
    "with open('input/g2net-detecting-continuous-gravitational-waves/v13/00a0beb7d_strong.pickle', 'rb') as f:\n",
    "    data = pickle.load(f)['00a0beb7d_strong']"
   ]
  },
  {
   "cell_type": "code",
   "execution_count": 41,
   "metadata": {},
   "outputs": [
    {
     "data": {
      "image/png": "[encoded data removed]",
      "text/plain": [
       "<Figure size 432x288 with 1 Axes>"
      ]
     },
     "metadata": {
      "needs_background": "light"
     },
     "output_type": "display_data"
    }
   ],
   "source": [
    "ts = data['H1']['timestamps_GPS']\n",
    "plt.plot(ts[1:]-ts[:-1]-1800)\n",
    "plt.show()"
   ]
  },
  {
   "cell_type": "code",
   "execution_count": 103,
   "metadata": {},
   "outputs": [],
   "source": [
    "sample_gaps = np.stack([gap_pattern_h1[idx] for idx in test_summary.query('num_gaps_h1 == 308 and length_h1 == 4586').index], axis=0)"
   ]
  },
  {
   "cell_type": "code",
   "execution_count": 104,
   "metadata": {},
   "outputs": [
    {
     "data": {
      "text/html": [
       "<div>\n",
       "<style scoped>\n",
       "    .dataframe tbody tr th:only-of-type {\n",
       "        vertical-align: middle;\n",
       "    }\n",
       "\n",
       "    .dataframe tbody tr th {\n",
       "        vertical-align: top;\n",
       "    }\n",
       "\n",
       "    .dataframe thead th {\n",
       "        text-align: right;\n",
       "    }\n",
       "</style>\n",
       "<table border=\"1\" class=\"dataframe\">\n",
       "  <thead>\n",
       "    <tr style=\"text-align: right;\">\n",
       "      <th></th>\n",
       "      <th>idx</th>\n",
       "      <th>ts_start_h1</th>\n",
       "      <th>ts_end_h1</th>\n",
       "      <th>num_gaps_h1</th>\n",
       "      <th>length_h1</th>\n",
       "      <th>max_h1</th>\n",
       "      <th>90%_h1</th>\n",
       "      <th>25%_h1</th>\n",
       "      <th>10%_h1</th>\n",
       "      <th>ts_start_l1</th>\n",
       "      <th>ts_end_l1</th>\n",
       "      <th>num_gaps_l1</th>\n",
       "      <th>length_l1</th>\n",
       "      <th>max_l1</th>\n",
       "      <th>90%_l1</th>\n",
       "      <th>25%_l1</th>\n",
       "      <th>10%_l1</th>\n",
       "    </tr>\n",
       "  </thead>\n",
       "  <tbody>\n",
       "    <tr>\n",
       "      <th>398</th>\n",
       "      <td>0d44727af</td>\n",
       "      <td>1238169930</td>\n",
       "      <td>1248538508</td>\n",
       "      <td>308</td>\n",
       "      <td>4586</td>\n",
       "      <td>33.024450</td>\n",
       "      <td>5.178337</td>\n",
       "      <td>0.646159</td>\n",
       "      <td>0.237518</td>\n",
       "      <td>1238178754</td>\n",
       "      <td>1248541139</td>\n",
       "      <td>299</td>\n",
       "      <td>4671</td>\n",
       "      <td>37.845000</td>\n",
       "      <td>5.178863</td>\n",
       "      <td>0.646074</td>\n",
       "      <td>0.236629</td>\n",
       "    </tr>\n",
       "    <tr>\n",
       "      <th>1625</th>\n",
       "      <td>33abc2840</td>\n",
       "      <td>1238176586</td>\n",
       "      <td>1248546451</td>\n",
       "      <td>308</td>\n",
       "      <td>4586</td>\n",
       "      <td>50.668330</td>\n",
       "      <td>7.617584</td>\n",
       "      <td>0.941898</td>\n",
       "      <td>0.344077</td>\n",
       "      <td>1238177964</td>\n",
       "      <td>1248554606</td>\n",
       "      <td>308</td>\n",
       "      <td>4636</td>\n",
       "      <td>41.704086</td>\n",
       "      <td>5.717065</td>\n",
       "      <td>0.707238</td>\n",
       "      <td>0.258717</td>\n",
       "    </tr>\n",
       "    <tr>\n",
       "      <th>3863</th>\n",
       "      <td>7afebcc9a</td>\n",
       "      <td>1238186852</td>\n",
       "      <td>1248576229</td>\n",
       "      <td>308</td>\n",
       "      <td>4586</td>\n",
       "      <td>31.358068</td>\n",
       "      <td>5.177861</td>\n",
       "      <td>0.646613</td>\n",
       "      <td>0.236951</td>\n",
       "      <td>1238168392</td>\n",
       "      <td>1248525485</td>\n",
       "      <td>328</td>\n",
       "      <td>4567</td>\n",
       "      <td>32.067184</td>\n",
       "      <td>5.184249</td>\n",
       "      <td>0.647367</td>\n",
       "      <td>0.235899</td>\n",
       "    </tr>\n",
       "    <tr>\n",
       "      <th>5647</th>\n",
       "      <td>b5885821b</td>\n",
       "      <td>1238166925</td>\n",
       "      <td>1248576752</td>\n",
       "      <td>308</td>\n",
       "      <td>4586</td>\n",
       "      <td>34.884823</td>\n",
       "      <td>5.175643</td>\n",
       "      <td>0.647451</td>\n",
       "      <td>0.237412</td>\n",
       "      <td>1238167887</td>\n",
       "      <td>1248612082</td>\n",
       "      <td>297</td>\n",
       "      <td>4608</td>\n",
       "      <td>31.255919</td>\n",
       "      <td>5.181400</td>\n",
       "      <td>0.646698</td>\n",
       "      <td>0.237039</td>\n",
       "    </tr>\n",
       "    <tr>\n",
       "      <th>6862</th>\n",
       "      <td>db800e410</td>\n",
       "      <td>1238172505</td>\n",
       "      <td>1248569916</td>\n",
       "      <td>308</td>\n",
       "      <td>4586</td>\n",
       "      <td>46.091210</td>\n",
       "      <td>6.041192</td>\n",
       "      <td>0.748157</td>\n",
       "      <td>0.274336</td>\n",
       "      <td>1238182189</td>\n",
       "      <td>1248531735</td>\n",
       "      <td>314</td>\n",
       "      <td>4584</td>\n",
       "      <td>33.979584</td>\n",
       "      <td>4.916932</td>\n",
       "      <td>0.609162</td>\n",
       "      <td>0.222308</td>\n",
       "    </tr>\n",
       "  </tbody>\n",
       "</table>\n",
       "</div>"
      ],
      "text/plain": [
       "            idx  ts_start_h1   ts_end_h1  num_gaps_h1  length_h1     max_h1  \\\n",
       "398   0d44727af   1238169930  1248538508          308       4586  33.024450   \n",
       "1625  33abc2840   1238176586  1248546451          308       4586  50.668330   \n",
       "3863  7afebcc9a   1238186852  1248576229          308       4586  31.358068   \n",
       "5647  b5885821b   1238166925  1248576752          308       4586  34.884823   \n",
       "6862  db800e410   1238172505  1248569916          308       4586  46.091210   \n",
       "\n",
       "        90%_h1    25%_h1    10%_h1  ts_start_l1   ts_end_l1  num_gaps_l1  \\\n",
       "398   5.178337  0.646159  0.237518   1238178754  1248541139          299   \n",
       "1625  7.617584  0.941898  0.344077   1238177964  1248554606          308   \n",
       "3863  5.177861  0.646613  0.236951   1238168392  1248525485          328   \n",
       "5647  5.175643  0.647451  0.237412   1238167887  1248612082          297   \n",
       "6862  6.041192  0.748157  0.274336   1238182189  1248531735          314   \n",
       "\n",
       "      length_l1     max_l1    90%_l1    25%_l1    10%_l1  \n",
       "398        4671  37.845000  5.178863  0.646074  0.236629  \n",
       "1625       4636  41.704086  5.717065  0.707238  0.258717  \n",
       "3863       4567  32.067184  5.184249  0.647367  0.235899  \n",
       "5647       4608  31.255919  5.181400  0.646698  0.237039  \n",
       "6862       4584  33.979584  4.916932  0.609162  0.222308  "
      ]
     },
     "execution_count": 104,
     "metadata": {},
     "output_type": "execute_result"
    }
   ],
   "source": [
    "test_summary.query('num_gaps_h1 == 308 and length_h1 == 4586')"
   ]
  },
  {
   "cell_type": "code",
   "execution_count": null,
   "metadata": {},
   "outputs": [],
   "source": [
    "sample_gaps = np.stack([gap_pattern_h1[idx] for idx in test_summary.query('num_gaps_h1 == 308 and length_h1 == 4586').index], axis=0)"
   ]
  },
  {
   "cell_type": "code",
   "execution_count": 106,
   "metadata": {},
   "outputs": [
    {
     "data": {
      "text/html": [
       "<div>\n",
       "<style scoped>\n",
       "    .dataframe tbody tr th:only-of-type {\n",
       "        vertical-align: middle;\n",
       "    }\n",
       "\n",
       "    .dataframe tbody tr th {\n",
       "        vertical-align: top;\n",
       "    }\n",
       "\n",
       "    .dataframe thead th {\n",
       "        text-align: right;\n",
       "    }\n",
       "</style>\n",
       "<table border=\"1\" class=\"dataframe\">\n",
       "  <thead>\n",
       "    <tr style=\"text-align: right;\">\n",
       "      <th></th>\n",
       "      <th>id</th>\n",
       "      <th>target</th>\n",
       "      <th>ts_start_h1</th>\n",
       "      <th>ts_end_h1</th>\n",
       "      <th>num_gaps_h1</th>\n",
       "      <th>length_h1</th>\n",
       "      <th>max_h1</th>\n",
       "      <th>90%_h1</th>\n",
       "      <th>25%_h1</th>\n",
       "      <th>10%_h1</th>\n",
       "      <th>ts_start_l1</th>\n",
       "      <th>ts_end_l1</th>\n",
       "      <th>num_gaps_l1</th>\n",
       "      <th>length_l1</th>\n",
       "      <th>max_l1</th>\n",
       "      <th>90%_l1</th>\n",
       "      <th>25%_l1</th>\n",
       "      <th>10%_l1</th>\n",
       "    </tr>\n",
       "  </thead>\n",
       "  <tbody>\n",
       "    <tr>\n",
       "      <th>1772</th>\n",
       "      <td>3872d8ca8</td>\n",
       "      <td>0.5</td>\n",
       "      <td>1238167615</td>\n",
       "      <td>1248553133</td>\n",
       "      <td>288</td>\n",
       "      <td>4743</td>\n",
       "      <td>32.342910</td>\n",
       "      <td>5.180493</td>\n",
       "      <td>0.647864</td>\n",
       "      <td>0.237463</td>\n",
       "      <td>1238170192</td>\n",
       "      <td>1248546442</td>\n",
       "      <td>287</td>\n",
       "      <td>4699</td>\n",
       "      <td>34.335630</td>\n",
       "      <td>5.180831</td>\n",
       "      <td>0.647100</td>\n",
       "      <td>0.236684</td>\n",
       "    </tr>\n",
       "    <tr>\n",
       "      <th>3280</th>\n",
       "      <td>69671b6f6</td>\n",
       "      <td>0.5</td>\n",
       "      <td>1238167615</td>\n",
       "      <td>1248524727</td>\n",
       "      <td>296</td>\n",
       "      <td>4700</td>\n",
       "      <td>37.139534</td>\n",
       "      <td>5.178225</td>\n",
       "      <td>0.646157</td>\n",
       "      <td>0.236674</td>\n",
       "      <td>1238173320</td>\n",
       "      <td>1248539110</td>\n",
       "      <td>311</td>\n",
       "      <td>4535</td>\n",
       "      <td>32.458920</td>\n",
       "      <td>5.177727</td>\n",
       "      <td>0.645889</td>\n",
       "      <td>0.235576</td>\n",
       "    </tr>\n",
       "    <tr>\n",
       "      <th>4653</th>\n",
       "      <td>95ba369ac</td>\n",
       "      <td>0.5</td>\n",
       "      <td>1238167615</td>\n",
       "      <td>1248580294</td>\n",
       "      <td>291</td>\n",
       "      <td>4602</td>\n",
       "      <td>35.613644</td>\n",
       "      <td>5.180674</td>\n",
       "      <td>0.646553</td>\n",
       "      <td>0.236125</td>\n",
       "      <td>1238171994</td>\n",
       "      <td>1248539084</td>\n",
       "      <td>284</td>\n",
       "      <td>4598</td>\n",
       "      <td>37.339115</td>\n",
       "      <td>5.180288</td>\n",
       "      <td>0.646298</td>\n",
       "      <td>0.236907</td>\n",
       "    </tr>\n",
       "    <tr>\n",
       "      <th>6406</th>\n",
       "      <td>cd00b0bd5</td>\n",
       "      <td>0.5</td>\n",
       "      <td>1238167615</td>\n",
       "      <td>1248535817</td>\n",
       "      <td>283</td>\n",
       "      <td>4487</td>\n",
       "      <td>30.124931</td>\n",
       "      <td>5.188857</td>\n",
       "      <td>0.648671</td>\n",
       "      <td>0.237234</td>\n",
       "      <td>1238177743</td>\n",
       "      <td>1248548446</td>\n",
       "      <td>325</td>\n",
       "      <td>4366</td>\n",
       "      <td>31.656479</td>\n",
       "      <td>5.183656</td>\n",
       "      <td>0.646575</td>\n",
       "      <td>0.237693</td>\n",
       "    </tr>\n",
       "    <tr>\n",
       "      <th>6658</th>\n",
       "      <td>d4ba25656</td>\n",
       "      <td>0.5</td>\n",
       "      <td>1238167615</td>\n",
       "      <td>1248542571</td>\n",
       "      <td>296</td>\n",
       "      <td>4516</td>\n",
       "      <td>34.687187</td>\n",
       "      <td>5.179903</td>\n",
       "      <td>0.647368</td>\n",
       "      <td>0.237589</td>\n",
       "      <td>1238171027</td>\n",
       "      <td>1248566691</td>\n",
       "      <td>314</td>\n",
       "      <td>4545</td>\n",
       "      <td>32.841976</td>\n",
       "      <td>5.181159</td>\n",
       "      <td>0.645393</td>\n",
       "      <td>0.237405</td>\n",
       "    </tr>\n",
       "  </tbody>\n",
       "</table>\n",
       "</div>"
      ],
      "text/plain": [
       "             id  target  ts_start_h1   ts_end_h1  num_gaps_h1  length_h1  \\\n",
       "1772  3872d8ca8     0.5   1238167615  1248553133          288       4743   \n",
       "3280  69671b6f6     0.5   1238167615  1248524727          296       4700   \n",
       "4653  95ba369ac     0.5   1238167615  1248580294          291       4602   \n",
       "6406  cd00b0bd5     0.5   1238167615  1248535817          283       4487   \n",
       "6658  d4ba25656     0.5   1238167615  1248542571          296       4516   \n",
       "\n",
       "         max_h1    90%_h1    25%_h1    10%_h1  ts_start_l1   ts_end_l1  \\\n",
       "1772  32.342910  5.180493  0.647864  0.237463   1238170192  1248546442   \n",
       "3280  37.139534  5.178225  0.646157  0.236674   1238173320  1248539110   \n",
       "4653  35.613644  5.180674  0.646553  0.236125   1238171994  1248539084   \n",
       "6406  30.124931  5.188857  0.648671  0.237234   1238177743  1248548446   \n",
       "6658  34.687187  5.179903  0.647368  0.237589   1238171027  1248566691   \n",
       "\n",
       "      num_gaps_l1  length_l1     max_l1    90%_l1    25%_l1    10%_l1  \n",
       "1772          287       4699  34.335630  5.180831  0.647100  0.236684  \n",
       "3280          311       4535  32.458920  5.177727  0.645889  0.235576  \n",
       "4653          284       4598  37.339115  5.180288  0.646298  0.236907  \n",
       "6406          325       4366  31.656479  5.183656  0.646575  0.237693  \n",
       "6658          314       4545  32.841976  5.181159  0.645393  0.237405  "
      ]
     },
     "execution_count": 106,
     "metadata": {},
     "output_type": "execute_result"
    }
   ],
   "source": [
    "test.query('ts_start_h1 == 1238167615')"
   ]
  },
  {
   "cell_type": "code",
   "execution_count": 119,
   "metadata": {},
   "outputs": [
    {
     "data": {
      "image/png": "[encoded data removed]",
      "text/plain": [
       "<Figure size 1440x432 with 4 Axes>"
      ]
     },
     "metadata": {
      "needs_background": "light"
     },
     "output_type": "display_data"
    },
    {
     "data": {
      "image/png": "[encoded data removed]",
      "text/plain": [
       "<Figure size 1440x432 with 4 Axes>"
      ]
     },
     "metadata": {
      "needs_background": "light"
     },
     "output_type": "display_data"
    }
   ],
   "source": [
    "ds = G2Net2022Dataset3(\n",
    "    # test.query('ts_start_h1 == 1238167615'),\n",
    "    test.iloc[[14, 7569]],\n",
    "    data_dir=Path('input/g2net-detecting-continuous-gravitational-waves/test'),\n",
    "    # preprocess=A.Compose([\n",
    "    #     ToSpectrogram(), AdaptiveResize(16), NormalizeSpectrogram('constant')]),\n",
    "    # transforms=ToTensorV2()\n",
    "    preprocess=A.Compose([\n",
    "        ToSpectrogram(), NormalizeSpectrogram('constant')\n",
    "    ]),\n",
    "    transforms=A.Compose([\n",
    "        ToTensorV2()\n",
    "    ]),\n",
    "    match_time=True\n",
    ")\n",
    "for idx, (specs, _) in enumerate(ds):\n",
    "    gid = ds.df.iloc[idx]['id']\n",
    "    plt.figure(figsize=(20, 6))\n",
    "    plt.suptitle(f'{idx} {gid}')\n",
    "    plt.subplot(1, 4, 1)\n",
    "    plt.imshow(specs[0])\n",
    "    plt.title('H1')\n",
    "    plt.subplot(1, 4, 2)\n",
    "    plt.imshow(specs[1])\n",
    "    plt.title('L1')\n",
    "    plt.subplot(1, 4, 3)\n",
    "    plt.plot(specs[0, :, 128])\n",
    "    plt.plot(specs[1, :, 128])\n",
    "    plt.title('time slice')\n",
    "    plt.subplot(1, 4, 4)\n",
    "    plt.plot(specs[0, 180, :])\n",
    "    plt.plot(specs[1, 180, :])\n",
    "    plt.title('freq slice')\n",
    "    plt.show()\n",
    "    plt.close()\n",
    "    # plt.savefig(f'test/{idx}.png', facecolor='white')\n",
    "    # plt.close()\n",
    "    if idx == 10:\n",
    "        break"
   ]
  },
  {
   "cell_type": "code",
   "execution_count": null,
   "metadata": {},
   "outputs": [],
   "source": []
  }
 ],
 "metadata": {
  "kernelspec": {
   "display_name": "Python 3.9.12 64-bit ('g2net2022')",
   "language": "python",
   "name": "python3"
  },
  "language_info": {
   "codemirror_mode": {
    "name": "ipython",
    "version": 3
   },
   "file_extension": ".py",
   "mimetype": "text/x-python",
   "name": "python",
   "nbconvert_exporter": "python",
   "pygments_lexer": "ipython3",
   "version": "3.9.12"
  },
  "orig_nbformat": 4,
  "vscode": {
   "interpreter": {
    "hash": "5dea5685396fbb5c4cb1362c70a04df04e4216ac58fd84021824ed85cc3a5a6a"
   }
  }
 },
 "nbformat": 4,
 "nbformat_minor": 2
}
