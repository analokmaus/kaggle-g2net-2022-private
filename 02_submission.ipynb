{
 "cells": [
  {
   "cell_type": "code",
   "execution_count": 3,
   "metadata": {},
   "outputs": [],
   "source": [
    "%load_ext autoreload\n",
    "%autoreload 2"
   ]
  },
  {
   "cell_type": "code",
   "execution_count": 4,
   "metadata": {},
   "outputs": [],
   "source": [
    "import numpy as np\n",
    "import pandas as pd\n",
    "import pickle\n",
    "from pathlib import Path\n",
    "from kuma_utils.utils import sigmoid\n",
    "import matplotlib.pyplot as plt\n",
    "import seaborn as sns\n",
    "from sklearn.metrics import roc_auc_score\n",
    "from sklearn.linear_model import Ridge\n",
    "\n",
    "from datasets import *\n",
    "from transforms import *\n",
    "import albumentations as A\n",
    "from albumentations.pytorch.transforms import ToTensorV2"
   ]
  },
  {
   "cell_type": "code",
   "execution_count": 5,
   "metadata": {},
   "outputs": [],
   "source": [
    "test = pd.read_csv('input/g2net-detecting-continuous-gravitational-waves/sample_submission.csv')\n",
    "valid = pd.read_csv('input/g2net-detecting-continuous-gravitational-waves/v18v.csv')\n",
    "public748 = pd.read_csv('input/public748.csv')\n",
    "iafoss_v5160 = {\n",
    "    'oof': pd.read_csv('input/predictions/val_model_v5_1_6_0.csv'),\n",
    "    'pred': pd.read_csv('input/predictions/submission_model_v5_1_6_0.csv')}\n",
    "iafoss_v5210 = {\n",
    "    'oof': pd.read_csv('input/predictions/val_model_v5_2_1_0.csv'),\n",
    "    'pred': pd.read_csv('input/predictions/submission_model_v5_2_1_0.csv')}\n",
    "iafoss_v7000 = {\n",
    "    'oof': pd.read_csv('input/predictions/val_model_v7_0_0_0.csv'),\n",
    "    'pred': pd.read_csv('input/predictions/submission_model_v7_0_0_0.csv')}\n",
    "chris_v16 = {\n",
    "    'oof': pd.read_csv('input/predictions/valset_16_0.7036.csv'),\n",
    "    'pred': pd.read_csv('input/predictions/sub_16_bce_mse.csv')}\n",
    "chris_v18 = {\n",
    "    'oof': pd.read_csv('input/predictions/valset_18_0.6997.csv'),\n",
    "    'pred': pd.read_csv('input/predictions/sub_18_double_model.csv')}\n",
    "drhb_exp200 = {\n",
    "    'oof': pd.read_csv('input/predictions/EXP_200_BASELINE_CASHE_V4_EVAL.csv', usecols=['id', 'pred']),\n",
    "    'pred': pd.read_csv('input/predictions/EXP_200_BASELINE_CASHE_V4.csv')}"
   ]
  },
  {
   "cell_type": "code",
   "execution_count": 6,
   "metadata": {},
   "outputs": [],
   "source": [
    "model_paths = [\n",
    "    # Path('results/ds_09_val0'),\n",
    "    # Path('results/ds_09_val1'),\n",
    "    # Path('results/aug_04'),\n",
    "    # # Path('results/ds_14'),\n",
    "    # # Path('results/ds_15'),\n",
    "    # # Path('results/ds_16'),\n",
    "    # # Path('results/model_02'),\n",
    "    # Path('results/ds_14_prep2'),\n",
    "    # Path('results/ds_17_prep2'),\n",
    "    Path('results/ds_18_prep0'),\n",
    "]\n"
   ]
  },
  {
   "cell_type": "code",
   "execution_count": 7,
   "metadata": {},
   "outputs": [],
   "source": [
    "prediction_df = {}\n",
    "oof_df = {}\n",
    "for p in model_paths:\n",
    "    pred = sigmoid(np.load(p/'predictions_tta.npy'))\n",
    "    oof = sigmoid(np.load(p/'outoffolds_tta.npy'))\n",
    "\n",
    "    if pred.shape[1] == 1:\n",
    "        pred = pred.reshape(-1)\n",
    "    elif pred.shape[0] == 5:\n",
    "        pred = pred[0].reshape(-1)\n",
    "    prediction_df[p.stem] = pred\n",
    "    oof_df[p.stem] = oof.reshape(-1)\n",
    "prediction_df = pd.DataFrame(prediction_df)\n",
    "prediction_df['id'] = test['id']\n",
    "prediction_df['iafoss_v5160'] = iafoss_v5160['pred'].merge(prediction_df[['id']], on='id', how='right')['target']\n",
    "prediction_df['iafoss_v5210'] = iafoss_v5210['pred'].merge(prediction_df[['id']], on='id', how='right')['target']\n",
    "prediction_df['iafoss_v7000'] = iafoss_v7000['pred'].merge(prediction_df[['id']], on='id', how='right')['target']\n",
    "prediction_df['drhb_exp200'] = drhb_exp200['pred'].merge(prediction_df[['id']], on='id', how='right')['target']\n",
    "prediction_df['chris_v16'] = chris_v16['pred'].merge(prediction_df[['id']], on='id', how='right')['target']\n",
    "prediction_df['chris_v18'] = chris_v18['pred'].merge(prediction_df[['id']], on='id', how='right')['target']\n",
    "oof_df = pd.DataFrame(oof_df)\n",
    "oof_df['id'] = valid['id']\n",
    "oof_df['iafoss_v5160'] = iafoss_v5160['oof']['target']\n",
    "oof_df['iafoss_v5210'] = iafoss_v5210['oof']['target']\n",
    "oof_df['iafoss_v7000'] = iafoss_v7000['oof']['target']\n",
    "oof_df['drhb_exp200'] = drhb_exp200['oof']['pred']\n",
    "oof_df['chris_v16'] = chris_v16['oof']['target']\n",
    "oof_df['chris_v18'] = chris_v18['oof']['target']"
   ]
  },
  {
   "cell_type": "code",
   "execution_count": 8,
   "metadata": {},
   "outputs": [
    {
     "data": {
      "text/html": [
       "<div>\n",
       "<style scoped>\n",
       "    .dataframe tbody tr th:only-of-type {\n",
       "        vertical-align: middle;\n",
       "    }\n",
       "\n",
       "    .dataframe tbody tr th {\n",
       "        vertical-align: top;\n",
       "    }\n",
       "\n",
       "    .dataframe thead th {\n",
       "        text-align: right;\n",
       "    }\n",
       "</style>\n",
       "<table border=\"1\" class=\"dataframe\">\n",
       "  <thead>\n",
       "    <tr style=\"text-align: right;\">\n",
       "      <th></th>\n",
       "      <th>ds_18_prep0</th>\n",
       "      <th>id</th>\n",
       "      <th>iafoss_v5160</th>\n",
       "      <th>iafoss_v5210</th>\n",
       "      <th>iafoss_v7000</th>\n",
       "      <th>drhb_exp200</th>\n",
       "      <th>chris_v16</th>\n",
       "      <th>chris_v18</th>\n",
       "      <th>target</th>\n",
       "    </tr>\n",
       "  </thead>\n",
       "  <tbody>\n",
       "    <tr>\n",
       "      <th>0</th>\n",
       "      <td>0.471828</td>\n",
       "      <td>3c451363c_negative</td>\n",
       "      <td>0.521484</td>\n",
       "      <td>0.571289</td>\n",
       "      <td>0.519531</td>\n",
       "      <td>0.270715</td>\n",
       "      <td>0.246893</td>\n",
       "      <td>0.255523</td>\n",
       "      <td>0</td>\n",
       "    </tr>\n",
       "    <tr>\n",
       "      <th>1</th>\n",
       "      <td>0.487656</td>\n",
       "      <td>d036cb94b_negative</td>\n",
       "      <td>0.471680</td>\n",
       "      <td>0.505859</td>\n",
       "      <td>0.490967</td>\n",
       "      <td>0.308455</td>\n",
       "      <td>0.288972</td>\n",
       "      <td>0.292009</td>\n",
       "      <td>0</td>\n",
       "    </tr>\n",
       "    <tr>\n",
       "      <th>2</th>\n",
       "      <td>0.566253</td>\n",
       "      <td>ef4bfb410_negative</td>\n",
       "      <td>0.513184</td>\n",
       "      <td>0.550781</td>\n",
       "      <td>0.540039</td>\n",
       "      <td>0.272621</td>\n",
       "      <td>0.351056</td>\n",
       "      <td>0.263222</td>\n",
       "      <td>0</td>\n",
       "    </tr>\n",
       "    <tr>\n",
       "      <th>3</th>\n",
       "      <td>0.999999</td>\n",
       "      <td>c374ae4ef_negative</td>\n",
       "      <td>0.532715</td>\n",
       "      <td>0.551758</td>\n",
       "      <td>0.555176</td>\n",
       "      <td>0.320555</td>\n",
       "      <td>0.274788</td>\n",
       "      <td>0.264604</td>\n",
       "      <td>0</td>\n",
       "    </tr>\n",
       "    <tr>\n",
       "      <th>4</th>\n",
       "      <td>0.487258</td>\n",
       "      <td>48355bd69_negative</td>\n",
       "      <td>0.597656</td>\n",
       "      <td>0.585938</td>\n",
       "      <td>0.646973</td>\n",
       "      <td>0.808276</td>\n",
       "      <td>0.342514</td>\n",
       "      <td>0.278388</td>\n",
       "      <td>0</td>\n",
       "    </tr>\n",
       "    <tr>\n",
       "      <th>...</th>\n",
       "      <td>...</td>\n",
       "      <td>...</td>\n",
       "      <td>...</td>\n",
       "      <td>...</td>\n",
       "      <td>...</td>\n",
       "      <td>...</td>\n",
       "      <td>...</td>\n",
       "      <td>...</td>\n",
       "      <td>...</td>\n",
       "    </tr>\n",
       "    <tr>\n",
       "      <th>7970</th>\n",
       "      <td>0.999952</td>\n",
       "      <td>ffbce04ef_weak</td>\n",
       "      <td>0.470703</td>\n",
       "      <td>0.521973</td>\n",
       "      <td>0.489746</td>\n",
       "      <td>0.248373</td>\n",
       "      <td>0.298534</td>\n",
       "      <td>0.250466</td>\n",
       "      <td>1</td>\n",
       "    </tr>\n",
       "    <tr>\n",
       "      <th>7971</th>\n",
       "      <td>0.506557</td>\n",
       "      <td>ffc2d976b_weak</td>\n",
       "      <td>0.556641</td>\n",
       "      <td>0.575195</td>\n",
       "      <td>0.619141</td>\n",
       "      <td>0.678827</td>\n",
       "      <td>0.276752</td>\n",
       "      <td>0.250920</td>\n",
       "      <td>1</td>\n",
       "    </tr>\n",
       "    <tr>\n",
       "      <th>7972</th>\n",
       "      <td>0.419314</td>\n",
       "      <td>ffc905909_weak</td>\n",
       "      <td>0.998535</td>\n",
       "      <td>0.990234</td>\n",
       "      <td>0.999023</td>\n",
       "      <td>0.926371</td>\n",
       "      <td>0.364422</td>\n",
       "      <td>0.277566</td>\n",
       "      <td>1</td>\n",
       "    </tr>\n",
       "    <tr>\n",
       "      <th>7973</th>\n",
       "      <td>0.965942</td>\n",
       "      <td>ffe276f3e_weak</td>\n",
       "      <td>0.531738</td>\n",
       "      <td>0.555664</td>\n",
       "      <td>0.547363</td>\n",
       "      <td>0.315376</td>\n",
       "      <td>0.697399</td>\n",
       "      <td>0.349287</td>\n",
       "      <td>1</td>\n",
       "    </tr>\n",
       "    <tr>\n",
       "      <th>7974</th>\n",
       "      <td>0.470884</td>\n",
       "      <td>fffa17f67_weak</td>\n",
       "      <td>0.498535</td>\n",
       "      <td>0.536133</td>\n",
       "      <td>0.502441</td>\n",
       "      <td>0.288712</td>\n",
       "      <td>0.263916</td>\n",
       "      <td>0.281163</td>\n",
       "      <td>1</td>\n",
       "    </tr>\n",
       "  </tbody>\n",
       "</table>\n",
       "<p>7971 rows × 9 columns</p>\n",
       "</div>"
      ],
      "text/plain": [
       "      ds_18_prep0                  id  iafoss_v5160  iafoss_v5210  \\\n",
       "0        0.471828  3c451363c_negative      0.521484      0.571289   \n",
       "1        0.487656  d036cb94b_negative      0.471680      0.505859   \n",
       "2        0.566253  ef4bfb410_negative      0.513184      0.550781   \n",
       "3        0.999999  c374ae4ef_negative      0.532715      0.551758   \n",
       "4        0.487258  48355bd69_negative      0.597656      0.585938   \n",
       "...           ...                 ...           ...           ...   \n",
       "7970     0.999952      ffbce04ef_weak      0.470703      0.521973   \n",
       "7971     0.506557      ffc2d976b_weak      0.556641      0.575195   \n",
       "7972     0.419314      ffc905909_weak      0.998535      0.990234   \n",
       "7973     0.965942      ffe276f3e_weak      0.531738      0.555664   \n",
       "7974     0.470884      fffa17f67_weak      0.498535      0.536133   \n",
       "\n",
       "      iafoss_v7000  drhb_exp200  chris_v16  chris_v18  target  \n",
       "0         0.519531     0.270715   0.246893   0.255523       0  \n",
       "1         0.490967     0.308455   0.288972   0.292009       0  \n",
       "2         0.540039     0.272621   0.351056   0.263222       0  \n",
       "3         0.555176     0.320555   0.274788   0.264604       0  \n",
       "4         0.646973     0.808276   0.342514   0.278388       0  \n",
       "...            ...          ...        ...        ...     ...  \n",
       "7970      0.489746     0.248373   0.298534   0.250466       1  \n",
       "7971      0.619141     0.678827   0.276752   0.250920       1  \n",
       "7972      0.999023     0.926371   0.364422   0.277566       1  \n",
       "7973      0.547363     0.315376   0.697399   0.349287       1  \n",
       "7974      0.502441     0.288712   0.263916   0.281163       1  \n",
       "\n",
       "[7971 rows x 9 columns]"
      ]
     },
     "execution_count": 8,
     "metadata": {},
     "output_type": "execute_result"
    }
   ],
   "source": [
    "oof_df['target'] = valid['target']\n",
    "oof_df.dropna(inplace=True)\n",
    "oof_df"
   ]
  },
  {
   "cell_type": "code",
   "execution_count": 9,
   "metadata": {},
   "outputs": [
    {
     "name": "stdout",
     "output_type": "stream",
     "text": [
      "stacking cv 0.7497866796620354\n",
      "weight [0.         0.3116405  0.35350335 0.30447994 0.05868284 0.02047602\n",
      " 0.        ]\n"
     ]
    }
   ],
   "source": [
    "model = Ridge(positive=True)\n",
    "X = oof_df.drop(['target', 'id'], axis=1)\n",
    "y = oof_df['target']\n",
    "X_test = prediction_df.drop('id', axis=1)\n",
    "model.fit(X, y)\n",
    "y_pred = model.predict(X)\n",
    "y_stack = model.predict(X_test)\n",
    "print('stacking cv', roc_auc_score(y, y_pred))\n",
    "print('weight', model.coef_)"
   ]
  },
  {
   "cell_type": "code",
   "execution_count": 10,
   "metadata": {},
   "outputs": [
    {
     "data": {
      "text/plain": [
       "Index(['ds_18_prep0', 'iafoss_v5160', 'iafoss_v5210', 'iafoss_v7000',\n",
       "       'drhb_exp200', 'chris_v16', 'chris_v18'],\n",
       "      dtype='object')"
      ]
     },
     "execution_count": 10,
     "metadata": {},
     "output_type": "execute_result"
    }
   ],
   "source": [
    "X_test.columns"
   ]
  },
  {
   "cell_type": "code",
   "execution_count": 11,
   "metadata": {},
   "outputs": [
    {
     "data": {
      "text/plain": [
       "array([0.4954701 , 0.94326201, 0.42146549, ..., 0.46101472, 0.48405641,\n",
       "       0.46988276])"
      ]
     },
     "execution_count": 11,
     "metadata": {},
     "output_type": "execute_result"
    }
   ],
   "source": [
    "y_stack"
   ]
  },
  {
   "cell_type": "code",
   "execution_count": 13,
   "metadata": {},
   "outputs": [],
   "source": [
    "# test['target'] = prediction_df['aug_04'] * 0.2 + prediction_df['ds_05_aug2'] * 0.2 + prediction_df['public748'] * 0.6\n",
    "# test['target'] = prediction_df['ds_09'] * 0.33 + prediction_df['ds_13'] * 0.33 + prediction_df['public748'] * 0.33\n",
    "test['target'] = prediction_df['ds_18_prep0']\n",
    "# test['target'] = y_stack"
   ]
  },
  {
   "cell_type": "code",
   "execution_count": 14,
   "metadata": {},
   "outputs": [
    {
     "data": {
      "text/html": [
       "<div>\n",
       "<style scoped>\n",
       "    .dataframe tbody tr th:only-of-type {\n",
       "        vertical-align: middle;\n",
       "    }\n",
       "\n",
       "    .dataframe tbody tr th {\n",
       "        vertical-align: top;\n",
       "    }\n",
       "\n",
       "    .dataframe thead th {\n",
       "        text-align: right;\n",
       "    }\n",
       "</style>\n",
       "<table border=\"1\" class=\"dataframe\">\n",
       "  <thead>\n",
       "    <tr style=\"text-align: right;\">\n",
       "      <th></th>\n",
       "      <th>id</th>\n",
       "      <th>target</th>\n",
       "    </tr>\n",
       "  </thead>\n",
       "  <tbody>\n",
       "    <tr>\n",
       "      <th>0</th>\n",
       "      <td>00054c878</td>\n",
       "      <td>0.439467</td>\n",
       "    </tr>\n",
       "    <tr>\n",
       "      <th>1</th>\n",
       "      <td>0007285a3</td>\n",
       "      <td>0.988312</td>\n",
       "    </tr>\n",
       "    <tr>\n",
       "      <th>2</th>\n",
       "      <td>00076c5a6</td>\n",
       "      <td>0.438961</td>\n",
       "    </tr>\n",
       "    <tr>\n",
       "      <th>3</th>\n",
       "      <td>001349290</td>\n",
       "      <td>0.789672</td>\n",
       "    </tr>\n",
       "    <tr>\n",
       "      <th>4</th>\n",
       "      <td>001a52e92</td>\n",
       "      <td>0.831390</td>\n",
       "    </tr>\n",
       "    <tr>\n",
       "      <th>...</th>\n",
       "      <td>...</td>\n",
       "      <td>...</td>\n",
       "    </tr>\n",
       "    <tr>\n",
       "      <th>7970</th>\n",
       "      <td>ffbce04ef</td>\n",
       "      <td>0.999970</td>\n",
       "    </tr>\n",
       "    <tr>\n",
       "      <th>7971</th>\n",
       "      <td>ffc2d976b</td>\n",
       "      <td>0.487731</td>\n",
       "    </tr>\n",
       "    <tr>\n",
       "      <th>7972</th>\n",
       "      <td>ffc905909</td>\n",
       "      <td>0.440468</td>\n",
       "    </tr>\n",
       "    <tr>\n",
       "      <th>7973</th>\n",
       "      <td>ffe276f3e</td>\n",
       "      <td>0.446600</td>\n",
       "    </tr>\n",
       "    <tr>\n",
       "      <th>7974</th>\n",
       "      <td>fffa17f67</td>\n",
       "      <td>0.443689</td>\n",
       "    </tr>\n",
       "  </tbody>\n",
       "</table>\n",
       "<p>7975 rows × 2 columns</p>\n",
       "</div>"
      ],
      "text/plain": [
       "             id    target\n",
       "0     00054c878  0.439467\n",
       "1     0007285a3  0.988312\n",
       "2     00076c5a6  0.438961\n",
       "3     001349290  0.789672\n",
       "4     001a52e92  0.831390\n",
       "...         ...       ...\n",
       "7970  ffbce04ef  0.999970\n",
       "7971  ffc2d976b  0.487731\n",
       "7972  ffc905909  0.440468\n",
       "7973  ffe276f3e  0.446600\n",
       "7974  fffa17f67  0.443689\n",
       "\n",
       "[7975 rows x 2 columns]"
      ]
     },
     "execution_count": 14,
     "metadata": {},
     "output_type": "execute_result"
    }
   ],
   "source": [
    "test"
   ]
  },
  {
   "cell_type": "code",
   "execution_count": 15,
   "metadata": {},
   "outputs": [],
   "source": [
    "# test.to_csv('results/stacking_submission_iafossv5160_drhbexp200_ds19val1_aug04_ds14_ds15.csv', index=False)\n",
    "test.to_csv(Path('results/ds_18_prep0')/'submission.csv', index=False)"
   ]
  },
  {
   "cell_type": "markdown",
   "metadata": {},
   "source": [
    "# Trad blending"
   ]
  },
  {
   "cell_type": "code",
   "execution_count": 25,
   "metadata": {},
   "outputs": [],
   "source": [
    "blend_df = dict(\n",
    "    # COMB7=pd.read_csv('input/predictions/COMB_7.csv')['target'], # LB 0.771\n",
    "    # stacking_res=y_stack, # stack with only my model cv 0.739\n",
    "    # drhb_exp200=prediction_df['drhb_exp200'], # LB 0.754 (add because it has no CV/LB corr)\n",
    "    # iafoss_5160=prediction_df['iafoss_v5160'], # LB 0.758\n",
    "    # iafoss_5210=prediction_df['iafoss_v5210'], # LB 0.757\n",
    "    # public761=pd.read_csv('input/public761.csv')['target']\n",
    "    COMB13_RB=pd.read_csv('input/predictions/COMB_13_REAL_BLENDING_0.4_0.6.csv').merge(test['id'], on='id', how='right')['target'],\n",
    "    ds_17_prep2=pd.read_csv('results/ds_17_prep2/submission.csv').merge(test['id'], on='id', how='right')['target'],\n",
    "    ds_17_prep1=pd.read_csv('results/ds_17_prep1_beforefix/submission.csv').merge(test['id'], on='id', how='right')['target'],\n",
    ")\n",
    "blend_df = pd.DataFrame(blend_df)\n",
    "blend_df = blend_df.rank(axis=0)\n",
    "blend_df = blend_df / blend_df.max(axis=0).values[None, :]"
   ]
  },
  {
   "cell_type": "code",
   "execution_count": 27,
   "metadata": {},
   "outputs": [
    {
     "data": {
      "text/html": [
       "<div>\n",
       "<style scoped>\n",
       "    .dataframe tbody tr th:only-of-type {\n",
       "        vertical-align: middle;\n",
       "    }\n",
       "\n",
       "    .dataframe tbody tr th {\n",
       "        vertical-align: top;\n",
       "    }\n",
       "\n",
       "    .dataframe thead th {\n",
       "        text-align: right;\n",
       "    }\n",
       "</style>\n",
       "<table border=\"1\" class=\"dataframe\">\n",
       "  <thead>\n",
       "    <tr style=\"text-align: right;\">\n",
       "      <th></th>\n",
       "      <th>COMB13_RB</th>\n",
       "      <th>ds_17_prep2</th>\n",
       "      <th>ds_17_prep1</th>\n",
       "    </tr>\n",
       "  </thead>\n",
       "  <tbody>\n",
       "    <tr>\n",
       "      <th>COMB13_RB</th>\n",
       "      <td>1.00000</td>\n",
       "      <td>0.790490</td>\n",
       "      <td>0.786300</td>\n",
       "    </tr>\n",
       "    <tr>\n",
       "      <th>ds_17_prep2</th>\n",
       "      <td>0.79049</td>\n",
       "      <td>1.000000</td>\n",
       "      <td>0.953581</td>\n",
       "    </tr>\n",
       "    <tr>\n",
       "      <th>ds_17_prep1</th>\n",
       "      <td>0.78630</td>\n",
       "      <td>0.953581</td>\n",
       "      <td>1.000000</td>\n",
       "    </tr>\n",
       "  </tbody>\n",
       "</table>\n",
       "</div>"
      ],
      "text/plain": [
       "             COMB13_RB  ds_17_prep2  ds_17_prep1\n",
       "COMB13_RB      1.00000     0.790490     0.786300\n",
       "ds_17_prep2    0.79049     1.000000     0.953581\n",
       "ds_17_prep1    0.78630     0.953581     1.000000"
      ]
     },
     "execution_count": 27,
     "metadata": {},
     "output_type": "execute_result"
    }
   ],
   "source": [
    "blend_df.corr()"
   ]
  },
  {
   "cell_type": "code",
   "execution_count": 28,
   "metadata": {},
   "outputs": [],
   "source": [
    "blend_df['target'] = \\\n",
    "    blend_df['COMB13_RB'] * 0.8 + blend_df['ds_17_prep2'] * 0.1 + blend_df['ds_17_prep1'] * 0.1"
   ]
  },
  {
   "cell_type": "code",
   "execution_count": 29,
   "metadata": {},
   "outputs": [],
   "source": [
    "test['target'] = blend_df['target']\n",
    "test.to_csv(Path('results/blend_comb13rb_ds17prep2_ds17prep1.csv'), index=False)"
   ]
  },
  {
   "cell_type": "code",
   "execution_count": null,
   "metadata": {},
   "outputs": [],
   "source": []
  }
 ],
 "metadata": {
  "kernelspec": {
   "display_name": "g2net2022",
   "language": "python",
   "name": "python3"
  },
  "language_info": {
   "codemirror_mode": {
    "name": "ipython",
    "version": 3
   },
   "file_extension": ".py",
   "mimetype": "text/x-python",
   "name": "python",
   "nbconvert_exporter": "python",
   "pygments_lexer": "ipython3",
   "version": "3.9.12"
  },
  "orig_nbformat": 4,
  "vscode": {
   "interpreter": {
    "hash": "9b7ae450e3a1ace8e76495c92e977e85382528449b6856aef58fed1fe150e2fb"
   }
  }
 },
 "nbformat": 4,
 "nbformat_minor": 2
}
