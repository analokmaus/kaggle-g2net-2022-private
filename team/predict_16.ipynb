{
 "cells": [
  {
   "cell_type": "code",
   "execution_count": 1,
   "id": "a9b9bc4f-33ec-4577-8679-141f78fd8e83",
   "metadata": {},
   "outputs": [],
   "source": [
    "import numpy as np\n",
    "import pandas as pd\n",
    "import matplotlib.pyplot as plt\n",
    "import time\n",
    "import h5py\n",
    "import timm\n",
    "import torch\n",
    "import torch.nn as nn\n",
    "import torchaudio\n",
    "import torchvision.transforms as TF\n",
    "from PIL import Image as Img\n",
    "import os\n",
    "import random\n",
    "\n",
    "from scipy.signal import wiener\n",
    "\n",
    "from tqdm.auto import tqdm\n",
    "from sklearn.model_selection import KFold\n",
    "from sklearn.metrics import roc_auc_score\n",
    "from timm.scheduler import CosineLRScheduler\n",
    "\n",
    "device = torch.device('cuda')\n",
    "\n",
    "### !!! Change the sigmoid in evaluating too\n",
    "criterion = nn.BCEWithLogitsLoss()\n",
    "msecriterion = nn.MSELoss()\n",
    "\n",
    "df = pd.read_csv('./train_labels.csv')\n",
    "df = df[df.target >= 0]  # Remove 3 unknowns (target = -1)\n",
    "df[\"source\"] = \"trainlabels\""
   ]
  },
  {
   "cell_type": "code",
   "execution_count": 2,
   "id": "a66aad7d-78a9-4730-805b-2a9f18343dbd",
   "metadata": {},
   "outputs": [
    {
     "name": "stdout",
     "output_type": "stream",
     "text": [
      "DONE\n"
     ]
    }
   ],
   "source": [
    "\n",
    "# for folder in [\"./full_sig_json\", \"./new_sig_json\", \"./new_sig_json2\", \n",
    "#                \"./new_sig_json3\", \"./new_sig_json4\", \"./new_sig_json5\",\n",
    "#               \"./new_sig_bands2\", \"./new_sig_bands3\",\n",
    "#               \"./new_sig_bands_weak\",\n",
    "#               \"./better_bands\", \"./better_bands_symetric\", \"./better_bands_symetric2\",\n",
    "#               \"./better_bands_symetric3\", \"better_nobands_symetric\", \"symetric_line_writer\",\n",
    "#               \"symetric_line_writer2\", \"weak_lines_symmetric\",\n",
    "#               \"weak_noise_symmetric\", \"weak_bands_symmetric\", \\\n",
    "#               \"prev_eval_dataset\", \"eval_dataset2\"]:\n",
    "    \n",
    "for folder in [\"./eval_dataset2\"]:\n",
    "               \n",
    "    for f in os.listdir(folder):\n",
    "        if f == \".ipynb_checkpoints\" or f == \".DS_Store\":\n",
    "            continue\n",
    "        h0 = float(f.split(\"_\")[2])\n",
    "        if h0 < 10:\n",
    "            continue\n",
    "        \n",
    "        df = df.append({\"id\": folder + \"/\" + f, \"target\": f.split(\".\")[-3].split(\"_\")[-1], \"source\": \"npy\"}, ignore_index=True)\n",
    "print(\"DONE\")\n"
   ]
  },
  {
   "cell_type": "code",
   "execution_count": 3,
   "id": "8c500812-05dd-4c61-998b-c559818babbb",
   "metadata": {},
   "outputs": [
    {
     "data": {
      "text/plain": [
       "1200"
      ]
     },
     "execution_count": 3,
     "metadata": {},
     "output_type": "execute_result"
    }
   ],
   "source": [
    "len(df)"
   ]
  },
  {
   "cell_type": "code",
   "execution_count": 4,
   "id": "42f5b039-6cbd-4aca-ab19-4faa6ccb1932",
   "metadata": {},
   "outputs": [
    {
     "name": "stdout",
     "output_type": "stream",
     "text": [
      "DONE\n"
     ]
    }
   ],
   "source": [
    "folder = \"./eval_dataset3\"\n",
    "for f in os.listdir(folder):\n",
    "    if f == \".ipynb_checkpoints\" or f == \".DS_Store\":\n",
    "        continue\n",
    "    h0 = float(f.split(\"_\")[2])\n",
    "    if h0 < 10:\n",
    "        continue\n",
    "\n",
    "    df = df.append({\"id\": folder + \"/\" + f, \"target\": f.split(\".\")[-3].split(\"_\")[-1], \"source\": \"eval\"}, ignore_index=True)\n",
    "print(\"DONE\")\n"
   ]
  },
  {
   "cell_type": "code",
   "execution_count": 5,
   "id": "82de813b-584d-40d5-a322-068a8233804d",
   "metadata": {},
   "outputs": [
    {
     "data": {
      "text/plain": [
       "600"
      ]
     },
     "execution_count": 5,
     "metadata": {},
     "output_type": "execute_result"
    }
   ],
   "source": [
    "len(df[df[\"source\"] == \"eval\"])"
   ]
  },
  {
   "cell_type": "code",
   "execution_count": null,
   "id": "fd6b297a-7585-4980-bc2b-80defa64ff38",
   "metadata": {},
   "outputs": [],
   "source": []
  },
  {
   "cell_type": "code",
   "execution_count": 6,
   "id": "75d8b250-0228-4443-b3c4-ce5090aaaa4e",
   "metadata": {},
   "outputs": [],
   "source": [
    "# len(df[df[\"source\"] != \"trainlabels\"])"
   ]
  },
  {
   "cell_type": "code",
   "execution_count": 7,
   "id": "8ae7c645-c0bd-428f-8d8c-0b9af3daf4dd",
   "metadata": {},
   "outputs": [],
   "source": [
    "# bestsub = pd.read_csv(\"./sub748_plus_5fold.csv\")"
   ]
  },
  {
   "cell_type": "code",
   "execution_count": 8,
   "id": "9c4ae004-c921-4077-ade7-56488a2143f4",
   "metadata": {},
   "outputs": [],
   "source": [
    "# len(bestsub[bestsub[\"target\"] < 0.12])"
   ]
  },
  {
   "cell_type": "code",
   "execution_count": 9,
   "id": "4741f5fb-8262-40ab-b0ad-e33587648055",
   "metadata": {},
   "outputs": [],
   "source": [
    "# for rowi, row in bestsub.iterrows():\n",
    "#     if row[\"target\"] > 0.95: # could be 0.9\n",
    "#         df = df.append({\"id\": row[\"id\"], \n",
    "#                         \"target\": 1, \n",
    "#                         \"source\": \"test\"}, ignore_index=True)\n",
    "#     if row[\"target\"] < 0.12: # coult be 0.15\n",
    "#         df = df.append({\"id\": row[\"id\"], \n",
    "#                         \"target\": 0, \n",
    "#                         \"source\": \"test\"}, ignore_index=True)"
   ]
  },
  {
   "cell_type": "code",
   "execution_count": null,
   "id": "3999a343-ff4a-41c0-b5b2-71586cef3c5d",
   "metadata": {},
   "outputs": [],
   "source": []
  },
  {
   "cell_type": "code",
   "execution_count": null,
   "id": "467f7324-7291-41be-a680-abd225145de7",
   "metadata": {},
   "outputs": [],
   "source": []
  },
  {
   "cell_type": "code",
   "execution_count": null,
   "id": "c76925bd-0325-4b2d-b3b2-5253f8432204",
   "metadata": {},
   "outputs": [],
   "source": []
  },
  {
   "cell_type": "code",
   "execution_count": null,
   "id": "6871340c-8a2c-4c4e-a43f-313b3c7b1dad",
   "metadata": {},
   "outputs": [],
   "source": []
  },
  {
   "cell_type": "code",
   "execution_count": 2,
   "id": "6f6a74fb-ed60-4a8f-874f-d16e5f279a0b",
   "metadata": {},
   "outputs": [],
   "source": [
    "transforms_time_mask = nn.Sequential(\n",
    "                torchaudio.transforms.TimeMasking(time_mask_param=10),\n",
    "            )\n",
    "\n",
    "transforms_freq_mask = nn.Sequential(\n",
    "                torchaudio.transforms.FrequencyMasking(freq_mask_param=10),\n",
    "            )\n",
    "\n",
    "\n",
    "flip_rate = 0.0 # probability of applying the horizontal flip and vertical flip \n",
    "fre_shift_rate = 0.0 # probability of applying the vertical shift\n",
    "\n",
    "time_mask_num = 0 # number of time masking\n",
    "freq_mask_num = 0 # number of frequency masking\n"
   ]
  },
  {
   "cell_type": "code",
   "execution_count": 3,
   "id": "5136e0b9-6042-4ebf-b2b7-09dfb531ee92",
   "metadata": {},
   "outputs": [],
   "source": [
    "# timm.list_models()"
   ]
  },
  {
   "cell_type": "code",
   "execution_count": 4,
   "id": "0c8e122f-17da-4537-82c8-0e24634ea09c",
   "metadata": {},
   "outputs": [],
   "source": [
    "# for n in timm.list_models(pretrained=True):\n",
    "#     if \"efficientnet\" in n:\n",
    "#         print(n)\n"
   ]
  },
  {
   "cell_type": "code",
   "execution_count": null,
   "id": "9cf9b159-55d3-41b1-bbb2-a83cfeb14867",
   "metadata": {},
   "outputs": [],
   "source": []
  },
  {
   "cell_type": "code",
   "execution_count": 5,
   "id": "0dbbaa4e-76b5-4e04-97ec-3604fda53485",
   "metadata": {},
   "outputs": [],
   "source": [
    "        \n",
    "IMGSIZE = 720\n",
    "MAXSIZE = 6000\n",
    "\n",
    "\n",
    "class Dataset(torch.utils.data.Dataset):\n",
    "    \"\"\"\n",
    "    dataset = Dataset(data_type, df)\n",
    "\n",
    "    img, y = dataset[i]\n",
    "      img (np.float32): 2 x 360 x 128\n",
    "      y (np.float32): label 0 or 1\n",
    "    \"\"\"\n",
    "    def __init__(self, data_type, df, tfms=False):\n",
    "        self.data_type = data_type\n",
    "        self.df = df\n",
    "        self.tfms = tfms\n",
    "\n",
    "    def __len__(self):\n",
    "        return len(self.df)\n",
    "    \n",
    "    def get_npy(self, row):\n",
    "        data = np.load(f\"{row.id}\")\n",
    "\n",
    "        img = np.zeros((2, 360, IMGSIZE), dtype=np.float32)\n",
    "\n",
    "        across = int(data.shape[2] / IMGSIZE)\n",
    "        across = min(across, int(MAXSIZE / IMGSIZE))\n",
    "\n",
    "        areal = data[0,:,:(across*IMGSIZE)]**2\n",
    "        aimag = data[1,:,:(across*IMGSIZE)]**2\n",
    "        p = areal + aimag  # power\n",
    "        p /= np.mean(p)  # normalize\n",
    "#         p = wiener(p, (3, 13))\n",
    "        p = np.mean(p.reshape(360, IMGSIZE, across), axis=2)\n",
    "        img[0] = p\n",
    "\n",
    "        areal = data[2,:,:(across*IMGSIZE)]**2\n",
    "        aimag = data[3,:,:(across*IMGSIZE)]**2\n",
    "        p = areal + aimag  # power\n",
    "        p /= np.mean(p)  # normalize\n",
    "#         p = wiener(p, (3, 13))\n",
    "        p = np.mean(p.reshape(360, IMGSIZE, across), axis=2)\n",
    "        img[1] = p\n",
    "        return img\n",
    "    \n",
    "    def __getitem__(self, i):\n",
    "        \"\"\"\n",
    "        i (int): get ith data\n",
    "        \"\"\"\n",
    "        r = self.df.iloc[i]\n",
    "        y = np.float32(r.target)\n",
    "        \n",
    "        if \"source\" in self.df.columns and (r.source == \"npy\" or r.source == \"eval\" or r.source == \"unused\"):\n",
    "            img = self.get_npy(r)\n",
    "            freq = float(r.id.split(\"/\")[-1].split(\"_\")[1])\n",
    "        else:\n",
    "            file_id = r.id\n",
    "            img = np.empty((2, 360, IMGSIZE), dtype=np.float32)\n",
    "            \n",
    "            if \"source\" in self.df.columns and r.source == \"test\":\n",
    "                filename = '%s/%s.hdf5' % (\"test\", file_id)\n",
    "            else:\n",
    "                filename = '%s/%s.hdf5' % (self.data_type, file_id)\n",
    "                \n",
    "            with h5py.File(filename, 'r') as f:\n",
    "                g = f[file_id]\n",
    "                freq = g[\"frequency_Hz\"][0]\n",
    "\n",
    "                h1raw = g[\"H1\"]['SFTs']\n",
    "                h1across = int(h1raw.shape[1] / IMGSIZE)\n",
    "                l1raw = g[\"L1\"]['SFTs']\n",
    "                l1across = int(l1raw.shape[1] / IMGSIZE)\n",
    "                across = min(h1across, l1across)\n",
    "                across = min(across, int(MAXSIZE / IMGSIZE))\n",
    "\n",
    "                for ch, s in enumerate(['H1', 'L1']):\n",
    "                    a = g[s]['SFTs'][:, :(across*IMGSIZE)] * 1e22  # Fourier coefficient complex64\n",
    "\n",
    "                    areal = a.real**2\n",
    "                    aimag = a.imag**2\n",
    "                    p = areal + aimag  # power\n",
    "                    p /= np.mean(p)  # normalize\n",
    "#                     p = wiener(p, (3, 13))\n",
    "                    \n",
    "                    p = np.mean(p.reshape(360, IMGSIZE, across), axis=2)  # compress 4096 -> 128\n",
    "                    img[ch] = p\n",
    "\n",
    "    \n",
    "        mean0 = img[0].mean()\n",
    "        std0 = img[0].std()\n",
    "        mean1 = img[1].mean()\n",
    "        std1 = img[1].std()\n",
    "        \n",
    "        if self.tfms:            \n",
    "            if np.random.rand() <= flip_rate: # horizontal flip\n",
    "                img = np.flip(img, axis=1).copy()\n",
    "            if np.random.rand() <= flip_rate: # vertical flip\n",
    "                img = np.flip(img, axis=2).copy()\n",
    "            if np.random.rand() <= fre_shift_rate: # vertical shift\n",
    "                img = np.roll(img, np.random.randint(low=0, high=img.shape[1]), axis=1)\n",
    "            \n",
    "            img = torch.from_numpy(img)\n",
    "\n",
    "            for _ in range(time_mask_num): # tima masking\n",
    "                img = transforms_time_mask(img)\n",
    "            for _ in range(freq_mask_num): # frequency masking\n",
    "                img = transforms_freq_mask(img)\n",
    "        \n",
    "        else:\n",
    "            img = torch.from_numpy(img)\n",
    "        \n",
    "\n",
    "        img = img - img.mean()\n",
    "        img = img / img.std()\n",
    "        \n",
    "        \n",
    "        return img.float(), torch.FloatTensor([freq]), \\\n",
    "            torch.FloatTensor([mean0]), torch.FloatTensor([std0]), \\\n",
    "                torch.FloatTensor([mean1]), torch.FloatTensor([std1]),  y\n",
    "    "
   ]
  },
  {
   "cell_type": "code",
   "execution_count": null,
   "id": "0ec017b6-4001-4a94-8cd5-516e9d1be02b",
   "metadata": {},
   "outputs": [],
   "source": []
  },
  {
   "cell_type": "code",
   "execution_count": 6,
   "id": "b5338870-0718-475a-8341-8262f6262a0c",
   "metadata": {},
   "outputs": [
    {
     "ename": "IndexError",
     "evalue": "single positional indexer is out-of-bounds",
     "output_type": "error",
     "traceback": [
      "\u001b[0;31m---------------------------------------------------------------------------\u001b[0m",
      "\u001b[0;31mIndexError\u001b[0m                                Traceback (most recent call last)",
      "\u001b[0;32m<ipython-input-6-5ff430c6acae>\u001b[0m in \u001b[0;36m<module>\u001b[0;34m\u001b[0m\n\u001b[1;32m      1\u001b[0m \u001b[0mdataset\u001b[0m \u001b[0;34m=\u001b[0m \u001b[0mDataset\u001b[0m\u001b[0;34m(\u001b[0m\u001b[0;34m'train'\u001b[0m\u001b[0;34m,\u001b[0m \u001b[0mdf\u001b[0m\u001b[0;34m,\u001b[0m \u001b[0mtfms\u001b[0m\u001b[0;34m=\u001b[0m\u001b[0;32mTrue\u001b[0m\u001b[0;34m)\u001b[0m\u001b[0;34m\u001b[0m\u001b[0;34m\u001b[0m\u001b[0m\n\u001b[1;32m      2\u001b[0m \u001b[0mimg\u001b[0m\u001b[0;34m,\u001b[0m \u001b[0mfreq\u001b[0m\u001b[0;34m,\u001b[0m \u001b[0mmean0\u001b[0m\u001b[0;34m,\u001b[0m \u001b[0mstd0\u001b[0m\u001b[0;34m,\u001b[0m \u001b[0mmean1\u001b[0m\u001b[0;34m,\u001b[0m \u001b[0mstd1\u001b[0m\u001b[0;34m,\u001b[0m \u001b[0my\u001b[0m \u001b[0;34m=\u001b[0m \u001b[0mdataset\u001b[0m\u001b[0;34m.\u001b[0m\u001b[0m__getitem__\u001b[0m\u001b[0;34m(\u001b[0m\u001b[0;36m0\u001b[0m\u001b[0;34m)\u001b[0m\u001b[0;34m\u001b[0m\u001b[0;34m\u001b[0m\u001b[0m\n\u001b[0;32m----> 3\u001b[0;31m \u001b[0mimg\u001b[0m\u001b[0;34m,\u001b[0m \u001b[0mfreq\u001b[0m\u001b[0;34m,\u001b[0m \u001b[0mmean0\u001b[0m\u001b[0;34m,\u001b[0m \u001b[0mstd0\u001b[0m\u001b[0;34m,\u001b[0m \u001b[0mmean1\u001b[0m\u001b[0;34m,\u001b[0m \u001b[0mstd1\u001b[0m\u001b[0;34m,\u001b[0m \u001b[0my\u001b[0m \u001b[0;34m=\u001b[0m \u001b[0mdataset\u001b[0m\u001b[0;34m.\u001b[0m\u001b[0m__getitem__\u001b[0m\u001b[0;34m(\u001b[0m\u001b[0;36m700\u001b[0m\u001b[0;34m)\u001b[0m\u001b[0;34m\u001b[0m\u001b[0;34m\u001b[0m\u001b[0m\n\u001b[0m\u001b[1;32m      4\u001b[0m \u001b[0mfreq\u001b[0m\u001b[0;34m\u001b[0m\u001b[0;34m\u001b[0m\u001b[0m\n",
      "\u001b[0;32m<ipython-input-5-24dc7787014d>\u001b[0m in \u001b[0;36m__getitem__\u001b[0;34m(self, i)\u001b[0m\n\u001b[1;32m     48\u001b[0m         \u001b[0mi\u001b[0m \u001b[0;34m(\u001b[0m\u001b[0mint\u001b[0m\u001b[0;34m)\u001b[0m\u001b[0;34m:\u001b[0m \u001b[0mget\u001b[0m \u001b[0mith\u001b[0m \u001b[0mdata\u001b[0m\u001b[0;34m\u001b[0m\u001b[0;34m\u001b[0m\u001b[0m\n\u001b[1;32m     49\u001b[0m         \"\"\"\n\u001b[0;32m---> 50\u001b[0;31m         \u001b[0mr\u001b[0m \u001b[0;34m=\u001b[0m \u001b[0mself\u001b[0m\u001b[0;34m.\u001b[0m\u001b[0mdf\u001b[0m\u001b[0;34m.\u001b[0m\u001b[0miloc\u001b[0m\u001b[0;34m[\u001b[0m\u001b[0mi\u001b[0m\u001b[0;34m]\u001b[0m\u001b[0;34m\u001b[0m\u001b[0;34m\u001b[0m\u001b[0m\n\u001b[0m\u001b[1;32m     51\u001b[0m         \u001b[0my\u001b[0m \u001b[0;34m=\u001b[0m \u001b[0mnp\u001b[0m\u001b[0;34m.\u001b[0m\u001b[0mfloat32\u001b[0m\u001b[0;34m(\u001b[0m\u001b[0mr\u001b[0m\u001b[0;34m.\u001b[0m\u001b[0mtarget\u001b[0m\u001b[0;34m)\u001b[0m\u001b[0;34m\u001b[0m\u001b[0;34m\u001b[0m\u001b[0m\n\u001b[1;32m     52\u001b[0m \u001b[0;34m\u001b[0m\u001b[0m\n",
      "\u001b[0;32m~/.local/lib/python3.8/site-packages/pandas/core/indexing.py\u001b[0m in \u001b[0;36m__getitem__\u001b[0;34m(self, key)\u001b[0m\n\u001b[1;32m    893\u001b[0m \u001b[0;34m\u001b[0m\u001b[0m\n\u001b[1;32m    894\u001b[0m             \u001b[0mmaybe_callable\u001b[0m \u001b[0;34m=\u001b[0m \u001b[0mcom\u001b[0m\u001b[0;34m.\u001b[0m\u001b[0mapply_if_callable\u001b[0m\u001b[0;34m(\u001b[0m\u001b[0mkey\u001b[0m\u001b[0;34m,\u001b[0m \u001b[0mself\u001b[0m\u001b[0;34m.\u001b[0m\u001b[0mobj\u001b[0m\u001b[0;34m)\u001b[0m\u001b[0;34m\u001b[0m\u001b[0;34m\u001b[0m\u001b[0m\n\u001b[0;32m--> 895\u001b[0;31m             \u001b[0;32mreturn\u001b[0m \u001b[0mself\u001b[0m\u001b[0;34m.\u001b[0m\u001b[0m_getitem_axis\u001b[0m\u001b[0;34m(\u001b[0m\u001b[0mmaybe_callable\u001b[0m\u001b[0;34m,\u001b[0m \u001b[0maxis\u001b[0m\u001b[0;34m=\u001b[0m\u001b[0maxis\u001b[0m\u001b[0;34m)\u001b[0m\u001b[0;34m\u001b[0m\u001b[0;34m\u001b[0m\u001b[0m\n\u001b[0m\u001b[1;32m    896\u001b[0m \u001b[0;34m\u001b[0m\u001b[0m\n\u001b[1;32m    897\u001b[0m     \u001b[0;32mdef\u001b[0m \u001b[0m_is_scalar_access\u001b[0m\u001b[0;34m(\u001b[0m\u001b[0mself\u001b[0m\u001b[0;34m,\u001b[0m \u001b[0mkey\u001b[0m\u001b[0;34m:\u001b[0m \u001b[0mTuple\u001b[0m\u001b[0;34m)\u001b[0m\u001b[0;34m:\u001b[0m\u001b[0;34m\u001b[0m\u001b[0;34m\u001b[0m\u001b[0m\n",
      "\u001b[0;32m~/.local/lib/python3.8/site-packages/pandas/core/indexing.py\u001b[0m in \u001b[0;36m_getitem_axis\u001b[0;34m(self, key, axis)\u001b[0m\n\u001b[1;32m   1499\u001b[0m \u001b[0;34m\u001b[0m\u001b[0m\n\u001b[1;32m   1500\u001b[0m             \u001b[0;31m# validate the location\u001b[0m\u001b[0;34m\u001b[0m\u001b[0;34m\u001b[0m\u001b[0;34m\u001b[0m\u001b[0m\n\u001b[0;32m-> 1501\u001b[0;31m             \u001b[0mself\u001b[0m\u001b[0;34m.\u001b[0m\u001b[0m_validate_integer\u001b[0m\u001b[0;34m(\u001b[0m\u001b[0mkey\u001b[0m\u001b[0;34m,\u001b[0m \u001b[0maxis\u001b[0m\u001b[0;34m)\u001b[0m\u001b[0;34m\u001b[0m\u001b[0;34m\u001b[0m\u001b[0m\n\u001b[0m\u001b[1;32m   1502\u001b[0m \u001b[0;34m\u001b[0m\u001b[0m\n\u001b[1;32m   1503\u001b[0m             \u001b[0;32mreturn\u001b[0m \u001b[0mself\u001b[0m\u001b[0;34m.\u001b[0m\u001b[0mobj\u001b[0m\u001b[0;34m.\u001b[0m\u001b[0m_ixs\u001b[0m\u001b[0;34m(\u001b[0m\u001b[0mkey\u001b[0m\u001b[0;34m,\u001b[0m \u001b[0maxis\u001b[0m\u001b[0;34m=\u001b[0m\u001b[0maxis\u001b[0m\u001b[0;34m)\u001b[0m\u001b[0;34m\u001b[0m\u001b[0;34m\u001b[0m\u001b[0m\n",
      "\u001b[0;32m~/.local/lib/python3.8/site-packages/pandas/core/indexing.py\u001b[0m in \u001b[0;36m_validate_integer\u001b[0;34m(self, key, axis)\u001b[0m\n\u001b[1;32m   1442\u001b[0m         \u001b[0mlen_axis\u001b[0m \u001b[0;34m=\u001b[0m \u001b[0mlen\u001b[0m\u001b[0;34m(\u001b[0m\u001b[0mself\u001b[0m\u001b[0;34m.\u001b[0m\u001b[0mobj\u001b[0m\u001b[0;34m.\u001b[0m\u001b[0m_get_axis\u001b[0m\u001b[0;34m(\u001b[0m\u001b[0maxis\u001b[0m\u001b[0;34m)\u001b[0m\u001b[0;34m)\u001b[0m\u001b[0;34m\u001b[0m\u001b[0;34m\u001b[0m\u001b[0m\n\u001b[1;32m   1443\u001b[0m         \u001b[0;32mif\u001b[0m \u001b[0mkey\u001b[0m \u001b[0;34m>=\u001b[0m \u001b[0mlen_axis\u001b[0m \u001b[0;32mor\u001b[0m \u001b[0mkey\u001b[0m \u001b[0;34m<\u001b[0m \u001b[0;34m-\u001b[0m\u001b[0mlen_axis\u001b[0m\u001b[0;34m:\u001b[0m\u001b[0;34m\u001b[0m\u001b[0;34m\u001b[0m\u001b[0m\n\u001b[0;32m-> 1444\u001b[0;31m             \u001b[0;32mraise\u001b[0m \u001b[0mIndexError\u001b[0m\u001b[0;34m(\u001b[0m\u001b[0;34m\"single positional indexer is out-of-bounds\"\u001b[0m\u001b[0;34m)\u001b[0m\u001b[0;34m\u001b[0m\u001b[0;34m\u001b[0m\u001b[0m\n\u001b[0m\u001b[1;32m   1445\u001b[0m \u001b[0;34m\u001b[0m\u001b[0m\n\u001b[1;32m   1446\u001b[0m     \u001b[0;31m# -------------------------------------------------------------------\u001b[0m\u001b[0;34m\u001b[0m\u001b[0;34m\u001b[0m\u001b[0;34m\u001b[0m\u001b[0m\n",
      "\u001b[0;31mIndexError\u001b[0m: single positional indexer is out-of-bounds"
     ]
    }
   ],
   "source": [
    "dataset = Dataset('train', df, tfms=True)\n",
    "img, freq, mean0, std0, mean1, std1, y = dataset.__getitem__(0)\n",
    "img, freq, mean0, std0, mean1, std1, y = dataset.__getitem__(700)\n",
    "freq"
   ]
  },
  {
   "cell_type": "code",
   "execution_count": 7,
   "id": "4166908a-9605-435b-9ee6-10c491d19f67",
   "metadata": {},
   "outputs": [
    {
     "data": {
      "text/plain": [
       "torch.Size([2, 360, 720])"
      ]
     },
     "execution_count": 7,
     "metadata": {},
     "output_type": "execute_result"
    }
   ],
   "source": [
    "img.shape"
   ]
  },
  {
   "cell_type": "code",
   "execution_count": null,
   "id": "c39164dd-b94e-4302-91bd-df96e71bd33e",
   "metadata": {},
   "outputs": [],
   "source": []
  },
  {
   "cell_type": "code",
   "execution_count": 8,
   "id": "77d1bdad-6c92-43c2-a2c7-f3b583c6eb1e",
   "metadata": {},
   "outputs": [],
   "source": [
    "\n",
    "class Model(nn.Module):\n",
    "    def __init__(self, name, *, pretrained=False):\n",
    "        \"\"\"\n",
    "        name (str): timm model name, e.g. tf_efficientnet_b2_ns\n",
    "        \"\"\"\n",
    "        super().__init__()\n",
    "\n",
    "        self.premodel = nn.Sequential(\n",
    "            nn.Conv2d(2, 64, kernel_size=(3,31), stride=(1,2), padding=(3//2,31//2)),\n",
    "            nn.GELU(),\n",
    "            nn.Conv2d(64, 128, kernel_size=(5,5), stride=(1,2), padding=(5//2,5//2)),\n",
    "            nn.GELU(),\n",
    "        )\n",
    "        torch.nn.init.xavier_uniform_(self.premodel[0].weight)\n",
    "        torch.nn.init.xavier_uniform_(self.premodel[2].weight)\n",
    "#         torch.nn.init.xavier_uniform_(self.premodel[4].weight)\n",
    "        \n",
    "        # Use timm\n",
    "        model = timm.create_model(name, pretrained=pretrained, \\\n",
    "                                  in_chans=128, drop_rate=0.0)\n",
    "\n",
    "        clsf = model.default_cfg['classifier']\n",
    "        n_features = model._modules[clsf].in_features\n",
    "        model._modules[clsf] = nn.Identity()\n",
    "\n",
    "        self.drop1 = nn.Dropout(0.1)\n",
    "        self.drop2 = nn.Dropout(0.2)\n",
    "        self.drop3 = nn.Dropout(0.3)\n",
    "        self.drop4 = nn.Dropout(0.4)\n",
    "        self.drop5 = nn.Dropout(0.5)\n",
    "        self.drop6 = nn.Dropout(0.1)\n",
    "        self.drop7 = nn.Dropout(0.2)\n",
    "        self.drop8 = nn.Dropout(0.3)\n",
    "        self.drop9 = nn.Dropout(0.4)\n",
    "        self.drop10 = nn.Dropout(0.5)\n",
    "        \n",
    "        self.fc = nn.Sequential(\n",
    "            nn.Linear(n_features+3, 512),\n",
    "            nn.GELU(),\n",
    "            nn.Linear(512,256),\n",
    "            nn.GELU(),\n",
    "            nn.Linear(256,2)\n",
    "        )\n",
    "        self.model = model\n",
    "        \n",
    "        torch.nn.init.xavier_uniform_(self.fc[0].weight)\n",
    "        torch.nn.init.xavier_uniform_(self.fc[2].weight)\n",
    "        torch.nn.init.xavier_uniform_(self.fc[4].weight)\n",
    "        \n",
    "    def forward(self, x, freq, mean0, std0, mean1, std1):\n",
    "        \n",
    "        x = self.premodel(x)\n",
    "        x = self.model(x)\n",
    "        \n",
    "        x1 = self.drop1(x)\n",
    "        x2 = self.drop2(x)\n",
    "        x3 = self.drop3(x)\n",
    "        x4 = self.drop4(x)\n",
    "        x5 = self.drop5(x)\n",
    "        x6 = self.drop6(x)\n",
    "        x7 = self.drop7(x)\n",
    "        x8 = self.drop8(x)\n",
    "        x9 = self.drop9(x)\n",
    "        x10 = self.drop10(x)\n",
    "\n",
    "        x1 = torch.cat((x1, freq/500.0, std0, std1), dim=1)\n",
    "        x2 = torch.cat((x2, freq/500.0, std0, std1), dim=1)\n",
    "        x3 = torch.cat((x3, freq/500.0, std0, std1), dim=1)\n",
    "        x4 = torch.cat((x4, freq/500.0, std0, std1), dim=1)\n",
    "        x5 = torch.cat((x5, freq/500.0, std0, std1), dim=1)\n",
    "        x6 = torch.cat((x6, freq/500.0, std0, std1), dim=1)\n",
    "        x7 = torch.cat((x7, freq/500.0, std0, std1), dim=1)\n",
    "        x8 = torch.cat((x8, freq/500.0, std0, std1), dim=1)\n",
    "        x9 = torch.cat((x9, freq/500.0, std0, std1), dim=1)\n",
    "        x10 = torch.cat((x10, freq/500.0, std0, std1), dim=1)\n",
    "        \n",
    "        x1 = self.fc(x1)\n",
    "        x2 = self.fc(x2)\n",
    "        x3 = self.fc(x3)\n",
    "        x4 = self.fc(x4)\n",
    "        x5 = self.fc(x5)\n",
    "        x6 = self.fc(x6)\n",
    "        x7 = self.fc(x7)\n",
    "        x8 = self.fc(x8)\n",
    "        x9 = self.fc(x9)\n",
    "        x10 = self.fc(x10)\n",
    "        \n",
    "        return((x1, x2, x3, x4, x5, x6, x7, x8, x9, x10))\n",
    "    \n",
    "#         x = self.fc(x)\n",
    "#         return x\n"
   ]
  },
  {
   "cell_type": "code",
   "execution_count": null,
   "id": "0de457d3-57e3-43bd-8f50-64a8918fca3c",
   "metadata": {},
   "outputs": [],
   "source": []
  },
  {
   "cell_type": "code",
   "execution_count": 9,
   "id": "1e97068a-fd8f-4f90-96ba-28eaf484ec6d",
   "metadata": {},
   "outputs": [],
   "source": [
    "def evaluate(model, loader_val, *, compute_score=True, pbar=None):\n",
    "    \"\"\"\n",
    "    Predict and compute loss and score\n",
    "    \"\"\"\n",
    "    \n",
    "    tb = time.time()\n",
    "    was_training = model.training\n",
    "    model.eval()\n",
    "\n",
    "    loss_sum = 0.0\n",
    "    n_sum = 0\n",
    "    y_all = []\n",
    "    y_pred_all = []\n",
    "\n",
    "    if pbar is not None:\n",
    "        pbar = tqdm(desc='Predict', nrows=78, total=pbar)\n",
    "\n",
    "    for img, freq, mean0, std0, mean1, std1, y in loader_val:\n",
    "        n = y.size(0)\n",
    "        img = img.to(device)\n",
    "        y = y.to(device)\n",
    "        freq = freq.to(device)\n",
    "        mean0 = mean0.to(device)\n",
    "        std0 = std0.to(device)\n",
    "        mean1 = mean1.to(device)\n",
    "        std1 = std1.to(device)\n",
    "\n",
    "        with torch.no_grad():\n",
    "#             y_pred = model(img, freq)\n",
    "            y_pred1,y_pred2,y_pred3,y_pred4,y_pred5,y_pred6,y_pred7,y_pred8,y_pred9,y_pred10 = model(img, freq, mean0, std0, mean1, std1)        \n",
    "            y_pred = (y_pred1 + y_pred2 + y_pred3 + y_pred4 + y_pred5 + y_pred6 + y_pred7 + y_pred8 + y_pred9 + y_pred10) / 10.0\n",
    "        \n",
    "        loss = criterion(y_pred[:,0].view(-1), y) + msecriterion(y_pred[:,1].view(-1).sigmoid(), y)\n",
    "\n",
    "        n_sum += n\n",
    "        loss_sum += n * loss.item()\n",
    "\n",
    "        y_all.append(y.cpu().detach().numpy())\n",
    "        y_pred_all.append(y_pred[:,0].sigmoid().squeeze().cpu().detach().numpy())\n",
    "#         y_pred_all.append(y_pred.squeeze().cpu().detach().numpy())\n",
    "\n",
    "        if pbar is not None:\n",
    "            pbar.update(len(img))\n",
    "        \n",
    "        del loss, y_pred, img, y\n",
    "\n",
    "    loss_val = loss_sum / n_sum\n",
    "\n",
    "    if compute_score:\n",
    "        if y_pred_all[0].size != y_pred_all[-1].size:\n",
    "            y_pred_all = y_pred_all[:-2]\n",
    "            y_all = y_all[:-2]\n",
    "    \n",
    "    y = np.concatenate(y_all)\n",
    "    y_pred = np.concatenate(y_pred_all)\n",
    "\n",
    "    score = roc_auc_score(y, y_pred) if compute_score else None\n",
    "\n",
    "    ret = {'loss': loss_val,\n",
    "           'score': score,\n",
    "           'y': y,\n",
    "           'y_pred': y_pred,\n",
    "           'time': time.time() - tb}\n",
    "    \n",
    "    model.train(was_training)  # back to train from eval if necessary\n",
    "\n",
    "    return ret"
   ]
  },
  {
   "cell_type": "code",
   "execution_count": null,
   "id": "b31857fe-0ca7-4817-8884-33710f722204",
   "metadata": {},
   "outputs": [],
   "source": []
  },
  {
   "cell_type": "code",
   "execution_count": 20,
   "id": "c76aa6d0-fb82-44e5-8f49-749fdbe60aea",
   "metadata": {},
   "outputs": [
    {
     "name": "stdout",
     "output_type": "stream",
     "text": [
      "Fold 0/5\n",
      "Epoch   loss          score   lr\n",
      "Epoch 1 0.9027 0.8483 0.6642  7.00e-04  7.23 min\n",
      "=== SAVING 0.8482852705319722 0.6641555555555556\n",
      "Epoch 2 0.7667 0.9052 0.6816  6.97e-04  14.49 min\n",
      "Epoch 3 0.7327 0.7960 0.7015  6.88e-04  21.76 min\n",
      "=== SAVING 0.7959555145104726 0.7014777777777779\n",
      "Epoch 4 0.7162 0.8162 0.6899  6.73e-04  29.03 min\n",
      "Epoch 5 0.7083 0.8047 0.6719  6.53e-04  36.29 min\n",
      "Epoch 6 0.7029 0.7941 0.6890  6.28e-04  43.54 min\n",
      "=== SAVING 0.7940583829085032 0.689\n",
      "Epoch 7 0.6897 0.7944 0.6960  5.98e-04  50.81 min\n",
      "Epoch 8 0.6897 0.7897 0.6912  5.63e-04  58.08 min\n",
      "=== SAVING 0.7897221251328786 0.6912222222222222\n",
      "Epoch 9 0.6760 0.7893 0.7270  5.25e-04  65.37 min\n",
      "=== SAVING 0.7893160235881805 0.7270444444444444\n",
      "Epoch 10 0.6743 0.7838 0.7133  4.84e-04  72.65 min\n",
      "=== SAVING 0.7837950388590494 0.7133\n",
      "Epoch 11 0.6692 0.7864 0.7125  4.41e-04  79.92 min\n",
      "Epoch 12 0.6693 0.7942 0.7035  3.96e-04  87.19 min\n",
      "Epoch 13 0.6601 0.7833 0.7139  3.51e-04  94.46 min\n",
      "=== SAVING 0.7833441150188446 0.7139\n",
      "Epoch 14 0.6552 0.7918 0.7158  3.05e-04  101.72 min\n",
      "Epoch 15 0.6523 0.7762 0.7059  2.60e-04  108.98 min\n",
      "=== SAVING 0.7761656685670217 0.7059222222222221\n",
      "Epoch 16 0.6471 0.7842 0.7160  2.17e-04  116.25 min\n",
      "Epoch 17 0.6451 0.7820 0.7054  1.76e-04  123.52 min\n",
      "Epoch 18 0.6372 0.7726 0.7208  1.38e-04  130.79 min\n",
      "=== SAVING 0.7726363905270894 0.7207722222222223\n",
      "Epoch 19 0.6328 0.7793 0.7287  1.03e-04  138.07 min\n",
      "Epoch 20 0.6281 0.7767 0.7202  7.32e-05  145.34 min\n",
      "Epoch 21 0.6229 0.7816 0.7296  4.78e-05  152.62 min\n",
      "Epoch 22 0.6222 0.7809 0.7250  2.76e-05  159.93 min\n",
      "Epoch 23 0.6192 0.7766 0.7317  1.29e-05  167.33 min\n",
      "Epoch 24 0.6184 0.7812 0.7308  3.99e-06  174.64 min\n",
      "Epoch 25 0.6211 0.7770 0.7305  1.00e-06  181.94 min\n",
      "Training done 181.94 min total, 3.42 min val\n",
      "model0_final.pytorch written\n"
     ]
    }
   ],
   "source": [
    "model_name = 'tf_efficientnet_b7_ns'\n",
    "# model_name = 'tf_efficientnetv2_b0'\n",
    "\n",
    "nfold = 5\n",
    "kfold = KFold(n_splits=nfold, random_state=42, shuffle=True)\n",
    "\n",
    "epochs = 25\n",
    "batch_size = 8\n",
    "num_workers = 2\n",
    "weight_decay = 5e-6\n",
    "max_grad_norm = 1000\n",
    "\n",
    "lr_max = 7e-4\n",
    "# lr_max = 1e-3\n",
    "epochs_warmup = 1.0\n",
    "\n",
    "\n",
    "## setting of audio data augmentation \n",
    "flip_rate = 0.5 # probability of applying the horizontal flip and vertical flip \n",
    "fre_shift_rate = 1.0 # probability of applying the vertical shift\n",
    "time_mask_num = 1 # number of time masking\n",
    "freq_mask_num = 2 # number of frequency masking\n",
    "\n",
    "grad_accum = 18\n",
    "\n",
    "allfolds = list(kfold.split(df))\n",
    "\n",
    "results = []\n",
    "\n",
    "for ifold, (idx_train, idx_test) in enumerate(allfolds):\n",
    "    if ifold != 0:\n",
    "        continue\n",
    "        \n",
    "    print('Fold %d/%d' % (ifold, nfold))\n",
    "\n",
    "#     dataset_train = Dataset('train', df.loc[~df.index.isin(idx_test)], tfms=True)\n",
    "#     dataset_train = Dataset('train', df.loc[df[\"source\"] != \"trainlabels\"], tfms=True)\n",
    "\n",
    "#     dataset_train = Dataset('train', df.iloc[idx_train], tfms=True)\n",
    "#     dataset_val = Dataset('train', df.iloc[idx_test])\n",
    "\n",
    "    dataset_train = Dataset('train', df.loc[df[\"source\"] != \"eval\"], tfms=True)\n",
    "    dataset_val = Dataset('train', df.loc[df[\"source\"] == \"eval\"], tfms=False)\n",
    "\n",
    "    loader_train = torch.utils.data.DataLoader(dataset_train, batch_size=batch_size,\n",
    "                     num_workers=num_workers, pin_memory=True, shuffle=True, drop_last=True)\n",
    "    loader_val = torch.utils.data.DataLoader(dataset_val, batch_size=batch_size,\n",
    "                     num_workers=num_workers, pin_memory=True)\n",
    "\n",
    "    # Model and optimizer\n",
    "    model = Model(model_name, pretrained=True)\n",
    "    model.to(device)\n",
    "    model.train()\n",
    "\n",
    "    optimizer = torch.optim.AdamW(model.parameters(), lr=lr_max, weight_decay=weight_decay)\n",
    "\n",
    "    # Learning-rate schedule\n",
    "    nbatch = len(loader_train)\n",
    "    warmup = epochs_warmup * nbatch  # number of warmup steps\n",
    "    nsteps = epochs * nbatch        # number of total steps\n",
    "\n",
    "    scheduler = CosineLRScheduler(optimizer,\n",
    "                  warmup_t=warmup, warmup_lr_init=0.0, warmup_prefix=True, # 1 epoch of warmup\n",
    "                  t_initial=(nsteps - warmup), lr_min=1e-6)                # 3 epochs of cosine\n",
    "    \n",
    "    time_val = 0.0\n",
    "    lrs = []\n",
    "    \n",
    "    minloss = 1.0\n",
    "    \n",
    "    tb = time.time()\n",
    "    print('Epoch   loss          score   lr')\n",
    "    for iepoch in range(epochs):\n",
    "        loss_sum = 0.0\n",
    "        n_sum = 0\n",
    "\n",
    "        optimizer.zero_grad()\n",
    "        # Train\n",
    "        for ibatch, (img, freq, mean0, std0, mean1, std1, y) in enumerate(loader_train):\n",
    "            n = y.size(0)\n",
    "            img = img.to(device)\n",
    "            y = y.to(device)\n",
    "            freq = freq.to(device)\n",
    "            mean0 = mean0.to(device)\n",
    "            std0 = std0.to(device)\n",
    "            mean1 = mean1.to(device)\n",
    "            std1 = std1.to(device)\n",
    "\n",
    "#             y_pred = model(img, freq)\n",
    "            \n",
    "            y_pred1,y_pred2,y_pred3,y_pred4,y_pred5,y_pred6,y_pred7,y_pred8,y_pred9,y_pred10 = model(img, freq, mean0, std0, mean1, std1)        \n",
    "            y_pred = (y_pred1 + y_pred2 + y_pred3 + y_pred4 + y_pred5 + y_pred6 + y_pred7 + y_pred8 + y_pred9 + y_pred10) / 10.0\n",
    "            \n",
    "#             loss = criterion(y_pred.view(-1), y)\n",
    "            loss = criterion(y_pred[:,0].view(-1), y) + msecriterion(y_pred[:,1].view(-1), y)\n",
    "\n",
    "#             loss2 = msecriterion(y_pred.sigmoid().view(-1), y) * 2\n",
    "#             loss = loss + loss2\n",
    "\n",
    "            loss_train = loss.item()\n",
    "            loss_sum += n * loss_train\n",
    "            n_sum += n\n",
    "\n",
    "            loss.backward()\n",
    "\n",
    "            grad_norm = torch.nn.utils.clip_grad_norm_(model.parameters(),\n",
    "                                                       max_grad_norm)\n",
    "            \n",
    "            if ibatch % grad_accum == 0 or len(loader_train) == (ibatch - 1):\n",
    "                optimizer.step()\n",
    "                optimizer.zero_grad()\n",
    "            \n",
    "            scheduler.step(iepoch * nbatch + ibatch + 1)\n",
    "            lrs.append(optimizer.param_groups[0]['lr'])            \n",
    "\n",
    "        # Evaluate\n",
    "        val = evaluate(model, loader_val)\n",
    "        time_val += val['time']\n",
    "        loss_train = loss_sum / n_sum\n",
    "        lr_now = optimizer.param_groups[0]['lr']\n",
    "        dt = (time.time() - tb) / 60\n",
    "        results.append('Epoch %d %.4f %.4f %.4f  %.2e  %.2f min' %\n",
    "              (iepoch + 1, loss_train, val['loss'], val['score'], lr_now, dt))\n",
    "        print('Epoch %d %.4f %.4f %.4f  %.2e  %.2f min' %\n",
    "              (iepoch + 1, loss_train, val['loss'], val['score'], lr_now, dt))\n",
    "        if val[\"loss\"] < minloss:\n",
    "            minloss = val[\"loss\"]\n",
    "            print(\"=== SAVING\", val[\"loss\"], val[\"score\"])\n",
    "            \n",
    "            ofilename = 'model%d.pytorch' % ifold\n",
    "            torch.save(model.state_dict(), ofilename)\n",
    "\n",
    "    dt = time.time() - tb\n",
    "    print('Training done %.2f min total, %.2f min val' % (dt / 60, time_val / 60))\n",
    "\n",
    "    # Save model\n",
    "    ofilename = 'model%d_final.pytorch' % ifold\n",
    "    torch.save(model.state_dict(), ofilename)\n",
    "    print(ofilename, 'written')\n",
    "\n",
    "    break  # 1 fold only"
   ]
  },
  {
   "cell_type": "code",
   "execution_count": null,
   "id": "62223e2e-9c85-40ce-888e-3a401bfddc64",
   "metadata": {},
   "outputs": [],
   "source": [
    "### 16 bce mse, b7 model eval3, LB :0.754\n",
    "# 0.6372 0.7726 0.7208\n",
    "# 0.6211 0.7770 0.7305\n",
    "\n",
    "### 15 bce mse, b0 model eval3, LB 0.747:\n",
    "# 0.6551 0.7912 0.7320\n",
    "# 0.6528 0.7933 0.7293\n",
    "\n",
    "# Epoch 1 0.9498 0.8798 0.6291  7.00e-04  4.27 min\n",
    "# === SAVING 0.8797697163209682 0.6291428670636643\n",
    "# Epoch 2 0.8044 0.8441 0.6722  6.97e-04  8.60 min\n",
    "# === SAVING 0.8441182845007114 0.6722338929495303\n",
    "# Epoch 3 0.7639 0.8484 0.6641  6.88e-04  12.85 min\n",
    "# Epoch 4 0.7481 0.8710 0.6652  6.73e-04  17.25 min\n",
    "# Epoch 5 0.7322 0.8221 0.6881  6.53e-04  21.42 min\n",
    "# === SAVING 0.8220611805838298 0.6881369468219933\n",
    "# Epoch 6 0.7244 0.8411 0.6943  6.28e-04  25.50 min\n",
    "# Epoch 7 0.7172 0.8064 0.6902  5.98e-04  29.76 min\n",
    "# === SAVING 0.8064443028070093 0.6901682320873627\n",
    "# Epoch 8 0.7073 0.8143 0.6760  5.63e-04  33.84 min\n",
    "# Epoch 9 0.7037 0.8371 0.6946  5.25e-04  38.09 min\n",
    "# Epoch 10 0.6963 0.8203 0.7020  4.84e-04  42.30 min\n",
    "# Epoch 11 0.6934 0.8110 0.7011  4.41e-04  46.58 min\n",
    "# Epoch 12 0.6885 0.8189 0.6972  3.96e-04  50.85 min\n",
    "# Epoch 13 0.6878 0.8069 0.7241  3.51e-04  55.03 min\n",
    "# Epoch 14 0.6846 0.8137 0.7091  3.05e-04  59.28 min\n",
    "# Epoch 15 0.6770 0.8111 0.7097  2.60e-04  63.59 min\n",
    "# Epoch 16 0.6724 0.8068 0.7167  2.17e-04  67.90 min\n",
    "# Epoch 17 0.6705 0.7917 0.7331  1.76e-04  72.23 min\n",
    "# === SAVING 0.7917354586647778 0.7330509210229346\n",
    "# Epoch 18 0.6672 0.7959 0.7269  1.38e-04  76.49 min\n",
    "# Epoch 19 0.6624 0.8005 0.7211  1.03e-04  80.77 min\n",
    "# Epoch 20 0.6604 0.8065 0.7213  7.32e-05  85.01 min\n",
    "# Epoch 21 0.6590 0.7942 0.7298  4.78e-05  89.23 min\n",
    "# Epoch 22 0.6551 0.7912 0.7320  2.76e-05  93.49 min\n",
    "# === SAVING 0.7912381698445576 0.7320092362714631\n",
    "# Epoch 23 0.6532 0.7955 0.7295  1.29e-05  97.75 min\n",
    "# Epoch 24 0.6514 0.7941 0.7295  3.99e-06  101.96 min\n",
    "# Epoch 25 0.6528 0.7933 0.7293  1.00e-06  106.24 min\n"
   ]
  },
  {
   "cell_type": "code",
   "execution_count": null,
   "id": "4fb9ee0d-8f86-4c34-a3f3-444e1e189ddb",
   "metadata": {},
   "outputs": [],
   "source": [
    "# New eval dataset, 13; 25 epochs: LB 0.747\n",
    "# 0.4710 0.5633 0.7033\n",
    "# 0.4624 0.5741 0.6973\n",
    "# combined: LB 0.747\n",
    "\n",
    "# Sub 14, eval2, combine: LB 0.742\n",
    "# 0.4938 0.4758 0.7739\n",
    "# 0.4658 0.4985 0.7782\n",
    "# LB 0.742\n",
    "\n",
    "\n",
    "#### Try multi dropout on the final layer\n",
    "#### Try inputing the base frequency into the head\n",
    "#### instead of predicting 0 or 1, predict 10/h0 or 0\n",
    "#### try rotating 45 degrees and running through too?\n",
    "\n"
   ]
  },
  {
   "cell_type": "code",
   "execution_count": 20,
   "id": "778becc6-3a2f-40e6-adac-11df6524b710",
   "metadata": {},
   "outputs": [],
   "source": [
    "\n",
    "\n",
    "### AVG together, LB 0.737\n",
    "\n",
    "# model0 0.4479 0.4582 0.8265\n",
    "# final0 0.3931 0.5108 0.8325\n"
   ]
  },
  {
   "cell_type": "code",
   "execution_count": 21,
   "id": "b2a71d4d-48cf-472a-a9b4-017100f98b9c",
   "metadata": {},
   "outputs": [],
   "source": [
    "\n",
    "\n",
    "\n",
    "\n",
    "### LB 0.732:\n",
    "### only h0 >= 15, valid set entire train dir.\n",
    "\n",
    "# Fold 0/5\n",
    "# Epoch   loss          score   lr\n",
    "# Epoch 1 0.6633 0.5155 0.7591  4.00e-04  2.52 min\n",
    "# === SAVING 0.5155403053760529 0.7591\n",
    "# Epoch 2 0.6123 0.5019 0.7954  3.98e-04  5.09 min\n",
    "# === SAVING 0.5019464886188507 0.7953500000000001\n",
    "# Epoch 3 0.5926 0.4627 0.7912  3.93e-04  7.69 min\n",
    "# === SAVING 0.4627252984046936 0.7912374999999999\n",
    "# Epoch 4 0.5700 0.4838 0.8041  3.85e-04  10.28 min\n",
    "# Epoch 5 0.5551 0.4825 0.8121  3.73e-04  12.92 min\n",
    "# Epoch 6 0.5491 0.4385 0.8009  3.59e-04  15.55 min\n",
    "# === SAVING 0.4385023954510689 0.8008500000000001\n",
    "# Epoch 7 0.5430 0.4830 0.8124  3.42e-04  18.22 min\n",
    "# Epoch 8 0.5349 0.4754 0.7973  3.22e-04  20.85 min\n",
    "# Epoch 9 0.5273 0.4465 0.8010  3.00e-04  23.45 min\n",
    "# Epoch 10 0.5215 0.4587 0.8221  2.77e-04  26.08 min\n",
    "# Epoch 11 0.5230 0.4426 0.8110  2.52e-04  28.67 min\n",
    "# Epoch 12 0.5178 0.4592 0.7859  2.27e-04  31.25 min\n",
    "# Epoch 13 0.5025 0.4902 0.8002  2.00e-04  33.87 min\n",
    "# Epoch 14 0.5067 0.4883 0.8106  1.74e-04  36.45 min\n",
    "# Epoch 15 0.4953 0.4651 0.8104  1.49e-04  39.07 min\n",
    "# Epoch 16 0.4981 0.4317 0.8158  1.24e-04  41.65 min\n",
    "# === SAVING 0.43169900864362715 0.8157875\n",
    "# Epoch 17 0.4877 0.4849 0.8063  1.01e-04  44.27 min\n",
    "# Epoch 18 0.4829 0.4447 0.8221  7.91e-05  46.89 min\n",
    "# Epoch 19 0.4763 0.4945 0.8095  5.94e-05  49.47 min\n",
    "# Epoch 20 0.4721 0.4705 0.8217  4.22e-05  52.06 min\n",
    "# Epoch 21 0.4714 0.4944 0.8196  2.77e-05  54.66 min\n",
    "# Epoch 22 0.4611 0.4865 0.8202  1.62e-05  57.25 min\n",
    "# Epoch 23 0.4576 0.4788 0.8222  7.80e-06  59.86 min\n",
    "# Epoch 24 0.4592 0.4903 0.8216  2.71e-06  62.45 min\n",
    "# Epoch 25 0.4536 0.5001 0.8206  1.00e-06  65.06 min\n",
    "# Training done 65.06 min total, 6.23 min val\n",
    "# model0.pytorch written"
   ]
  },
  {
   "cell_type": "code",
   "execution_count": 22,
   "id": "077d3240-3686-471e-bc31-fe408a7b4426",
   "metadata": {},
   "outputs": [],
   "source": [
    "### test grad accum (currently at 2)\n",
    "### with all the other conv setups"
   ]
  },
  {
   "cell_type": "code",
   "execution_count": null,
   "id": "9039733a-47cd-4839-8719-5e21eff8ee07",
   "metadata": {},
   "outputs": [],
   "source": []
  },
  {
   "cell_type": "code",
   "execution_count": 23,
   "id": "d8ac08db-0722-45d9-86c9-9e52200d9715",
   "metadata": {},
   "outputs": [],
   "source": [
    "### Also try:\n",
    "### freq / 500 into the head of the model\n",
    "### \n",
    "\n",
    "# ofilename = 'model0.pytorch'\n",
    "# torch.save(model.state_dict(), ofilename)"
   ]
  },
  {
   "cell_type": "code",
   "execution_count": null,
   "id": "7ef213fa-36a5-440a-ae1d-5648891980f5",
   "metadata": {},
   "outputs": [],
   "source": []
  },
  {
   "cell_type": "code",
   "execution_count": 21,
   "id": "221142e7-086c-4e2b-8205-b5ee4f2aa2c6",
   "metadata": {},
   "outputs": [
    {
     "data": {
      "application/vnd.jupyter.widget-view+json": {
       "model_id": "f252bb9e5e064bb289ad1387f6dda28b",
       "version_major": 2,
       "version_minor": 0
      },
      "text/plain": [
       "HBox(children=(FloatProgress(value=0.0, description='Predict', max=7975.0, style=ProgressStyle(description_wid…"
      ]
     },
     "metadata": {},
     "output_type": "display_data"
    },
    {
     "name": "stdout",
     "output_type": "stream",
     "text": [
      "\n"
     ]
    },
    {
     "data": {
      "application/vnd.jupyter.widget-view+json": {
       "model_id": "b1fa2b47ca834db3b9481016054f9a61",
       "version_major": 2,
       "version_minor": 0
      },
      "text/plain": [
       "HBox(children=(FloatProgress(value=0.0, description='Predict', max=7975.0, style=ProgressStyle(description_wid…"
      ]
     },
     "metadata": {},
     "output_type": "display_data"
    },
    {
     "name": "stdout",
     "output_type": "stream",
     "text": [
      "DONE\n"
     ]
    }
   ],
   "source": [
    "submit = pd.read_csv('./sample_submission.csv')\n",
    "model = Model(model_name, pretrained=False)\n",
    "model.to(device);\n",
    "\n",
    "\n",
    "filenames = [\"model0_16\", \"model0_16_final\"]\n",
    "\n",
    "for i in range(len(filenames)):\n",
    "    \n",
    "    model = Model(model_name, pretrained=False)\n",
    "    ffname = filenames[i]\n",
    "    filename = f'./{ffname}.pytorch'\n",
    "    \n",
    "    model.to(device)\n",
    "    model.load_state_dict(torch.load(filename, map_location=device))\n",
    "    model.eval()\n",
    "\n",
    "    # Predict\n",
    "    dataset_test = Dataset('test', submit)\n",
    "    loader_test = torch.utils.data.DataLoader(dataset_test, batch_size=64,\n",
    "                                            num_workers=num_workers, pin_memory=True)\n",
    "\n",
    "    test = evaluate(model, loader_test, compute_score=False, pbar=len(submit))\n",
    "\n",
    "        # Write prediction\n",
    "    if i == 0:\n",
    "        submit['target'] = test['y_pred'] / len(filenames)\n",
    "    else:\n",
    "        submit['target'] += test['y_pred'] / len(filenames)\n",
    "        \n",
    "# submit.to_csv('submission.csv', index=False)\n",
    "# print('target range [%.2f, %.2f]' % (submit['target'].min(), submit['target'].max()))\n",
    "print(\"DONE\")"
   ]
  },
  {
   "cell_type": "code",
   "execution_count": 22,
   "id": "e0c83f32-474a-4e04-a63b-dea5e94fa092",
   "metadata": {},
   "outputs": [
    {
     "data": {
      "text/html": [
       "<div>\n",
       "<style scoped>\n",
       "    .dataframe tbody tr th:only-of-type {\n",
       "        vertical-align: middle;\n",
       "    }\n",
       "\n",
       "    .dataframe tbody tr th {\n",
       "        vertical-align: top;\n",
       "    }\n",
       "\n",
       "    .dataframe thead th {\n",
       "        text-align: right;\n",
       "    }\n",
       "</style>\n",
       "<table border=\"1\" class=\"dataframe\">\n",
       "  <thead>\n",
       "    <tr style=\"text-align: right;\">\n",
       "      <th></th>\n",
       "      <th>id</th>\n",
       "      <th>target</th>\n",
       "    </tr>\n",
       "  </thead>\n",
       "  <tbody>\n",
       "    <tr>\n",
       "      <th>0</th>\n",
       "      <td>00054c878</td>\n",
       "      <td>0.314687</td>\n",
       "    </tr>\n",
       "    <tr>\n",
       "      <th>1</th>\n",
       "      <td>0007285a3</td>\n",
       "      <td>0.660454</td>\n",
       "    </tr>\n",
       "    <tr>\n",
       "      <th>2</th>\n",
       "      <td>00076c5a6</td>\n",
       "      <td>0.328206</td>\n",
       "    </tr>\n",
       "    <tr>\n",
       "      <th>3</th>\n",
       "      <td>001349290</td>\n",
       "      <td>0.296824</td>\n",
       "    </tr>\n",
       "    <tr>\n",
       "      <th>4</th>\n",
       "      <td>001a52e92</td>\n",
       "      <td>0.304998</td>\n",
       "    </tr>\n",
       "    <tr>\n",
       "      <th>...</th>\n",
       "      <td>...</td>\n",
       "      <td>...</td>\n",
       "    </tr>\n",
       "    <tr>\n",
       "      <th>7970</th>\n",
       "      <td>ffbce04ef</td>\n",
       "      <td>0.987159</td>\n",
       "    </tr>\n",
       "    <tr>\n",
       "      <th>7971</th>\n",
       "      <td>ffc2d976b</td>\n",
       "      <td>0.524765</td>\n",
       "    </tr>\n",
       "    <tr>\n",
       "      <th>7972</th>\n",
       "      <td>ffc905909</td>\n",
       "      <td>0.249059</td>\n",
       "    </tr>\n",
       "    <tr>\n",
       "      <th>7973</th>\n",
       "      <td>ffe276f3e</td>\n",
       "      <td>0.416862</td>\n",
       "    </tr>\n",
       "    <tr>\n",
       "      <th>7974</th>\n",
       "      <td>fffa17f67</td>\n",
       "      <td>0.271083</td>\n",
       "    </tr>\n",
       "  </tbody>\n",
       "</table>\n",
       "<p>7975 rows × 2 columns</p>\n",
       "</div>"
      ],
      "text/plain": [
       "             id    target\n",
       "0     00054c878  0.314687\n",
       "1     0007285a3  0.660454\n",
       "2     00076c5a6  0.328206\n",
       "3     001349290  0.296824\n",
       "4     001a52e92  0.304998\n",
       "...         ...       ...\n",
       "7970  ffbce04ef  0.987159\n",
       "7971  ffc2d976b  0.524765\n",
       "7972  ffc905909  0.249059\n",
       "7973  ffe276f3e  0.416862\n",
       "7974  fffa17f67  0.271083\n",
       "\n",
       "[7975 rows x 2 columns]"
      ]
     },
     "execution_count": 22,
     "metadata": {},
     "output_type": "execute_result"
    }
   ],
   "source": [
    "submit"
   ]
  },
  {
   "cell_type": "code",
   "execution_count": 23,
   "id": "a64e0552-3100-4d4f-b321-0b7063679a3b",
   "metadata": {},
   "outputs": [
    {
     "data": {
      "text/plain": [
       "(array([3718., 1506.,  465.,  237.,  134.,  115.,   98.,   95.,  111.,\n",
       "        1496.]),\n",
       " array([0.22873276, 0.30585824, 0.38298372, 0.4601092 , 0.53723468,\n",
       "        0.61436015, 0.69148563, 0.76861111, 0.84573659, 0.92286206,\n",
       "        0.99998754]),\n",
       " <BarContainer object of 10 artists>)"
      ]
     },
     "execution_count": 23,
     "metadata": {},
     "output_type": "execute_result"
    },
    {
     "data": {
      "image/png": "[encoded data removed]",
      "text/plain": [
       "<Figure size 432x288 with 1 Axes>"
      ]
     },
     "metadata": {
      "needs_background": "light"
     },
     "output_type": "display_data"
    },
    {
     "name": "stdout",
     "output_type": "stream",
     "text": [
      "\n"
     ]
    }
   ],
   "source": [
    "plt.hist(list(submit[\"target\"]))"
   ]
  },
  {
   "cell_type": "code",
   "execution_count": null,
   "id": "de03b717-6449-42bb-8aef-35077ab761e8",
   "metadata": {},
   "outputs": [],
   "source": []
  },
  {
   "cell_type": "code",
   "execution_count": 24,
   "id": "6b277ae2-b0fe-459b-864f-4b6c69a634ce",
   "metadata": {},
   "outputs": [],
   "source": [
    "# submit.to_csv('sub_16_bce_mse.csv', index=False)\n"
   ]
  },
  {
   "cell_type": "code",
   "execution_count": 61,
   "id": "7a56b630-e1f7-4a8f-a39f-b73c93cff714",
   "metadata": {},
   "outputs": [],
   "source": [
    "best = pd.read_csv(\"./submission_748.csv\")"
   ]
  },
  {
   "cell_type": "code",
   "execution_count": 62,
   "id": "953a1271-d171-4284-85f0-3a5f9fb987ca",
   "metadata": {},
   "outputs": [
    {
     "data": {
      "text/plain": [
       "(array([3494., 1511.,  524.,  235.,  142.,  101.,  107.,  112.,  192.,\n",
       "        1557.]),\n",
       " array([0.05396304, 0.14856674, 0.24317043, 0.33777413, 0.43237783,\n",
       "        0.52698152, 0.62158522, 0.71618891, 0.81079261, 0.9053963 ,\n",
       "        1.        ]),\n",
       " <BarContainer object of 10 artists>)"
      ]
     },
     "execution_count": 62,
     "metadata": {},
     "output_type": "execute_result"
    },
    {
     "data": {
      "image/png": "[encoded data removed]",
      "text/plain": [
       "<Figure size 432x288 with 1 Axes>"
      ]
     },
     "metadata": {
      "needs_background": "light"
     },
     "output_type": "display_data"
    }
   ],
   "source": [
    "plt.hist(list(best[\"target\"]))"
   ]
  },
  {
   "cell_type": "code",
   "execution_count": 101,
   "id": "880a10a4-d716-4f7d-a3db-71342e729501",
   "metadata": {},
   "outputs": [
    {
     "data": {
      "text/plain": [
       "(array([2554., 1077.,  667.,  468.,  356.,  264.,  237.,  205.,  207.,\n",
       "        1940.]),\n",
       " array([0.00189288, 0.10170359, 0.2015143 , 0.30132502, 0.40113573,\n",
       "        0.50094644, 0.60075715, 0.70056786, 0.80037858, 0.90018929,\n",
       "        1.        ]),\n",
       " <BarContainer object of 10 artists>)"
      ]
     },
     "execution_count": 101,
     "metadata": {},
     "output_type": "execute_result"
    },
    {
     "data": {
      "image/png": "[encoded data removed]",
      "text/plain": [
       "<Figure size 432x288 with 1 Axes>"
      ]
     },
     "metadata": {
      "needs_background": "light"
     },
     "output_type": "display_data"
    }
   ],
   "source": [
    "plt.hist(list(submit[\"target\"]))"
   ]
  },
  {
   "cell_type": "code",
   "execution_count": 99,
   "id": "215734ac-b15c-4465-8564-be2ce2867cd6",
   "metadata": {},
   "outputs": [],
   "source": [
    "t = submit[\"target\"] - min(list(submit[\"target\"]))\n",
    "t = t / max(t)"
   ]
  },
  {
   "cell_type": "code",
   "execution_count": 100,
   "id": "875ac5d7-61d9-4dde-832c-3be6c4ca97fd",
   "metadata": {},
   "outputs": [
    {
     "data": {
      "text/plain": [
       "0.3187378624451336"
      ]
     },
     "execution_count": 100,
     "metadata": {},
     "output_type": "execute_result"
    }
   ],
   "source": [
    "# plt.hist(abs(t - best[\"target\"]))\n",
    "import sklearn\n",
    "sklearn.metrics.auc(sorted(t), sorted(best[\"target\"]))"
   ]
  },
  {
   "cell_type": "code",
   "execution_count": 97,
   "id": "44e103de-ad5e-4116-9bc9-8a0b5424e84c",
   "metadata": {},
   "outputs": [
    {
     "data": {
      "text/plain": [
       "(array([ 253., 2341., 2224., 1010.,  473.,  265.,  157.,  150.,  188.,\n",
       "         914.]),\n",
       " array([0. , 0.1, 0.2, 0.3, 0.4, 0.5, 0.6, 0.7, 0.8, 0.9, 1. ],\n",
       "       dtype=float32),\n",
       " <BarContainer object of 10 artists>)"
      ]
     },
     "execution_count": 97,
     "metadata": {},
     "output_type": "execute_result"
    },
    {
     "data": {
      "image/png": "[encoded data removed]",
      "text/plain": [
       "<Figure size 432x288 with 1 Axes>"
      ]
     },
     "metadata": {
      "needs_background": "light"
     },
     "output_type": "display_data"
    }
   ],
   "source": [
    "plt.hist(t)"
   ]
  },
  {
   "cell_type": "code",
   "execution_count": 51,
   "id": "5c5ca584-58eb-4177-bf64-1c56cef2d664",
   "metadata": {},
   "outputs": [],
   "source": [
    "submit[\"target\"] = (submit[\"target\"] * 3 + best[\"target\"] * 7) / 10.0"
   ]
  },
  {
   "cell_type": "code",
   "execution_count": 52,
   "id": "a4fc7796-67c0-49b7-a25c-9764d7618f04",
   "metadata": {},
   "outputs": [],
   "source": [
    "submit.to_csv('sub_many_folds_30pct.csv', index=False)\n"
   ]
  },
  {
   "cell_type": "code",
   "execution_count": null,
   "id": "ee3346b0-67f5-4209-b7d3-b1a823d666e1",
   "metadata": {},
   "outputs": [],
   "source": []
  },
  {
   "cell_type": "code",
   "execution_count": null,
   "id": "cef30c22-f423-4d4c-8e92-9a5ae2b66be1",
   "metadata": {},
   "outputs": [],
   "source": []
  },
  {
   "cell_type": "code",
   "execution_count": 61,
   "id": "f1a8a9b7-6ce4-47c4-ba29-8ef031eb5c40",
   "metadata": {},
   "outputs": [],
   "source": [
    "# #####\n",
    "# ##### TTA\n",
    "# #####\n",
    "\n",
    "# submit = pd.read_csv('./sample_submission.csv')\n",
    "# model = Model(model_name, pretrained=False)\n",
    "# model.to(device);\n",
    "\n",
    "\n",
    "# filenames = [\"model0_120fold0_8400\"]\n",
    "\n",
    "# num_tfms=5\n",
    "\n",
    "# for i in range(len(filenames)):\n",
    "\n",
    "#     model = Model(model_name, pretrained=False)\n",
    "#     ffname = filenames[i]\n",
    "#     filename = f'./{ffname}.pytorch'\n",
    "#     model.to(device)\n",
    "#     model.load_state_dict(torch.load(filename, map_location=device))\n",
    "#     model.eval()\n",
    "    \n",
    "#     for tfmsi in range(num_tfms):\n",
    "#         dataset_test = Dataset('test', submit, tfms=True)\n",
    "#         loader_test = torch.utils.data.DataLoader(dataset_test, batch_size=64,\n",
    "#                                                 num_workers=num_workers, pin_memory=True)\n",
    "\n",
    "#         test = evaluate(model, loader_test, compute_score=False, pbar=len(submit))\n",
    "#         submit['target'] += test['y_pred'] / (len(filenames) * num_tfms)\n"
   ]
  },
  {
   "cell_type": "code",
   "execution_count": 62,
   "id": "ba647a18-058e-4ec3-a114-aac27c6e50be",
   "metadata": {},
   "outputs": [],
   "source": [
    "# plt.hist(list(submit[\"target\"]))"
   ]
  },
  {
   "cell_type": "code",
   "execution_count": 63,
   "id": "768af894-7a47-431c-99a4-fc0eb10520e1",
   "metadata": {},
   "outputs": [],
   "source": [
    "# submit.to_csv('submission_120_fold0_TTA.csv', index=False)"
   ]
  },
  {
   "cell_type": "code",
   "execution_count": null,
   "id": "27fc4f95-c298-4a19-8790-14a0173ae9f0",
   "metadata": {},
   "outputs": [],
   "source": []
  },
  {
   "cell_type": "code",
   "execution_count": null,
   "id": "ce20ec56-1e9f-42f9-ada7-02c2a6e6a00d",
   "metadata": {},
   "outputs": [],
   "source": []
  },
  {
   "cell_type": "code",
   "execution_count": null,
   "id": "dca7aed3-6e3c-47b8-91f1-0778db596bb1",
   "metadata": {},
   "outputs": [],
   "source": []
  },
  {
   "cell_type": "code",
   "execution_count": null,
   "id": "b715b0f2-99f8-40d0-af2f-4e33a5461c61",
   "metadata": {},
   "outputs": [],
   "source": []
  },
  {
   "cell_type": "code",
   "execution_count": null,
   "id": "04c783a7-11a4-4c45-bd4c-1a52e3b32069",
   "metadata": {},
   "outputs": [],
   "source": []
  },
  {
   "cell_type": "code",
   "execution_count": 30,
   "id": "f47ae6dd-64e1-42a0-a8f7-1d9d099595ae",
   "metadata": {},
   "outputs": [],
   "source": [
    "file_id = list(os.listdir(\"./train\"))[0].split(\".\")[0]\n",
    "\n",
    "IMGSIZE = 180\n",
    "\n",
    "img = np.zeros((3, 360, IMGSIZE), dtype=np.float32)\n",
    "\n",
    "filename = '%s/%s.hdf5' % (\"train\", file_id)\n",
    "with h5py.File(filename, 'r') as f:\n",
    "    g = f[file_id]\n",
    "\n",
    "    h1raw = g[\"H1\"]['SFTs']\n",
    "    h1across = int(h1raw.shape[1] / IMGSIZE)\n",
    "    l1raw = g[\"L1\"]['SFTs']\n",
    "    l1across = int(l1raw.shape[1] / IMGSIZE)\n",
    "    across = min(h1across, l1across)\n",
    "\n",
    "    for ch, s in enumerate(['H1', 'L1']):\n",
    "        a = g[s]['SFTs'][:, :(across*IMGSIZE)] * 1e22  # Fourier coefficient complex64\n",
    "\n",
    "        areal = a.real**2\n",
    "        aimag = a.imag**2\n",
    "        p = areal + aimag  # power\n",
    "        p /= np.mean(p)  # normalize\n",
    "\n",
    "        p = np.mean(p.reshape(360, IMGSIZE, across), axis=2)  # compress 4096 -> 128\n",
    "\n",
    "        img[ch] = p\n",
    "        \n"
   ]
  },
  {
   "cell_type": "code",
   "execution_count": 32,
   "id": "eb2df016-4914-4036-8541-1eaa850ac70f",
   "metadata": {},
   "outputs": [
    {
     "name": "stderr",
     "output_type": "stream",
     "text": [
      "Clipping input data to the valid range for imshow with RGB data ([0..1] for floats or [0..255] for integers).\n"
     ]
    },
    {
     "data": {
      "text/plain": [
       "<matplotlib.image.AxesImage at 0x7f9c755f2f40>"
      ]
     },
     "execution_count": 32,
     "metadata": {},
     "output_type": "execute_result"
    },
    {
     "data": {
      "image/png": "[encoded data removed]",
      "text/plain": [
       "<Figure size 432x288 with 1 Axes>"
      ]
     },
     "metadata": {
      "needs_background": "light"
     },
     "output_type": "display_data"
    }
   ],
   "source": [
    "plt.imshow(img.transpose((1,2,0)))"
   ]
  },
  {
   "cell_type": "code",
   "execution_count": null,
   "id": "ed4cbee4-8e61-46ce-9f90-46063dff77b2",
   "metadata": {},
   "outputs": [],
   "source": []
  },
  {
   "cell_type": "code",
   "execution_count": null,
   "id": "0db60426-b91c-4f2a-ae7a-5b74a67555d9",
   "metadata": {},
   "outputs": [],
   "source": []
  },
  {
   "cell_type": "code",
   "execution_count": 86,
   "id": "45fe24b0-cec8-4d99-be46-4265d7adc291",
   "metadata": {},
   "outputs": [
    {
     "name": "stderr",
     "output_type": "stream",
     "text": [
      "Clipping input data to the valid range for imshow with RGB data ([0..1] for floats or [0..255] for integers).\n"
     ]
    },
    {
     "data": {
      "text/plain": [
       "<matplotlib.image.AxesImage at 0x7f9c74ae2a00>"
      ]
     },
     "execution_count": 86,
     "metadata": {},
     "output_type": "execute_result"
    },
    {
     "data": {
      "image/png": "[encoded data removed]",
      "text/plain": [
       "<Figure size 432x288 with 1 Axes>"
      ]
     },
     "metadata": {
      "needs_background": "light"
     },
     "output_type": "display_data"
    }
   ],
   "source": [
    "file_id = list(os.listdir(\"./test\"))[4].split(\".\")[0]\n",
    "\n",
    "IMGSIZE = 180\n",
    "\n",
    "img = np.zeros((3, 360, IMGSIZE), dtype=np.float32)\n",
    "\n",
    "filename = '%s/%s.hdf5' % (\"test\", file_id)\n",
    "with h5py.File(filename, 'r') as f:\n",
    "    g = f[file_id]\n",
    "\n",
    "    h1raw = g[\"H1\"]['SFTs']\n",
    "    h1across = int(h1raw.shape[1] / IMGSIZE)\n",
    "    l1raw = g[\"L1\"]['SFTs']\n",
    "    l1across = int(l1raw.shape[1] / IMGSIZE)\n",
    "    across = min(h1across, l1across)\n",
    "\n",
    "    for ch, s in enumerate(['H1', 'L1']):\n",
    "        a = g[s]['SFTs'][:, :(across*IMGSIZE)] * 1e22  # Fourier coefficient complex64\n",
    "\n",
    "        areal = a.real**2\n",
    "        aimag = a.imag**2\n",
    "        p = areal + aimag  # power\n",
    "        p /= np.mean(p)  # normalize\n",
    "\n",
    "        p = np.mean(p.reshape(360, IMGSIZE, across), axis=2)  # compress 4096 -> 128\n",
    "\n",
    "        img[ch] = p\n",
    "        \n",
    "plt.imshow(img.transpose((1,2,0)))"
   ]
  },
  {
   "cell_type": "code",
   "execution_count": 87,
   "id": "89ba37d1-f0e3-4500-8b7f-d97c207b8fcc",
   "metadata": {},
   "outputs": [],
   "source": [
    "\n",
    "for i in range(img.shape[2]):\n",
    "    img[0,:,i] = (img[0,:,i] - np.mean(img[0,:,i])) / np.std(img[0,:,i])\n",
    "    img[1,:,i] = (img[1,:,i] - np.mean(img[1,:,i])) / np.std(img[1,:,i])\n"
   ]
  },
  {
   "cell_type": "code",
   "execution_count": 88,
   "id": "4c948c23-a6af-4a51-a3fe-03f964bcb3c8",
   "metadata": {},
   "outputs": [
    {
     "name": "stderr",
     "output_type": "stream",
     "text": [
      "Clipping input data to the valid range for imshow with RGB data ([0..1] for floats or [0..255] for integers).\n"
     ]
    },
    {
     "data": {
      "text/plain": [
       "<matplotlib.image.AxesImage at 0x7f9c74b46ee0>"
      ]
     },
     "execution_count": 88,
     "metadata": {},
     "output_type": "execute_result"
    },
    {
     "data": {
      "image/png": "[encoded data removed]",
      "text/plain": [
       "<Figure size 432x288 with 1 Axes>"
      ]
     },
     "metadata": {
      "needs_background": "light"
     },
     "output_type": "display_data"
    }
   ],
   "source": [
    "plt.imshow(img.transpose((1,2,0)))"
   ]
  },
  {
   "cell_type": "code",
   "execution_count": null,
   "id": "25ffbd16-8c9a-43d1-9ed5-46a0cc6733dd",
   "metadata": {},
   "outputs": [],
   "source": []
  },
  {
   "cell_type": "code",
   "execution_count": null,
   "id": "f04328c5-6408-41ff-9cdc-a9cd388edb28",
   "metadata": {},
   "outputs": [],
   "source": [
    "def json_filename_from_params(signal_v,tstart,f0,h0,f1,alpha,delta,cosi,psi,phi,sqrtSX):\n",
    "    savefname = [str(int(tstart))]\n",
    "    for value in [f0,h0,f1,alpha,delta,cosi,psi,phi,sqrtSX * 1e24]:\n",
    "        savefname.append(str(round(value, 2)))\n",
    "    savefname = \"_\".join(savefname) + f\"_{signal_v}.json\"\n",
    "    return savefname        \n"
   ]
  },
  {
   "cell_type": "code",
   "execution_count": 35,
   "id": "cdefce9b-1adb-4d8e-affd-a1b47f2591ab",
   "metadata": {},
   "outputs": [
    {
     "name": "stdout",
     "output_type": "stream",
     "text": [
      "./full_sig_json 5.02 49.91\n",
      "./new_sig_json 9.24 39.97\n",
      "./new_sig_json2 5.02 39.92\n",
      "./new_sig_json3 5.0 39.98\n",
      "./new_sig_json4 9.01 29.92\n",
      "./new_sig_json5 9.07 59.99\n",
      "./new_sig_bands2 9.06 39.71\n",
      "./new_sig_bands3 9.17 39.98\n",
      "./new_sig_bands_weak 25.02 59.94\n",
      "better_bands 25.17 59.8\n",
      "better_bands_symetric 25.01 59.98\n",
      "better_bands_symetric2 25.02 59.89\n"
     ]
    }
   ],
   "source": [
    "# full_sig_json, new_sig_json2, new_sig_json3 = too low\n",
    "# new_sig_json, new_sig_json4, new_sig_json5, new_sig_bands2, new_sig_bands3 = also low\n",
    "# new_sig_bands_weak, better_bands, better_bands_symetric, better_bands_symetric2 = 25 - 60\n",
    "\n",
    "for folder in [\"./full_sig_json\", \"./new_sig_json\", \"./new_sig_json2\", \n",
    "               \"./new_sig_json3\", \"./new_sig_json4\", \"./new_sig_json5\",\n",
    "              \"./new_sig_bands2\", \"./new_sig_bands3\",\n",
    "              \"./new_sig_bands_weak\",\n",
    "              \"./better_bands\", \"./better_bands_symetric\", \"./better_bands_symetric2\"]:\n",
    "               \n",
    "    h0s = []\n",
    "    for f in os.listdir(folder):\n",
    "        if \"json\" not in f:\n",
    "            continue\n",
    "        h0s.append(float(f.split(\"_\")[2]))\n",
    "    print(folder, min(h0s), max(h0s))\n",
    "#     break"
   ]
  },
  {
   "cell_type": "code",
   "execution_count": null,
   "id": "9eb29c19-1dc9-473f-b759-f0608d8be779",
   "metadata": {},
   "outputs": [],
   "source": []
  },
  {
   "cell_type": "code",
   "execution_count": null,
   "id": "ecb02964-9cbc-4f43-8b6f-b03ff9342f18",
   "metadata": {},
   "outputs": [],
   "source": []
  },
  {
   "cell_type": "code",
   "execution_count": 22,
   "id": "4d1dbb39-08e0-4ec7-9599-e14c31456db7",
   "metadata": {},
   "outputs": [],
   "source": [
    "b1 = pd.read_csv(\"sub_only_h010_7b.csv\")\n",
    "b2 = pd.read_csv(\"sub_only_h015.csv\")\n",
    "b3 = pd.read_csv(\"sub_big_conv_5folds.csv\")\n",
    "b4 = pd.read_csv(\"sub_many_folds_30pct.csv\")\n",
    "b5 = pd.read_csv(\"sub748_plus_5fold.csv\")"
   ]
  },
  {
   "cell_type": "code",
   "execution_count": 24,
   "id": "fe11caee-aab5-4f4a-893c-93c0b94b139c",
   "metadata": {},
   "outputs": [],
   "source": [
    "submit = pd.read_csv('./sample_submission.csv')"
   ]
  },
  {
   "cell_type": "code",
   "execution_count": 31,
   "id": "7f32e3b8-27a8-429d-881a-b43e386b64f1",
   "metadata": {},
   "outputs": [],
   "source": [
    "submit[\"target\"] = (b1[\"target\"] + b2[\"target\"] + b3[\"target\"] + 2*b4[\"target\"] + 3*b5[\"target\"]) / 8.0"
   ]
  },
  {
   "cell_type": "code",
   "execution_count": 33,
   "id": "f17e3bd1-531c-4739-8100-f495ffc1cac0",
   "metadata": {},
   "outputs": [
    {
     "data": {
      "text/html": [
       "<div>\n",
       "<style scoped>\n",
       "    .dataframe tbody tr th:only-of-type {\n",
       "        vertical-align: middle;\n",
       "    }\n",
       "\n",
       "    .dataframe tbody tr th {\n",
       "        vertical-align: top;\n",
       "    }\n",
       "\n",
       "    .dataframe thead th {\n",
       "        text-align: right;\n",
       "    }\n",
       "</style>\n",
       "<table border=\"1\" class=\"dataframe\">\n",
       "  <thead>\n",
       "    <tr style=\"text-align: right;\">\n",
       "      <th></th>\n",
       "      <th>id</th>\n",
       "      <th>target</th>\n",
       "    </tr>\n",
       "  </thead>\n",
       "  <tbody>\n",
       "    <tr>\n",
       "      <th>0</th>\n",
       "      <td>00054c878</td>\n",
       "      <td>0.191692</td>\n",
       "    </tr>\n",
       "    <tr>\n",
       "      <th>1</th>\n",
       "      <td>0007285a3</td>\n",
       "      <td>0.807574</td>\n",
       "    </tr>\n",
       "    <tr>\n",
       "      <th>2</th>\n",
       "      <td>00076c5a6</td>\n",
       "      <td>0.180237</td>\n",
       "    </tr>\n",
       "    <tr>\n",
       "      <th>3</th>\n",
       "      <td>001349290</td>\n",
       "      <td>0.262190</td>\n",
       "    </tr>\n",
       "    <tr>\n",
       "      <th>4</th>\n",
       "      <td>001a52e92</td>\n",
       "      <td>0.416445</td>\n",
       "    </tr>\n",
       "    <tr>\n",
       "      <th>...</th>\n",
       "      <td>...</td>\n",
       "      <td>...</td>\n",
       "    </tr>\n",
       "    <tr>\n",
       "      <th>7970</th>\n",
       "      <td>ffbce04ef</td>\n",
       "      <td>0.944064</td>\n",
       "    </tr>\n",
       "    <tr>\n",
       "      <th>7971</th>\n",
       "      <td>ffc2d976b</td>\n",
       "      <td>0.257886</td>\n",
       "    </tr>\n",
       "    <tr>\n",
       "      <th>7972</th>\n",
       "      <td>ffc905909</td>\n",
       "      <td>0.151640</td>\n",
       "    </tr>\n",
       "    <tr>\n",
       "      <th>7973</th>\n",
       "      <td>ffe276f3e</td>\n",
       "      <td>0.389391</td>\n",
       "    </tr>\n",
       "    <tr>\n",
       "      <th>7974</th>\n",
       "      <td>fffa17f67</td>\n",
       "      <td>0.241206</td>\n",
       "    </tr>\n",
       "  </tbody>\n",
       "</table>\n",
       "<p>7975 rows × 2 columns</p>\n",
       "</div>"
      ],
      "text/plain": [
       "             id    target\n",
       "0     00054c878  0.191692\n",
       "1     0007285a3  0.807574\n",
       "2     00076c5a6  0.180237\n",
       "3     001349290  0.262190\n",
       "4     001a52e92  0.416445\n",
       "...         ...       ...\n",
       "7970  ffbce04ef  0.944064\n",
       "7971  ffc2d976b  0.257886\n",
       "7972  ffc905909  0.151640\n",
       "7973  ffe276f3e  0.389391\n",
       "7974  fffa17f67  0.241206\n",
       "\n",
       "[7975 rows x 2 columns]"
      ]
     },
     "execution_count": 33,
     "metadata": {},
     "output_type": "execute_result"
    }
   ],
   "source": [
    "submit"
   ]
  },
  {
   "cell_type": "code",
   "execution_count": 34,
   "id": "755d4017-d0c5-4d18-ba5a-ce10aa61f752",
   "metadata": {},
   "outputs": [
    {
     "data": {
      "text/plain": [
       "(array([2415., 2226.,  793.,  340.,  192.,  166.,  149.,  122.,  152.,\n",
       "        1420.]),\n",
       " array([0.11354062, 0.20214715, 0.29075368, 0.37936021, 0.46796675,\n",
       "        0.55657328, 0.64517981, 0.73378634, 0.82239287, 0.9109994 ,\n",
       "        0.99960593]),\n",
       " <BarContainer object of 10 artists>)"
      ]
     },
     "execution_count": 34,
     "metadata": {},
     "output_type": "execute_result"
    },
    {
     "data": {
      "image/png": "[encoded data removed]",
      "text/plain": [
       "<Figure size 432x288 with 1 Axes>"
      ]
     },
     "metadata": {
      "needs_background": "light"
     },
     "output_type": "display_data"
    }
   ],
   "source": [
    "plt.hist(list(submit[\"target\"]))"
   ]
  },
  {
   "cell_type": "code",
   "execution_count": 35,
   "id": "629f3817-4c6d-4012-936c-0e70f75d5a48",
   "metadata": {},
   "outputs": [],
   "source": [
    "submit.to_csv('sub_post_7b_combined.csv', index=False)"
   ]
  },
  {
   "cell_type": "code",
   "execution_count": null,
   "id": "84d20114-2658-4631-be28-5447f20c64b3",
   "metadata": {},
   "outputs": [],
   "source": []
  },
  {
   "cell_type": "code",
   "execution_count": null,
   "id": "0de901bd-8f2a-4df7-b75d-4e086a1ecc39",
   "metadata": {},
   "outputs": [],
   "source": []
  },
  {
   "cell_type": "code",
   "execution_count": null,
   "id": "c6fe5fe2-c298-460b-9af4-9f4091b96806",
   "metadata": {},
   "outputs": [],
   "source": []
  },
  {
   "cell_type": "code",
   "execution_count": null,
   "id": "1dab3209-9f68-4769-a204-9a78fed05b20",
   "metadata": {},
   "outputs": [],
   "source": []
  },
  {
   "cell_type": "code",
   "execution_count": null,
   "id": "7738c684-ddde-4f96-8405-81934593a1bb",
   "metadata": {},
   "outputs": [],
   "source": []
  },
  {
   "cell_type": "code",
   "execution_count": null,
   "id": "08e17c6c-445e-45fb-8872-21505a9eff51",
   "metadata": {},
   "outputs": [],
   "source": []
  },
  {
   "cell_type": "code",
   "execution_count": null,
   "id": "5338d486-233c-4d3a-80bc-0ebd570dc1e1",
   "metadata": {},
   "outputs": [],
   "source": []
  },
  {
   "cell_type": "code",
   "execution_count": 18,
   "id": "1a5773bc-fda6-4997-8fb6-3e407375d7b9",
   "metadata": {},
   "outputs": [
    {
     "name": "stdout",
     "output_type": "stream",
     "text": [
      "DONE\n"
     ]
    }
   ],
   "source": [
    "\n",
    "for folder in [\"./unused_so_far\"]:\n",
    "               \n",
    "    for f in os.listdir(folder):\n",
    "        if f == \".ipynb_checkpoints\" or f == \".DS_Store\":\n",
    "            continue\n",
    "        h0 = float(f.split(\"_\")[2])\n",
    "        if h0 < 10:\n",
    "            continue\n",
    "        \n",
    "        df = df.append({\"id\": folder + \"/\" + f, \"target\": f.split(\".\")[-3].split(\"_\")[-1], \"source\": \"unused\"}, ignore_index=True)\n",
    "print(\"DONE\")\n"
   ]
  },
  {
   "cell_type": "code",
   "execution_count": 19,
   "id": "0a7767e7-b627-4a0f-96f2-203e83e58eae",
   "metadata": {},
   "outputs": [
    {
     "data": {
      "text/plain": [
       "6000"
      ]
     },
     "execution_count": 19,
     "metadata": {},
     "output_type": "execute_result"
    }
   ],
   "source": [
    "len(df[df[\"source\"] == \"unused\"])"
   ]
  },
  {
   "cell_type": "code",
   "execution_count": 27,
   "id": "5f704645-bb33-4410-8388-4dd0da49cf5b",
   "metadata": {},
   "outputs": [
    {
     "data": {
      "application/vnd.jupyter.widget-view+json": {
       "model_id": "c7437ae2915c4b14b609ee389dafd836",
       "version_major": 2,
       "version_minor": 0
      },
      "text/plain": [
       "HBox(children=(FloatProgress(value=0.0, description='Predict', max=6000.0, style=ProgressStyle(description_wid…"
      ]
     },
     "metadata": {},
     "output_type": "display_data"
    },
    {
     "data": {
      "application/vnd.jupyter.widget-view+json": {
       "model_id": "9cf56c30fe5f4afca59995ea0183f19f",
       "version_major": 2,
       "version_minor": 0
      },
      "text/plain": [
       "HBox(children=(FloatProgress(value=0.0, description='Predict', max=6000.0, style=ProgressStyle(description_wid…"
      ]
     },
     "metadata": {},
     "output_type": "display_data"
    },
    {
     "name": "stdout",
     "output_type": "stream",
     "text": [
      "DONE\n"
     ]
    }
   ],
   "source": [
    "model_name = 'tf_efficientnet_b7_ns'\n",
    "# submit = pd.read_csv('./sample_submission.csv')\n",
    "model = Model(model_name, pretrained=False)\n",
    "model.to(device);\n",
    "\n",
    "filenames = [\"model0_16\", \"model0_16_final\"]\n",
    "\n",
    "targets =[]\n",
    "\n",
    "for i in range(len(filenames)):\n",
    "    \n",
    "    model = Model(model_name, pretrained=False)\n",
    "    ffname = filenames[i]\n",
    "    filename = f'./{ffname}.pytorch'\n",
    "    \n",
    "    model.to(device)\n",
    "    model.load_state_dict(torch.load(filename, map_location=device))\n",
    "    model.eval()\n",
    "\n",
    "    # Predict\n",
    "    dataset_test = Dataset('train', df[df[\"source\"] == \"unused\"], tfms=False)\n",
    "#     dataset_test = Dataset('test', submit)\n",
    "    loader_test = torch.utils.data.DataLoader(dataset_test, batch_size=64,\n",
    "                                            num_workers=2, pin_memory=True)\n",
    "\n",
    "    test = evaluate(model, loader_test, compute_score=False, pbar=len(df[df[\"source\"] == \"unused\"]))\n",
    "    \n",
    "    targets.append(test['y_pred'])\n",
    "    \n",
    "        # Write prediction\n",
    "#     if i == 0:\n",
    "#         submit['target'] = test['y_pred'] / len(filenames)\n",
    "#     else:\n",
    "#         submit['target'] += test['y_pred'] / len(filenames)\n",
    "        \n",
    "# submit.to_csv('submission.csv', index=False)\n",
    "# print('target range [%.2f, %.2f]' % (submit['target'].min(), submit['target'].max()))\n",
    "print(\"DONE\")"
   ]
  },
  {
   "cell_type": "code",
   "execution_count": null,
   "id": "ff2a699e-7022-4408-9bb7-975f685adab8",
   "metadata": {},
   "outputs": [],
   "source": []
  },
  {
   "cell_type": "code",
   "execution_count": 40,
   "id": "c45deda4-61eb-4513-886c-6f3640365b0a",
   "metadata": {},
   "outputs": [],
   "source": [
    "def evaluate2(model, loader_val, *, compute_score=True, pbar=None):\n",
    "    \"\"\"\n",
    "    Predict and compute loss and score\n",
    "    \"\"\"\n",
    "    \n",
    "    tb = time.time()\n",
    "    was_training = model.training\n",
    "    model.eval()\n",
    "\n",
    "    loss_sum = 0.0\n",
    "    n_sum = 0\n",
    "    y_all = []\n",
    "    y_pred_all = []\n",
    "\n",
    "    if pbar is not None:\n",
    "        pbar = tqdm(desc='Predict', nrows=78, total=pbar)\n",
    "\n",
    "    for img, freq, mean0, std0, mean1, std1, y in loader_val:\n",
    "        n = y.size(0)\n",
    "        img = img.to(device)\n",
    "        y = y.to(device)\n",
    "        freq = freq.to(device)\n",
    "        mean0 = mean0.to(device)\n",
    "        std0 = std0.to(device)\n",
    "        mean1 = mean1.to(device)\n",
    "        std1 = std1.to(device)\n",
    "\n",
    "        with torch.no_grad():\n",
    "#             y_pred = model(img, freq)\n",
    "            y_pred1,y_pred2,y_pred3,y_pred4,y_pred5,y_pred6,y_pred7,y_pred8,y_pred9,y_pred10 = model(img, freq, mean0, std0, mean1, std1)        \n",
    "            y_pred = (y_pred1 + y_pred2 + y_pred3 + y_pred4 + y_pred5 + y_pred6 + y_pred7 + y_pred8 + y_pred9 + y_pred10) / 10.0\n",
    "        \n",
    "#         loss = criterion(y_pred[:,0].view(-1), y) + msecriterion(y_pred[:,1].view(-1).sigmoid(), y)\n",
    "\n",
    "        n_sum += n\n",
    "#         loss_sum += n * loss.item()\n",
    "\n",
    "        y_all.append(y.cpu().detach().numpy())\n",
    "        y_pred_all.append(y_pred.cpu().detach().numpy())\n",
    "#         y_pred_all.append(y_pred[:,0].sigmoid().squeeze().cpu().detach().numpy())\n",
    "#         y_pred_all.append(y_pred.squeeze().cpu().detach().numpy())\n",
    "\n",
    "        if pbar is not None:\n",
    "            pbar.update(len(img))\n",
    "        \n",
    "        del y_pred, img, y\n",
    "\n",
    "#     loss_val = loss_sum / n_sum\n",
    "\n",
    "#     if compute_score:\n",
    "#         if y_pred_all[0].size != y_pred_all[-1].size:\n",
    "#             y_pred_all = y_pred_all[:-2]\n",
    "#             y_all = y_all[:-2]\n",
    "    \n",
    "    y = np.concatenate(y_all)\n",
    "    y_pred = np.concatenate(y_pred_all)\n",
    "\n",
    "#     score = roc_auc_score(y, y_pred) if compute_score else None\n",
    "\n",
    "    ret = {'y': y,\n",
    "           'y_pred': y_pred,\n",
    "           'time': time.time() - tb}\n",
    "    \n",
    "    model.train(was_training)  # back to train from eval if necessary\n",
    "\n",
    "    return ret"
   ]
  },
  {
   "cell_type": "code",
   "execution_count": 41,
   "id": "ef35fce1-a232-4cc1-abea-d9ee28f3d10c",
   "metadata": {},
   "outputs": [
    {
     "data": {
      "application/vnd.jupyter.widget-view+json": {
       "model_id": "80d757254596475395ab9c2320512c55",
       "version_major": 2,
       "version_minor": 0
      },
      "text/plain": [
       "HBox(children=(FloatProgress(value=0.0, description='Predict', max=6000.0, style=ProgressStyle(description_wid…"
      ]
     },
     "metadata": {},
     "output_type": "display_data"
    },
    {
     "name": "stdout",
     "output_type": "stream",
     "text": [
      "\n"
     ]
    },
    {
     "data": {
      "application/vnd.jupyter.widget-view+json": {
       "model_id": "84f926032d604e698a73c398e15dfafb",
       "version_major": 2,
       "version_minor": 0
      },
      "text/plain": [
       "HBox(children=(FloatProgress(value=0.0, description='Predict', max=6000.0, style=ProgressStyle(description_wid…"
      ]
     },
     "metadata": {},
     "output_type": "display_data"
    },
    {
     "name": "stdout",
     "output_type": "stream",
     "text": [
      "DONE\n"
     ]
    }
   ],
   "source": [
    "model_name = 'tf_efficientnet_b7_ns'\n",
    "# submit = pd.read_csv('./sample_submission.csv')\n",
    "model = Model(model_name, pretrained=False)\n",
    "model.to(device);\n",
    "\n",
    "filenames = [\"model0_16\", \"model0_16_final\"]\n",
    "\n",
    "full_targets =[]\n",
    "\n",
    "for i in range(len(filenames)):\n",
    "    \n",
    "    model = Model(model_name, pretrained=False)\n",
    "    ffname = filenames[i]\n",
    "    filename = f'./{ffname}.pytorch'\n",
    "    \n",
    "    model.to(device)\n",
    "    model.load_state_dict(torch.load(filename, map_location=device))\n",
    "    model.fc[4] = torch.nn.Identity()\n",
    "    model.eval()\n",
    "\n",
    "    # Predict\n",
    "    dataset_test = Dataset('train', df[df[\"source\"] == \"unused\"], tfms=False)\n",
    "#     dataset_test = Dataset('test', submit)\n",
    "    loader_test = torch.utils.data.DataLoader(dataset_test, batch_size=64,\n",
    "                                            num_workers=2, pin_memory=True)\n",
    "\n",
    "    test = evaluate2(model, loader_test, compute_score=False, pbar=len(df[df[\"source\"] == \"unused\"]))\n",
    "    \n",
    "    full_targets.append(test['y_pred'])\n",
    "    \n",
    "print(\"DONE\")"
   ]
  },
  {
   "cell_type": "code",
   "execution_count": 44,
   "id": "6e26301b-40b1-497a-a0fe-cc8c3a747a30",
   "metadata": {},
   "outputs": [
    {
     "data": {
      "text/plain": [
       "(256,)"
      ]
     },
     "execution_count": 44,
     "metadata": {},
     "output_type": "execute_result"
    }
   ],
   "source": [
    "full_targets[0][0].shape"
   ]
  },
  {
   "cell_type": "code",
   "execution_count": 50,
   "id": "a30e01d8-3a1f-4633-813a-017ea33b0153",
   "metadata": {},
   "outputs": [],
   "source": [
    "np.save(\"./unused_so_far_targets/16_targets.npy\", np.array(targets))"
   ]
  },
  {
   "cell_type": "code",
   "execution_count": 51,
   "id": "e7e11100-f773-4ae7-9a24-5491aedfe7e8",
   "metadata": {},
   "outputs": [],
   "source": [
    "np.save(\"./unused_so_far_targets/16_full_targets.npy\", np.array(full_targets))"
   ]
  },
  {
   "cell_type": "code",
   "execution_count": null,
   "id": "ea8d6371-adc0-4396-a1ac-d2a269c87753",
   "metadata": {},
   "outputs": [],
   "source": []
  },
  {
   "cell_type": "code",
   "execution_count": null,
   "id": "97f1a3a3-15b5-4e3a-a8af-7a6dc73d8644",
   "metadata": {},
   "outputs": [],
   "source": []
  },
  {
   "cell_type": "code",
   "execution_count": 10,
   "id": "c6d4bbf1-3a3c-4d10-9243-181948f7da81",
   "metadata": {},
   "outputs": [],
   "source": [
    "bestsub = pd.read_csv(\"./sub748_plus_5fold.csv\")\n",
    "for rowi, row in bestsub.iterrows():\n",
    "    df = df.append({\"id\": row[\"id\"], \n",
    "                    \"target\": 1, \n",
    "                    \"source\": \"test\"}, ignore_index=True)"
   ]
  },
  {
   "cell_type": "code",
   "execution_count": 11,
   "id": "92c02805-b270-4dfa-a33e-6d792af3a865",
   "metadata": {},
   "outputs": [
    {
     "data": {
      "text/plain": [
       "7975"
      ]
     },
     "execution_count": 11,
     "metadata": {},
     "output_type": "execute_result"
    }
   ],
   "source": [
    "len(df[df[\"source\"] == \"test\"])"
   ]
  },
  {
   "cell_type": "code",
   "execution_count": 12,
   "id": "222ba284-c5d4-48f0-8aa9-c3c237469c82",
   "metadata": {},
   "outputs": [
    {
     "data": {
      "application/vnd.jupyter.widget-view+json": {
       "model_id": "ddc1ad99d1374aaf9c74b83abd20553f",
       "version_major": 2,
       "version_minor": 0
      },
      "text/plain": [
       "HBox(children=(FloatProgress(value=0.0, description='Predict', max=7975.0, style=ProgressStyle(description_wid…"
      ]
     },
     "metadata": {},
     "output_type": "display_data"
    },
    {
     "name": "stdout",
     "output_type": "stream",
     "text": [
      "\n"
     ]
    },
    {
     "data": {
      "application/vnd.jupyter.widget-view+json": {
       "model_id": "0c20363c093748029e4c811ccc95e30d",
       "version_major": 2,
       "version_minor": 0
      },
      "text/plain": [
       "HBox(children=(FloatProgress(value=0.0, description='Predict', max=7975.0, style=ProgressStyle(description_wid…"
      ]
     },
     "metadata": {},
     "output_type": "display_data"
    },
    {
     "name": "stdout",
     "output_type": "stream",
     "text": [
      "DONE\n"
     ]
    }
   ],
   "source": [
    "model_name = 'tf_efficientnet_b7_ns'\n",
    "# submit = pd.read_csv('./sample_submission.csv')\n",
    "model = Model(model_name, pretrained=False)\n",
    "model.to(device);\n",
    "\n",
    "filenames = [\"model0_16\", \"model0_16_final\"]\n",
    "\n",
    "targets =[]\n",
    "\n",
    "for i in range(len(filenames)):\n",
    "    \n",
    "    model = Model(model_name, pretrained=False)\n",
    "    ffname = filenames[i]\n",
    "    filename = f'./{ffname}.pytorch'\n",
    "    \n",
    "    model.to(device)\n",
    "    model.load_state_dict(torch.load(filename, map_location=device))\n",
    "    model.eval()\n",
    "\n",
    "    # Predict\n",
    "    dataset_test = Dataset('train', df[df[\"source\"] == \"test\"], tfms=False)\n",
    "#     dataset_test = Dataset('test', submit)\n",
    "    loader_test = torch.utils.data.DataLoader(dataset_test, batch_size=64,\n",
    "                                            num_workers=2, pin_memory=True)\n",
    "\n",
    "    test = evaluate(model, loader_test, compute_score=False, pbar=len(df[df[\"source\"] == \"test\"]))\n",
    "    \n",
    "    targets.append(test['y_pred'])\n",
    "print(\"DONE\")\n"
   ]
  },
  {
   "cell_type": "code",
   "execution_count": 13,
   "id": "2aacc437-cdd2-4896-9212-4aee4409433a",
   "metadata": {},
   "outputs": [
    {
     "name": "stdout",
     "output_type": "stream",
     "text": [
      "2 7975 0.32422236\n"
     ]
    }
   ],
   "source": [
    "print(len(targets), len(targets[0]), targets[0][0])"
   ]
  },
  {
   "cell_type": "code",
   "execution_count": 14,
   "id": "e227b6fc-e004-41a3-b72b-42893bdd499d",
   "metadata": {},
   "outputs": [
    {
     "data": {
      "text/plain": [
       "Sequential(\n",
       "  (0): Linear(in_features=2563, out_features=512, bias=True)\n",
       "  (1): GELU(approximate=none)\n",
       "  (2): Linear(in_features=512, out_features=256, bias=True)\n",
       "  (3): GELU(approximate=none)\n",
       "  (4): Linear(in_features=256, out_features=2, bias=True)\n",
       ")"
      ]
     },
     "execution_count": 14,
     "metadata": {},
     "output_type": "execute_result"
    }
   ],
   "source": [
    "model.fc"
   ]
  },
  {
   "cell_type": "code",
   "execution_count": 15,
   "id": "3411cd28-8ed4-4d0c-827d-e906ddd042a0",
   "metadata": {},
   "outputs": [],
   "source": [
    "def evaluate2(model, loader_val, *, compute_score=True, pbar=None):\n",
    "    \"\"\"\n",
    "    Predict and compute loss and score\n",
    "    \"\"\"\n",
    "    \n",
    "    tb = time.time()\n",
    "    was_training = model.training\n",
    "    model.eval()\n",
    "\n",
    "    loss_sum = 0.0\n",
    "    n_sum = 0\n",
    "    y_all = []\n",
    "    y_pred_all = []\n",
    "\n",
    "    if pbar is not None:\n",
    "        pbar = tqdm(desc='Predict', nrows=78, total=pbar)\n",
    "\n",
    "    for img, freq, mean0, std0, mean1, std1, y in loader_val:\n",
    "        n = y.size(0)\n",
    "        img = img.to(device)\n",
    "        y = y.to(device)\n",
    "        freq = freq.to(device)\n",
    "        mean0 = mean0.to(device)\n",
    "        std0 = std0.to(device)\n",
    "        mean1 = mean1.to(device)\n",
    "        std1 = std1.to(device)\n",
    "\n",
    "        with torch.no_grad():\n",
    "#             y_pred = model(img, freq)\n",
    "            y_pred1,y_pred2,y_pred3,y_pred4,y_pred5,y_pred6,y_pred7,y_pred8,y_pred9,y_pred10 = model(img, freq, mean0, std0, mean1, std1)        \n",
    "            y_pred = (y_pred1 + y_pred2 + y_pred3 + y_pred4 + y_pred5 + y_pred6 + y_pred7 + y_pred8 + y_pred9 + y_pred10) / 10.0\n",
    "\n",
    "        n_sum += n\n",
    "\n",
    "        y_all.append(y.cpu().detach().numpy())\n",
    "        y_pred_all.append(y_pred.cpu().detach().numpy())\n",
    "\n",
    "        if pbar is not None:\n",
    "            pbar.update(len(img))\n",
    "        \n",
    "        del y_pred, img, y\n",
    "        \n",
    "    y = np.concatenate(y_all)\n",
    "    y_pred = np.concatenate(y_pred_all)\n",
    "\n",
    "    ret = {'y': y,\n",
    "           'y_pred': y_pred,\n",
    "           'time': time.time() - tb}\n",
    "    \n",
    "    model.train(was_training)  # back to train from eval if necessary\n",
    "\n",
    "    return ret"
   ]
  },
  {
   "cell_type": "code",
   "execution_count": 16,
   "id": "af00ffc2-0c7e-40e9-97db-c0f60c18ba4d",
   "metadata": {},
   "outputs": [
    {
     "name": "stdout",
     "output_type": "stream",
     "text": [
      "\n"
     ]
    },
    {
     "data": {
      "application/vnd.jupyter.widget-view+json": {
       "model_id": "069831d378b44eedaf9c4159051df2e5",
       "version_major": 2,
       "version_minor": 0
      },
      "text/plain": [
       "HBox(children=(FloatProgress(value=0.0, description='Predict', max=7975.0, style=ProgressStyle(description_wid…"
      ]
     },
     "metadata": {},
     "output_type": "display_data"
    },
    {
     "name": "stdout",
     "output_type": "stream",
     "text": [
      "\n"
     ]
    },
    {
     "data": {
      "application/vnd.jupyter.widget-view+json": {
       "model_id": "06ecfc4542534946b72a2ba92e90fe25",
       "version_major": 2,
       "version_minor": 0
      },
      "text/plain": [
       "HBox(children=(FloatProgress(value=0.0, description='Predict', max=7975.0, style=ProgressStyle(description_wid…"
      ]
     },
     "metadata": {},
     "output_type": "display_data"
    },
    {
     "name": "stdout",
     "output_type": "stream",
     "text": [
      "DONE\n"
     ]
    }
   ],
   "source": [
    "model_name = 'tf_efficientnet_b7_ns'\n",
    "# submit = pd.read_csv('./sample_submission.csv')\n",
    "model = Model(model_name, pretrained=False)\n",
    "model.to(device);\n",
    "\n",
    "filenames = [\"model0_16\", \"model0_16_final\"]\n",
    "\n",
    "full_targets =[]\n",
    "\n",
    "for i in range(len(filenames)):\n",
    "    \n",
    "    model = Model(model_name, pretrained=False)\n",
    "    ffname = filenames[i]\n",
    "    filename = f'./{ffname}.pytorch'\n",
    "    \n",
    "    model.to(device)\n",
    "    model.load_state_dict(torch.load(filename, map_location=device))\n",
    "    model.fc[4] = torch.nn.Identity()\n",
    "    model.eval()\n",
    "\n",
    "    # Predict\n",
    "    dataset_test = Dataset('train', df[df[\"source\"] == \"test\"], tfms=False)\n",
    "#     dataset_test = Dataset('test', submit)\n",
    "    loader_test = torch.utils.data.DataLoader(dataset_test, batch_size=64,\n",
    "                                            num_workers=2, pin_memory=True)\n",
    "\n",
    "    test = evaluate2(model, loader_test, compute_score=False, pbar=len(df[df[\"source\"] == \"test\"]))\n",
    "    \n",
    "    full_targets.append(test['y_pred'])\n",
    "    \n",
    "print(\"DONE\")"
   ]
  },
  {
   "cell_type": "code",
   "execution_count": 17,
   "id": "d7fbebc1-41c0-41b4-af34-7e4256d22d7b",
   "metadata": {},
   "outputs": [
    {
     "data": {
      "text/plain": [
       "(7975, 256)"
      ]
     },
     "execution_count": 17,
     "metadata": {},
     "output_type": "execute_result"
    }
   ],
   "source": [
    "full_targets[0].shape"
   ]
  },
  {
   "cell_type": "code",
   "execution_count": 18,
   "id": "5255f773-c382-454b-a3e3-22614f1e7656",
   "metadata": {},
   "outputs": [
    {
     "data": {
      "text/plain": [
       "(256,)"
      ]
     },
     "execution_count": 18,
     "metadata": {},
     "output_type": "execute_result"
    }
   ],
   "source": [
    "full_targets[0][0].shape"
   ]
  },
  {
   "cell_type": "code",
   "execution_count": null,
   "id": "fcd5b56e-6c52-44f3-a0b9-4274c5f03e89",
   "metadata": {},
   "outputs": [],
   "source": []
  },
  {
   "cell_type": "code",
   "execution_count": 19,
   "id": "25fb4345-524f-446d-8f5e-9d01e0c05796",
   "metadata": {},
   "outputs": [],
   "source": [
    "\n",
    "np.save(\"./unused_so_far_targets/16_test_targets.npy\", np.array(targets))\n",
    "np.save(\"./unused_so_far_targets/16_test_full_targets.npy\", np.array(full_targets))\n"
   ]
  },
  {
   "cell_type": "code",
   "execution_count": null,
   "id": "dce8158f-e845-4741-8b92-b4d990acbd2d",
   "metadata": {},
   "outputs": [],
   "source": []
  },
  {
   "cell_type": "code",
   "execution_count": null,
   "id": "09809d41-3514-435a-81f6-0e685446d5b4",
   "metadata": {},
   "outputs": [],
   "source": []
  }
 ],
 "metadata": {
  "kernelspec": {
   "display_name": "Python 3.9.13 64-bit ('kumatable')",
   "language": "python",
   "name": "python3"
  },
  "language_info": {
   "codemirror_mode": {
    "name": "ipython",
    "version": 3
   },
   "file_extension": ".py",
   "mimetype": "text/x-python",
   "name": "python",
   "nbconvert_exporter": "python",
   "pygments_lexer": "ipython3",
   "version": "3.9.13"
  },
  "vscode": {
   "interpreter": {
    "hash": "c7140763287251ef150c0ffc9c9001f635733eed11fbbe854b3e0e34c10d959e"
   }
  }
 },
 "nbformat": 4,
 "nbformat_minor": 5
}
