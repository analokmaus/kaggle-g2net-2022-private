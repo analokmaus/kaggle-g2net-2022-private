{
 "cells": [
  {
   "cell_type": "code",
   "execution_count": 2,
   "id": "e2b279f7",
   "metadata": {},
   "outputs": [],
   "source": [
    "import os\n",
    "import h5py\n",
    "import numpy as np\n",
    "import pandas as pd\n",
    "import matplotlib.pyplot as plt\n",
    "from tqdm.notebook import tqdm\n",
    "import random\n",
    "import torch\n",
    "import pickle\n",
    "from scipy.stats import binned_statistic"
   ]
  },
  {
   "cell_type": "code",
   "execution_count": 3,
   "id": "9736c2bd",
   "metadata": {},
   "outputs": [],
   "source": [
    "LABELS = '/media/iafoss/New Volume/ML/G2Net2022/data/_labels.csv'\n",
    "DATA = '/media/iafoss/New Volume/ML/G2Net2022/data/train'\n",
    "OUT = '/media/iafoss/New Volume/ML/G2Net2022/data/train.pickle'\n",
    "\n",
    "nbins=128"
   ]
  },
  {
   "cell_type": "code",
   "execution_count": null,
   "id": "90b77f3c",
   "metadata": {},
   "outputs": [],
   "source": [
    "def extract_data_from_hdf5(path):\n",
    "    data = {}\n",
    "    with h5py.File(path, \"r\") as f:\n",
    "        ID_key = list(f.keys())[0]\n",
    "        # Retrieve the frequency data\n",
    "        data['freq'] = np.array(f[ID_key]['frequency_Hz'])\n",
    "        # Retrieve the Livingston decector data\n",
    "        data['L1_SFTs_amplitudes'] = np.array(f[ID_key]['L1']['SFTs'])\n",
    "        data['L1_ts'] = np.array(f[ID_key]['L1']['timestamps_GPS'])\n",
    "        # Retrieve the Hanford decector data\n",
    "        data['H1_SFTs_amplitudes'] = np.array(f[ID_key]['H1']['SFTs'])\n",
    "        data['H1_ts'] = np.array(f[ID_key]['H1']['timestamps_GPS'])\n",
    "    return data\n",
    "\n",
    "df = pd.read_csv(LABELS)\n",
    "dataset = {}\n",
    "for index,row in tqdm(df.iterrows(),total=len(df)):\n",
    "    idx = row['id']\n",
    "    target = row['target']\n",
    "    data = extract_data_from_hdf5(os.path.join(DATA,idx+'.hdf5'))\n",
    "    time_ids = {'H1':data['H1_ts'], 'L1':data['L1_ts']}\n",
    "    \n",
    "    mean_statH = binned_statistic(time_ids['H1'], np.abs(data['H1_SFTs_amplitudes']*1e22)**2,\n",
    "        statistic='mean', bins=nbins, \n",
    "        range=(max(time_ids['H1'].min(),time_ids['L1'].min()),\n",
    "        min(time_ids['H1'].max(),time_ids['L1'].max())))\n",
    "    mean_statL = binned_statistic(time_ids['L1'], np.abs(data['L1_SFTs_amplitudes']*1e22)**2,\n",
    "        statistic='mean', bins=nbins, \n",
    "        range=(max(time_ids['H1'].min(),time_ids['L1'].min()),\n",
    "        min(time_ids['H1'].max(),time_ids['L1'].max())))\n",
    "    mean_statH = np.nan_to_num(np.transpose(mean_statH.statistic,(0,1)))\n",
    "    mean_statL = np.nan_to_num(np.transpose(mean_statL.statistic,(0,1)))\n",
    "    \n",
    "    n_statH = binned_statistic(time_ids['H1'], np.ones((1,len(time_ids['H1']))), statistic='sum', bins=nbins, \n",
    "        range=(max(time_ids['H1'].min(),time_ids['L1'].min()),\n",
    "        min(time_ids['H1'].max(),time_ids['L1'].max())))\n",
    "    n_statL = binned_statistic(time_ids['L1'], np.ones((1,len(time_ids['L1']))), statistic='sum', bins=nbins, \n",
    "        range=(max(time_ids['H1'].min(),time_ids['L1'].min()),\n",
    "        min(time_ids['H1'].max(),time_ids['L1'].max())))\n",
    "    n_statH = np.nan_to_num(n_statH.statistic)[0].astype(int)\n",
    "    n_statL = np.nan_to_num(n_statL.statistic)[0].astype(int)\n",
    "    \n",
    "    dataset[idx] = {'H1':mean_statH,'L1':mean_statL,'H1_ts':n_statH, 'L1_ts':n_statL}\n",
    "\n",
    "with open('data/gwaves_train_v5.pickle', 'wb') as handle:\n",
    "    pickle.dump(dataset, handle, protocol=pickle.HIGHEST_PROTOCOL)"
   ]
  },
  {
   "cell_type": "code",
   "execution_count": 16,
   "id": "3fea260b",
   "metadata": {},
   "outputs": [
    {
     "data": {
      "application/vnd.jupyter.widget-view+json": {
       "model_id": "42e339dc73d749bab787f0edc6e537bf",
       "version_major": 2,
       "version_minor": 0
      },
      "text/plain": [
       "  0%|          | 0/7975 [00:00<?, ?it/s]"
      ]
     },
     "metadata": {},
     "output_type": "display_data"
    },
    {
     "data": {
      "text/html": [
       "<div>\n",
       "<style scoped>\n",
       "    .dataframe tbody tr th:only-of-type {\n",
       "        vertical-align: middle;\n",
       "    }\n",
       "\n",
       "    .dataframe tbody tr th {\n",
       "        vertical-align: top;\n",
       "    }\n",
       "\n",
       "    .dataframe thead th {\n",
       "        text-align: right;\n",
       "    }\n",
       "</style>\n",
       "<table border=\"1\" class=\"dataframe\">\n",
       "  <thead>\n",
       "    <tr style=\"text-align: right;\">\n",
       "      <th></th>\n",
       "      <th>id</th>\n",
       "      <th>std_flag</th>\n",
       "    </tr>\n",
       "  </thead>\n",
       "  <tbody>\n",
       "    <tr>\n",
       "      <th>0</th>\n",
       "      <td>00054c878</td>\n",
       "      <td>0</td>\n",
       "    </tr>\n",
       "    <tr>\n",
       "      <th>1</th>\n",
       "      <td>0007285a3</td>\n",
       "      <td>0</td>\n",
       "    </tr>\n",
       "    <tr>\n",
       "      <th>2</th>\n",
       "      <td>00076c5a6</td>\n",
       "      <td>0</td>\n",
       "    </tr>\n",
       "    <tr>\n",
       "      <th>3</th>\n",
       "      <td>001349290</td>\n",
       "      <td>0</td>\n",
       "    </tr>\n",
       "    <tr>\n",
       "      <th>4</th>\n",
       "      <td>001a52e92</td>\n",
       "      <td>0</td>\n",
       "    </tr>\n",
       "  </tbody>\n",
       "</table>\n",
       "</div>"
      ],
      "text/plain": [
       "          id  std_flag\n",
       "0  00054c878         0\n",
       "1  0007285a3         0\n",
       "2  00076c5a6         0\n",
       "3  001349290         0\n",
       "4  001a52e92         0"
      ]
     },
     "execution_count": 16,
     "metadata": {},
     "output_type": "execute_result"
    }
   ],
   "source": [
    "#test data\n",
    "std_flags, std_est = {},[]\n",
    "for fname in tqdm([f for f in os.listdir('/media/iafoss/New Volume/ML/G2Net2022/data/test')]):\n",
    "    fidx = fname.split('.')[0]\n",
    "    data = extract_data_from_hdf5(os.path.join('/media/iafoss/New Volume/ML/G2Net2022/data/test',fname))\n",
    "    std_H = np.abs(data['H1_SFTs_amplitudes']*1e22).std()\n",
    "    std_L = np.abs(data['L1_SFTs_amplitudes']*1e22).std()\n",
    "    #train min,max,mean: 0.69375944,0.6990975,0.6950916\n",
    "    f0 = std_H < 0.693 or std_H > 0.700 # find nonstationary noise cases\n",
    "    f1 = std_L < 0.693 or std_L > 0.700\n",
    "    std_flags[fidx] = int(f0) + 2*int(f1)\n",
    "    if f0 == 0 and f1 == 0: continue \n",
    "    \n",
    "    time_ids = {'H1':data['H1_ts'], 'L1':data['L1_ts']}    \n",
    "    std_H = 0.5*((data['H1_SFTs_amplitudes'].real*1e22).std(0)**2 + \n",
    "             (data['H1_SFTs_amplitudes'].imag*1e22).std(0)**2)\n",
    "    std_statH = binned_statistic(time_ids['H1'], std_H,\n",
    "            statistic='mean', bins=nbins, \n",
    "            range=(max(time_ids['H1'].min(),time_ids['L1'].min()),\n",
    "            min(time_ids['H1'].max(),time_ids['L1'].max())))\n",
    "    std_statH = np.nan_to_num(std_statH.statistic**0.5,nan=1.0)\n",
    "    \n",
    "    std_L = 0.5*((data['L1_SFTs_amplitudes'].real*1e22).std(0)**2 + \n",
    "             (data['L1_SFTs_amplitudes'].imag*1e22).std(0)**2)\n",
    "    std_statL = binned_statistic(time_ids['L1'], std_L,\n",
    "            statistic='mean', bins=nbins, \n",
    "            range=(max(time_ids['H1'].min(),time_ids['L1'].min()),\n",
    "            min(time_ids['H1'].max(),time_ids['L1'].max())))\n",
    "    std_statL = np.nan_to_num(std_statL.statistic**0.5,nan=1.0)\n",
    "    \n",
    "    n_statH = binned_statistic(time_ids['H1'], np.ones((1,len(time_ids['H1']))), statistic='sum', bins=nbins, \n",
    "        range=(max(time_ids['H1'].min(),time_ids['L1'].min()),\n",
    "        min(time_ids['H1'].max(),time_ids['L1'].max())))\n",
    "    n_statL = binned_statistic(time_ids['L1'], np.ones((1,len(time_ids['L1']))), statistic='sum', bins=nbins, \n",
    "        range=(max(time_ids['H1'].min(),time_ids['L1'].min()),\n",
    "        min(time_ids['H1'].max(),time_ids['L1'].max())))\n",
    "    n_statH = np.nan_to_num(n_statH.statistic)[0].astype(int)\n",
    "    n_statL = np.nan_to_num(n_statL.statistic)[0].astype(int)\n",
    "    \n",
    "    std_est.append({'H1_std':std_statH,'L1_std':std_statL,'H1_ts':n_statH, 'L1_ts':n_statL})\n",
    "\n",
    "with open('data/real_noise_std.pickle', 'wb') as handle:\n",
    "    pickle.dump(std_est, handle, protocol=pickle.HIGHEST_PROTOCOL)\n",
    "    \n",
    "df_test_std = pd.DataFrame({'id':std_flags.keys(),'std_flag':std_flags.values()})\n",
    "df_test_std.to_csv('data/test_std.csv',index=False)\n",
    "df_test_std.head()"
   ]
  },
  {
   "cell_type": "code",
   "execution_count": 18,
   "id": "dd3c1859",
   "metadata": {},
   "outputs": [
    {
     "data": {
      "text/plain": [
       "[<matplotlib.lines.Line2D at 0x7f71f6b18bb0>]"
      ]
     },
     "execution_count": 18,
     "metadata": {},
     "output_type": "execute_result"
    },
    {
     "data": {
      "image/png": "[encoded data removed]",
      "text/plain": [
       "<Figure size 432x288 with 1 Axes>"
      ]
     },
     "metadata": {
      "needs_background": "light"
     },
     "output_type": "display_data"
    }
   ],
   "source": [
    "with open('data/real_noise_std.pickle', 'rb') as handle:\n",
    "    std_est = pickle.load(handle)\n",
    "\n",
    "i=0\n",
    "plt.plot(std_est[i]['H1_std'])\n",
    "plt.plot(std_est[i]['L1_std'])"
   ]
  },
  {
   "cell_type": "code",
   "execution_count": 19,
   "id": "088da4cd",
   "metadata": {},
   "outputs": [
    {
     "data": {
      "application/vnd.jupyter.widget-view+json": {
       "model_id": "80532f892a7b4da9a569a7f17735685e",
       "version_major": 2,
       "version_minor": 0
      },
      "text/plain": [
       "  0%|          | 0/603 [00:00<?, ?it/s]"
      ]
     },
     "metadata": {},
     "output_type": "display_data"
    },
    {
     "data": {
      "application/vnd.jupyter.widget-view+json": {
       "model_id": "59e8116fa0134833998a2cd67de28c5c",
       "version_major": 2,
       "version_minor": 0
      },
      "text/plain": [
       "  0%|          | 0/7975 [00:00<?, ?it/s]"
      ]
     },
     "metadata": {},
     "output_type": "display_data"
    }
   ],
   "source": [
    "import os\n",
    "import h5py\n",
    "import pickle\n",
    "\n",
    "paths = ['/media/iafoss/New Volume/ML/G2Net2022/data/train',\n",
    "         '/media/iafoss/New Volume/ML/G2Net2022/data/test']\n",
    "\n",
    "def get_ts(idx):\n",
    "    data = {}\n",
    "    path = os.path.join(p)\n",
    "    with h5py.File(path, \"r\") as f:\n",
    "        ID_key = list(f.keys())[0]\n",
    "        data['L1_ts'] = np.array(f[ID_key]['L1']['timestamps_GPS'])\n",
    "        data['H1_ts'] = np.array(f[ID_key]['H1']['timestamps_GPS'])\n",
    "    return data\n",
    "\n",
    "timestamps_all = []\n",
    "for path in paths:\n",
    "    for p in tqdm([os.path.join(path,p) for p in os.listdir(path)]):\n",
    "        timestamps = get_ts(p)\n",
    "        if len(timestamps['L1_ts']) < 4000 or len(timestamps['H1_ts']) < 4000: continue\n",
    "        timestamps_all.append(timestamps)\n",
    "\n",
    "with open('data/timestamps_all.pickle', 'wb') as handle:\n",
    "    pickle.dump(timestamps_all, handle, protocol=pickle.HIGHEST_PROTOCOL)"
   ]
  },
  {
   "cell_type": "code",
   "execution_count": null,
   "id": "83433e18",
   "metadata": {},
   "outputs": [],
   "source": []
  },
  {
   "cell_type": "code",
   "execution_count": null,
   "id": "2a0eb3af",
   "metadata": {},
   "outputs": [],
   "source": []
  },
  {
   "cell_type": "code",
   "execution_count": null,
   "id": "07740eff",
   "metadata": {},
   "outputs": [],
   "source": []
  }
 ],
 "metadata": {
  "kernelspec": {
   "display_name": "fastai2.5",
   "language": "python",
   "name": "fastai2.5"
  },
  "language_info": {
   "codemirror_mode": {
    "name": "ipython",
    "version": 3
   },
   "file_extension": ".py",
   "mimetype": "text/x-python",
   "name": "python",
   "nbconvert_exporter": "python",
   "pygments_lexer": "ipython3",
   "version": "3.8.11"
  }
 },
 "nbformat": 4,
 "nbformat_minor": 5
}
