{
 "cells": [
  {
   "cell_type": "code",
   "execution_count": 1,
   "id": "c5491a61",
   "metadata": {},
   "outputs": [],
   "source": [
    "%load_ext autoreload\n",
    "%autoreload 2\n",
    "\n",
    "import os\n",
    "os.environ[\"CUDA_VISIBLE_DEVICES\"]=\"1,0\""
   ]
  },
  {
   "cell_type": "code",
   "execution_count": 2,
   "id": "f5a872fc",
   "metadata": {},
   "outputs": [],
   "source": [
    "import h5py\n",
    "import numpy as np\n",
    "import matplotlib.pyplot as plt\n",
    "import torch\n",
    "import torch.nn as nn\n",
    "import torch.nn.functional as F\n",
    "import os\n",
    "import scipy.signal\n",
    "import pandas as pd\n",
    "from tqdm.notebook import tqdm\n",
    "import gc\n",
    "import pickle"
   ]
  },
  {
   "cell_type": "code",
   "execution_count": 3,
   "id": "f8de79ad",
   "metadata": {},
   "outputs": [],
   "source": [
    "#rm -r '/media/iafoss/New Volume/ML/G2Net2022/data/denoise_apr_H'"
   ]
  },
  {
   "cell_type": "code",
   "execution_count": 4,
   "id": "b6609fc4",
   "metadata": {},
   "outputs": [
    {
     "data": {
      "text/html": [
       "<div>\n",
       "<style scoped>\n",
       "    .dataframe tbody tr th:only-of-type {\n",
       "        vertical-align: middle;\n",
       "    }\n",
       "\n",
       "    .dataframe tbody tr th {\n",
       "        vertical-align: top;\n",
       "    }\n",
       "\n",
       "    .dataframe thead th {\n",
       "        text-align: right;\n",
       "    }\n",
       "</style>\n",
       "<table border=\"1\" class=\"dataframe\">\n",
       "  <thead>\n",
       "    <tr style=\"text-align: right;\">\n",
       "      <th></th>\n",
       "      <th>id</th>\n",
       "      <th>stationery</th>\n",
       "      <th>freq</th>\n",
       "    </tr>\n",
       "  </thead>\n",
       "  <tbody>\n",
       "    <tr>\n",
       "      <th>14</th>\n",
       "      <td>004f1b282</td>\n",
       "      <td>False</td>\n",
       "      <td>391.430278</td>\n",
       "    </tr>\n",
       "    <tr>\n",
       "      <th>17</th>\n",
       "      <td>006e25113</td>\n",
       "      <td>False</td>\n",
       "      <td>479.295278</td>\n",
       "    </tr>\n",
       "    <tr>\n",
       "      <th>23</th>\n",
       "      <td>008ec5560</td>\n",
       "      <td>False</td>\n",
       "      <td>317.477500</td>\n",
       "    </tr>\n",
       "    <tr>\n",
       "      <th>24</th>\n",
       "      <td>00948246a</td>\n",
       "      <td>False</td>\n",
       "      <td>227.008611</td>\n",
       "    </tr>\n",
       "    <tr>\n",
       "      <th>38</th>\n",
       "      <td>0112d6cc3</td>\n",
       "      <td>False</td>\n",
       "      <td>335.537500</td>\n",
       "    </tr>\n",
       "  </tbody>\n",
       "</table>\n",
       "</div>"
      ],
      "text/plain": [
       "           id  stationery        freq\n",
       "14  004f1b282       False  391.430278\n",
       "17  006e25113       False  479.295278\n",
       "23  008ec5560       False  317.477500\n",
       "24  00948246a       False  227.008611\n",
       "38  0112d6cc3       False  335.537500"
      ]
     },
     "execution_count": 4,
     "metadata": {},
     "output_type": "execute_result"
    }
   ],
   "source": [
    "PATH = '/media/iafoss/New Volume/ML/G2Net2022/data/test'\n",
    "PATH_EX = '/media/iafoss/New Volume/ML/G2Net2022/data/external_apr_H'\n",
    "OUT = '/media/iafoss/New Volume/ML/G2Net2022/data/denoise_apr_H'\n",
    "SOURCE = 'H1_SFTs_amplitudes'\n",
    "\n",
    "files = [os.path.join(PATH_EX,f) for f in sorted(os.listdir(PATH_EX))]\n",
    "T = 1800\n",
    "SR = 4096 #16384 # !!! change if work with 4096 SR data\n",
    "SZ = 360\n",
    "TH = 10#1.5\n",
    "os.makedirs(OUT, exist_ok=True)\n",
    "\n",
    "df = pd.read_csv('data/test_stationery.csv')\n",
    "df = df.loc[~df.stationery]\n",
    "df.head()"
   ]
  },
  {
   "cell_type": "code",
   "execution_count": 5,
   "id": "72aca04a",
   "metadata": {},
   "outputs": [],
   "source": [
    "def read_hdf5(fname):\n",
    "    with h5py.File(fname, 'r') as f:\n",
    "        strain = f['strain']['Strain'][:]\n",
    "        ts = f['strain']['Strain'].attrs['Xspacing']\n",
    "\n",
    "        metaKeys = f['meta'].keys()\n",
    "        meta = f['meta']\n",
    "        gpsStart = meta['GPSstart'][()]\n",
    "        duration = meta['Duration'][()]\n",
    "        has_nan = strain[np.isnan(strain)].size > 0\n",
    "    return {'strain':strain, 'ts':ts, \n",
    "            'gpsStart':gpsStart, 'duration':duration, 'has_nan':has_nan}\n",
    "\n",
    "def extract_data_from_hdf5(path):\n",
    "    data = {}\n",
    "    with h5py.File(path, \"r\") as f:\n",
    "        ID_key = list(f.keys())[0]\n",
    "        # Retrieve the frequency data\n",
    "        data['freq'] = np.array(f[ID_key]['frequency_Hz'])\n",
    "        # Retrieve the Livingston decector data\n",
    "        data['L1_SFTs_amplitudes'] = np.array(f[ID_key]['L1']['SFTs'])\n",
    "        data['L1_ts'] = np.array(f[ID_key]['L1']['timestamps_GPS'])\n",
    "        # Retrieve the Hanford decector data\n",
    "        data['H1_SFTs_amplitudes'] = np.array(f[ID_key]['H1']['SFTs'])\n",
    "        data['H1_ts'] = np.array(f[ID_key]['H1']['timestamps_GPS'])\n",
    "    return data\n",
    "\n",
    "class Model_FFT(nn.Module):\n",
    "    def __init__(self, N=SR*T, sr=SR):\n",
    "        super().__init__()\n",
    "        window = scipy.signal.windows.tukey(N, 0.001)\n",
    "        self.window = nn.Parameter(torch.from_numpy(window),requires_grad=False)\n",
    "        self.range = [89500,901500] #50-500 Hz\n",
    "        self.freq = (np.fft.rfftfreq(N)*sr)[self.range[0]:self.range[1]]\n",
    "        self.sr, self.N = sr, N\n",
    "        \n",
    "    def forward(self, x):\n",
    "        with torch.no_grad():\n",
    "            ys,shifts = [],[]\n",
    "            for i in range(0,x.shape[-1] - self.N, self.sr):\n",
    "                xi = x[i:i+self.N]\n",
    "                if torch.isnan(xi).any(-1): continue\n",
    "                y = torch.fft.rfft(xi*self.window)[self.range[0]:self.range[1]] / self.sr\n",
    "                y = (y*1e22).abs().float().cpu()\n",
    "                ys.append(y)\n",
    "                shifts.append(i//self.sr)\n",
    "        if len(ys) > 0: return torch.stack(ys,0), torch.LongTensor(shifts)\n",
    "        else: return None,None"
   ]
  },
  {
   "cell_type": "code",
   "execution_count": null,
   "id": "27cff631",
   "metadata": {
    "scrolled": true
   },
   "outputs": [
    {
     "name": "stdout",
     "output_type": "stream",
     "text": [
      "/media/iafoss/New Volume/ML/G2Net2022/data/external_apr_H/H-H1_GWOSC_O3a_4KHZ_R1-1238163456-4096.hdf5\n",
      "/media/iafoss/New Volume/ML/G2Net2022/data/external_apr_H/H-H1_GWOSC_O3a_4KHZ_R1-1238167552-4096.hdf5\n"
     ]
    }
   ],
   "source": [
    "fft_model = Model_FFT().cuda()\n",
    "freq = fft_model.freq\n",
    "\n",
    "data_prev = None\n",
    "for fname in files:\n",
    "    print(fname)\n",
    "    data = torch.from_numpy(read_hdf5(fname)['strain'])\n",
    "    if data_prev is not None:\n",
    "        data = torch.cat([data_prev[max(0,len(data_prev)-SR*T):],data])\n",
    "    data_prev = data\n",
    "    stfts,shifts = fft_model(data.float().cuda())\n",
    "    if stfts is None: continue\n",
    "    \n",
    "    for index, row in tqdm(df.iterrows(), total=len(df)):\n",
    "        idx = row['id']\n",
    "        data_src = extract_data_from_hdf5(os.path.join(PATH, idx+'.hdf5'))\n",
    "        freq_start = (np.abs(freq - data_src['freq'][0])).argmin()\n",
    "\n",
    "        tgt = stfts[:,freq_start:freq_start+SZ]\n",
    "        src = torch.from_numpy(np.abs(data_src[SOURCE]*1e22)).permute(1,0)\n",
    "        dists = torch.cdist(src.cuda(),tgt.cuda()).cpu()\n",
    "\n",
    "        #print(dists.min())\n",
    "        if dists.min() < TH:\n",
    "            if os.path.isfile(os.path.join(OUT,idx+'.pickle')):\n",
    "                with open(os.path.join(OUT,idx+'.pickle'), 'rb') as handle:\n",
    "                    denoised_data = pickle.load(handle)\n",
    "            else:\n",
    "                denoised_data = {}\n",
    "            \n",
    "            values,indices = dists.min(-1)\n",
    "            #print(idx, indices[values < TH], torch.where(values < TH)) ##\n",
    "            dif = (src[values < TH] - tgt[indices[values < TH]])\n",
    "            for dif_i, i in zip(dif,torch.where(values < TH)[0]):\n",
    "                denoised_data[i.item()] = dif_i.numpy()\n",
    "            with open(os.path.join(OUT,idx+'.pickle'), 'wb') as f:\n",
    "                pickle.dump(denoised_data, f, protocol=pickle.HIGHEST_PROTOCOL)\n",
    "            #break\n",
    "    del stfts\n",
    "    gc.collect()\n",
    "    #break ##"
   ]
  },
  {
   "cell_type": "code",
   "execution_count": null,
   "id": "4cfd0114",
   "metadata": {},
   "outputs": [],
   "source": []
  },
  {
   "cell_type": "code",
   "execution_count": null,
   "id": "0874a457",
   "metadata": {},
   "outputs": [],
   "source": []
  }
 ],
 "metadata": {
  "kernelspec": {
   "display_name": "g2net2022",
   "language": "python",
   "name": "python3"
  },
  "language_info": {
   "codemirror_mode": {
    "name": "ipython",
    "version": 3
   },
   "file_extension": ".py",
   "mimetype": "text/x-python",
   "name": "python",
   "nbconvert_exporter": "python",
   "pygments_lexer": "ipython3",
   "version": "3.9.12 (main, Jun  1 2022, 11:38:51) \n[GCC 7.5.0]"
  },
  "vscode": {
   "interpreter": {
    "hash": "9b7ae450e3a1ace8e76495c92e977e85382528449b6856aef58fed1fe150e2fb"
   }
  }
 },
 "nbformat": 4,
 "nbformat_minor": 5
}
